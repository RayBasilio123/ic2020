{
  "nbformat": 4,
  "nbformat_minor": 0,
  "metadata": {
    "colab": {
      "name": "Windsun_SARIMAX.ipynb",
      "provenance": [],
      "collapsed_sections": [],
      "include_colab_link": true
    },
    "kernelspec": {
      "name": "python3",
      "display_name": "Python 3"
    }
  },
  "cells": [
    {
      "cell_type": "markdown",
      "metadata": {
        "id": "view-in-github",
        "colab_type": "text"
      },
      "source": [
        "<a href=\"https://colab.research.google.com/github/RayBasilio123/ic2020/blob/main/Windsun_SARIMAX.ipynb\" target=\"_parent\"><img src=\"https://colab.research.google.com/assets/colab-badge.svg\" alt=\"Open In Colab\"/></a>"
      ]
    },
    {
      "cell_type": "markdown",
      "metadata": {
        "id": "VLWTPcsAGD6k"
      },
      "source": [
        "# Algoritmo SARIMAX para Previsão de Séries Temporais com base nos dados do INMET"
      ]
    },
    {
      "cell_type": "markdown",
      "metadata": {
        "id": "CCEFUrZfGINS"
      },
      "source": [
        "## Obtendo os dados atráves do github"
      ]
    },
    {
      "cell_type": "code",
      "metadata": {
        "id": "hS9G-1VYF9si"
      },
      "source": [
        "#imports\n",
        "import pandas as pd\n",
        "import numpy as np\n",
        "from datetime import timedelta\n",
        "import statsmodels.api as sm"
      ],
      "execution_count": null,
      "outputs": []
    },
    {
      "cell_type": "code",
      "metadata": {
        "id": "g-4RWNzcGLGB"
      },
      "source": [
        "#obtem os dados\n",
        "url1 = 'https://raw.githubusercontent.com/lrssv/TimeSeriesForecastingWindSun/master/series_ventovel_pampulha_2018_2019'\n",
        "url2 = 'https://raw.githubusercontent.com/lrssv/TimeSeriesForecastingWindSun/master/series_radiacao_pampulha_2018_2019'\n",
        "url3 = 'https://raw.githubusercontent.com/RayBasilio123/R5/master/Eto'\n",
        "url4='https://raw.githubusercontent.com/RayBasilio123/R5/master/dados%20(3)'\n",
        "df = pd.read_csv(url4)\n",
        "\n",
        "\n",
        "\n",
        "\n",
        "df_ventovel = pd.read_csv(url1, header=0, parse_dates=[0], index_col=0, squeeze=True)\n",
        "df_radiacao = pd.read_csv(url2, header=0, parse_dates=[0], index_col=0, squeeze=True)\n",
        "df_eto = pd.read_csv(url3, header=0, parse_dates=[0], index_col=0, squeeze=True)\n",
        "\n",
        "\n",
        "series_ventovel = pd.Series(df_ventovel)\n",
        "series_radiacao = pd.Series(df_radiacao)\n",
        "series_eto = pd.Series(df_eto)\n"
      ],
      "execution_count": null,
      "outputs": []
    },
    {
      "cell_type": "code",
      "metadata": {
        "id": "MIlbUPBec93I"
      },
      "source": [
        ""
      ],
      "execution_count": null,
      "outputs": []
    },
    {
      "cell_type": "markdown",
      "metadata": {
        "id": "1oCK1ZChGOpK"
      },
      "source": [
        "## SARIMAX"
      ]
    },
    {
      "cell_type": "code",
      "metadata": {
        "id": "0LmdLpz8GM7B"
      },
      "source": [
        "def run_sarimax(series,exog,steps_ahead,config_ordem,config_sazonal):\n",
        "  result = []\n",
        "  \n",
        "  #Lista de data+hora que será previsto\n",
        "  begin = series.index.max() + timedelta(days=0)\n",
        "  date_list = [begin + timedelta(hours=x) for x in range(1,steps_ahead+1)]\n",
        "  \n",
        "  #Valores da série\n",
        "  values = series.values\n",
        "  \n",
        "  #Valores da variável exogena\n",
        "  ex = exog.values\n",
        "\n",
        "  #Valores da variável exogena que será prevista\n",
        "  ex_cast = ex.reshape(-1, 1)[-steps_ahead:]\n",
        "  \n",
        "  #ARIMA\n",
        "  mod = sm.tsa.statespace.SARIMAX(values, exog=ex, order=config_ordem, seasonal_order=config_sazonal)\n",
        "  res = mod.fit(disp=False)\n",
        "  forecast = res.forecast(steps=steps_ahead, exog=ex_cast)\n",
        "\n",
        "  #Resultado no formato para ser exibido no gráfico\n",
        "  for i in range(steps_ahead):\n",
        "    if forecast[i] < 0: \n",
        "      result.append([date_list[i].strftime('%d/%m/%Y %H:%M:%S'),0])\n",
        "    else:\n",
        "      result.append([date_list[i].strftime('%d/%m/%Y %H:%M:%S'),round((forecast[i]),3)])\n",
        "\n",
        "  return result"
      ],
      "execution_count": null,
      "outputs": []
    },
    {
      "cell_type": "code",
      "metadata": {
        "id": "YcbXuVQEYOTT"
      },
      "source": [
        "def run_sarimaxDay(series,exog,steps_ahead,config_ordem,config_sazonal):\n",
        "  result = []\n",
        "  \n",
        "  #Lista de data+dia que será previsto\n",
        " \n",
        "  begin = series.index.max() + timedelta(days=0)\n",
        "  date_list = [begin + timedelta(days=x) for x in range(1,steps_ahead+1)]\n",
        "  \n",
        "  #Valores da série\n",
        "  values = series.values\n",
        "  \n",
        "  #Valores da variável exogena\n",
        "  ex = exog.values\n",
        "\n",
        "  #Valores da variável exogena que será prevista\n",
        "  ex_cast = ex.reshape(-1, 1)[-steps_ahead:]\n",
        "  \n",
        "  #ARIMA\n",
        "  mod = sm.tsa.statespace.SARIMAX(values, exog=ex, order=config_ordem, seasonal_order=config_sazonal)\n",
        "  res = mod.fit(disp=False)\n",
        "  forecast = res.forecast(steps=steps_ahead, exog=ex_cast)\n",
        "\n",
        "  #Resultado no formato para ser exibido no gráfico\n",
        "  for i in range(steps_ahead):\n",
        "    if forecast[i] < 0: \n",
        "      result.append([date_list[i].strftime('%d/%m/%Y %H:%M:%S'),0])\n",
        "    else:\n",
        "      result.append([date_list[i].strftime('%d/%m/%Y %H:%M:%S'),round((forecast[i]),3)])\n",
        "\n",
        "  return result"
      ],
      "execution_count": null,
      "outputs": []
    },
    {
      "cell_type": "code",
      "metadata": {
        "id": "sYq1ZUboG3z2"
      },
      "source": [
        "order_ven = (3,1,0) \n",
        "order_ven_sazonal = (6,0,0,4)\n",
        "order_rad = (4,0,2)\n",
        "order_rad_sazonal = (1,0,2,4)\n",
        "order_eto2 = (6, 1, 1) \n",
        "order_eto2_sazonal = (2,1,0,12)\n"
      ],
      "execution_count": null,
      "outputs": []
    },
    {
      "cell_type": "markdown",
      "metadata": {
        "id": "xYGtfzQkHWXD"
      },
      "source": [
        "## Previsão 1 hora a frente"
      ]
    },
    {
      "cell_type": "code",
      "metadata": {
        "id": "ywn_fg8mHItK",
        "colab": {
          "base_uri": "https://localhost:8080/"
        },
        "outputId": "eb78aa25-6bf0-49ab-e735-f3d9559001df"
      },
      "source": [
        "result_ven_1 = run_sarimax(series_ventovel,series_radiacao,1,order_ven, order_ven_sazonal)\n",
        "result_ven_1"
      ],
      "execution_count": null,
      "outputs": [
        {
          "output_type": "stream",
          "text": [
            "/usr/local/lib/python3.6/dist-packages/statsmodels/base/model.py:512: ConvergenceWarning: Maximum Likelihood optimization failed to converge. Check mle_retvals\n",
            "  \"Check mle_retvals\", ConvergenceWarning)\n"
          ],
          "name": "stderr"
        },
        {
          "output_type": "execute_result",
          "data": {
            "text/plain": [
              "[['01/01/2020 00:00:00', 1.526]]"
            ]
          },
          "metadata": {
            "tags": []
          },
          "execution_count": 26
        }
      ]
    },
    {
      "cell_type": "code",
      "metadata": {
        "id": "baJBWzGtQ-Fv",
        "colab": {
          "base_uri": "https://localhost:8080/"
        },
        "outputId": "7b12573c-4511-4952-8963-5eb70d22cb68"
      },
      "source": [
        "result_rad_1 = run_sarimax(series_radiacao,series_ventovel,1,order_rad,order_rad_sazonal)\n",
        "result_rad_1"
      ],
      "execution_count": null,
      "outputs": [
        {
          "output_type": "stream",
          "text": [
            "/usr/local/lib/python3.6/dist-packages/statsmodels/base/model.py:512: ConvergenceWarning: Maximum Likelihood optimization failed to converge. Check mle_retvals\n",
            "  \"Check mle_retvals\", ConvergenceWarning)\n"
          ],
          "name": "stderr"
        },
        {
          "output_type": "execute_result",
          "data": {
            "text/plain": [
              "[['01/01/2020 00:00:00', 154.076]]"
            ]
          },
          "metadata": {
            "tags": []
          },
          "execution_count": 27
        }
      ]
    },
    {
      "cell_type": "markdown",
      "metadata": {
        "id": "vtbu11f2RGTi"
      },
      "source": [
        "## Previsão 1 dia a frente"
      ]
    },
    {
      "cell_type": "code",
      "metadata": {
        "id": "OoFF0QmuROTr",
        "colab": {
          "base_uri": "https://localhost:8080/"
        },
        "outputId": "5d8dade6-d79e-4ba6-943b-f4928a78128c"
      },
      "source": [
        "result_ven_1 = run_sarimax(series_ventovel,series_radiacao,24,order_ven, order_ven_sazonal)\n",
        "result_ven_1"
      ],
      "execution_count": null,
      "outputs": [
        {
          "output_type": "stream",
          "text": [
            "/usr/local/lib/python3.6/dist-packages/statsmodels/base/model.py:512: ConvergenceWarning: Maximum Likelihood optimization failed to converge. Check mle_retvals\n",
            "  \"Check mle_retvals\", ConvergenceWarning)\n"
          ],
          "name": "stderr"
        },
        {
          "output_type": "execute_result",
          "data": {
            "text/plain": [
              "[['01/01/2020 00:00:00', 1.526],\n",
              " ['01/01/2020 01:00:00', 1.75],\n",
              " ['01/01/2020 02:00:00', 1.757],\n",
              " ['01/01/2020 03:00:00', 1.819],\n",
              " ['01/01/2020 04:00:00', 1.689],\n",
              " ['01/01/2020 05:00:00', 1.741],\n",
              " ['01/01/2020 06:00:00', 1.752],\n",
              " ['01/01/2020 07:00:00', 1.713],\n",
              " ['01/01/2020 08:00:00', 1.755],\n",
              " ['01/01/2020 09:00:00', 1.734],\n",
              " ['01/01/2020 10:00:00', 2.106],\n",
              " ['01/01/2020 11:00:00', 2.579],\n",
              " ['01/01/2020 12:00:00', 3.095],\n",
              " ['01/01/2020 13:00:00', 3.388],\n",
              " ['01/01/2020 14:00:00', 3.699],\n",
              " ['01/01/2020 15:00:00', 3.296],\n",
              " ['01/01/2020 16:00:00', 3.306],\n",
              " ['01/01/2020 17:00:00', 3.463],\n",
              " ['01/01/2020 18:00:00', 3.209],\n",
              " ['01/01/2020 19:00:00', 2.648],\n",
              " ['01/01/2020 20:00:00', 2.105],\n",
              " ['01/01/2020 21:00:00', 1.987],\n",
              " ['01/01/2020 22:00:00', 1.635],\n",
              " ['01/01/2020 23:00:00', 1.67]]"
            ]
          },
          "metadata": {
            "tags": []
          },
          "execution_count": 28
        }
      ]
    },
    {
      "cell_type": "code",
      "metadata": {
        "id": "dJT_JtaBRUsL",
        "colab": {
          "base_uri": "https://localhost:8080/"
        },
        "outputId": "80864798-64fa-44e0-dba4-e9098dee022a"
      },
      "source": [
        "result_rad_1 = run_sarimax(series_radiacao,series_ventovel,24,order_rad,order_rad_sazonal)\n",
        "result_rad_1"
      ],
      "execution_count": null,
      "outputs": [
        {
          "output_type": "stream",
          "text": [
            "/usr/local/lib/python3.6/dist-packages/statsmodels/base/model.py:512: ConvergenceWarning: Maximum Likelihood optimization failed to converge. Check mle_retvals\n",
            "  \"Check mle_retvals\", ConvergenceWarning)\n"
          ],
          "name": "stderr"
        },
        {
          "output_type": "execute_result",
          "data": {
            "text/plain": [
              "[['01/01/2020 00:00:00', 153.958],\n",
              " ['01/01/2020 01:00:00', 330.896],\n",
              " ['01/01/2020 02:00:00', 556.576],\n",
              " ['01/01/2020 03:00:00', 818.358],\n",
              " ['01/01/2020 04:00:00', 885.745],\n",
              " ['01/01/2020 05:00:00', 619.735],\n",
              " ['01/01/2020 06:00:00', 369.475],\n",
              " ['01/01/2020 07:00:00', 99.262],\n",
              " ['01/01/2020 08:00:00', 0],\n",
              " ['01/01/2020 09:00:00', 0],\n",
              " ['01/01/2020 10:00:00', 0],\n",
              " ['01/01/2020 11:00:00', 0],\n",
              " ['01/01/2020 12:00:00', 10.031],\n",
              " ['01/01/2020 13:00:00', 296.097],\n",
              " ['01/01/2020 14:00:00', 577.89],\n",
              " ['01/01/2020 15:00:00', 756.355],\n",
              " ['01/01/2020 16:00:00', 770.973],\n",
              " ['01/01/2020 17:00:00', 608.305],\n",
              " ['01/01/2020 18:00:00', 338.943],\n",
              " ['01/01/2020 19:00:00', 23.762],\n",
              " ['01/01/2020 20:00:00', 0],\n",
              " ['01/01/2020 21:00:00', 0],\n",
              " ['01/01/2020 22:00:00', 0],\n",
              " ['01/01/2020 23:00:00', 0]]"
            ]
          },
          "metadata": {
            "tags": []
          },
          "execution_count": 29
        }
      ]
    },
    {
      "cell_type": "code",
      "metadata": {
        "id": "JiOhXiJ4Z5ki",
        "colab": {
          "base_uri": "https://localhost:8080/"
        },
        "outputId": "e6ab2f82-52ae-4478-bf21-2c21e1fbdc0e"
      },
      "source": [
        "result_Eto_1= run_sarimaxDay(series_eto,series_radiacao,1,order_eto2,order_eto2_sazonal)\n",
        "result_Eto_1"
      ],
      "execution_count": null,
      "outputs": [
        {
          "output_type": "error",
          "ename": "ValueError",
          "evalue": "ignored",
          "traceback": [
            "\u001b[0;31m---------------------------------------------------------------------------\u001b[0m",
            "\u001b[0;31mValueError\u001b[0m                                Traceback (most recent call last)",
            "\u001b[0;32m<ipython-input-30-db8515b7d1ee>\u001b[0m in \u001b[0;36m<module>\u001b[0;34m()\u001b[0m\n\u001b[0;32m----> 1\u001b[0;31m \u001b[0mresult_Eto_1\u001b[0m\u001b[0;34m=\u001b[0m \u001b[0mrun_sarimaxDay\u001b[0m\u001b[0;34m(\u001b[0m\u001b[0mseries_eto\u001b[0m\u001b[0;34m,\u001b[0m\u001b[0mseries_radiacao\u001b[0m\u001b[0;34m,\u001b[0m\u001b[0;36m1\u001b[0m\u001b[0;34m,\u001b[0m\u001b[0morder_eto2\u001b[0m\u001b[0;34m,\u001b[0m\u001b[0morder_eto2_sazonal\u001b[0m\u001b[0;34m)\u001b[0m\u001b[0;34m\u001b[0m\u001b[0;34m\u001b[0m\u001b[0m\n\u001b[0m\u001b[1;32m      2\u001b[0m \u001b[0mresult_Eto_1\u001b[0m\u001b[0;34m\u001b[0m\u001b[0;34m\u001b[0m\u001b[0m\n",
            "\u001b[0;32m<ipython-input-24-c992fc05be28>\u001b[0m in \u001b[0;36mrun_sarimaxDay\u001b[0;34m(series, exog, steps_ahead, config_ordem, config_sazonal)\u001b[0m\n\u001b[1;32m     17\u001b[0m \u001b[0;34m\u001b[0m\u001b[0m\n\u001b[1;32m     18\u001b[0m   \u001b[0;31m#ARIMA\u001b[0m\u001b[0;34m\u001b[0m\u001b[0;34m\u001b[0m\u001b[0;34m\u001b[0m\u001b[0m\n\u001b[0;32m---> 19\u001b[0;31m   \u001b[0mmod\u001b[0m \u001b[0;34m=\u001b[0m \u001b[0msm\u001b[0m\u001b[0;34m.\u001b[0m\u001b[0mtsa\u001b[0m\u001b[0;34m.\u001b[0m\u001b[0mstatespace\u001b[0m\u001b[0;34m.\u001b[0m\u001b[0mSARIMAX\u001b[0m\u001b[0;34m(\u001b[0m\u001b[0mvalues\u001b[0m\u001b[0;34m,\u001b[0m \u001b[0mexog\u001b[0m\u001b[0;34m=\u001b[0m\u001b[0mex\u001b[0m\u001b[0;34m,\u001b[0m \u001b[0morder\u001b[0m\u001b[0;34m=\u001b[0m\u001b[0mconfig_ordem\u001b[0m\u001b[0;34m,\u001b[0m \u001b[0mseasonal_order\u001b[0m\u001b[0;34m=\u001b[0m\u001b[0mconfig_sazonal\u001b[0m\u001b[0;34m)\u001b[0m\u001b[0;34m\u001b[0m\u001b[0;34m\u001b[0m\u001b[0m\n\u001b[0m\u001b[1;32m     20\u001b[0m   \u001b[0mres\u001b[0m \u001b[0;34m=\u001b[0m \u001b[0mmod\u001b[0m\u001b[0;34m.\u001b[0m\u001b[0mfit\u001b[0m\u001b[0;34m(\u001b[0m\u001b[0mdisp\u001b[0m\u001b[0;34m=\u001b[0m\u001b[0;32mFalse\u001b[0m\u001b[0;34m)\u001b[0m\u001b[0;34m\u001b[0m\u001b[0;34m\u001b[0m\u001b[0m\n\u001b[1;32m     21\u001b[0m   \u001b[0mforecast\u001b[0m \u001b[0;34m=\u001b[0m \u001b[0mres\u001b[0m\u001b[0;34m.\u001b[0m\u001b[0mforecast\u001b[0m\u001b[0;34m(\u001b[0m\u001b[0msteps\u001b[0m\u001b[0;34m=\u001b[0m\u001b[0msteps_ahead\u001b[0m\u001b[0;34m,\u001b[0m \u001b[0mexog\u001b[0m\u001b[0;34m=\u001b[0m\u001b[0mex_cast\u001b[0m\u001b[0;34m)\u001b[0m\u001b[0;34m\u001b[0m\u001b[0;34m\u001b[0m\u001b[0m\n",
            "\u001b[0;32m/usr/local/lib/python3.6/dist-packages/statsmodels/tsa/statespace/sarimax.py\u001b[0m in \u001b[0;36m__init__\u001b[0;34m(self, endog, exog, order, seasonal_order, trend, measurement_error, time_varying_regression, mle_regression, simple_differencing, enforce_stationarity, enforce_invertibility, hamilton_representation, concentrate_scale, **kwargs)\u001b[0m\n\u001b[1;32m    523\u001b[0m         \u001b[0;31m# Initialize the statespace\u001b[0m\u001b[0;34m\u001b[0m\u001b[0;34m\u001b[0m\u001b[0;34m\u001b[0m\u001b[0m\n\u001b[1;32m    524\u001b[0m         super(SARIMAX, self).__init__(\n\u001b[0;32m--> 525\u001b[0;31m             \u001b[0mendog\u001b[0m\u001b[0;34m,\u001b[0m \u001b[0mexog\u001b[0m\u001b[0;34m=\u001b[0m\u001b[0mexog\u001b[0m\u001b[0;34m,\u001b[0m \u001b[0mk_states\u001b[0m\u001b[0;34m=\u001b[0m\u001b[0mk_states\u001b[0m\u001b[0;34m,\u001b[0m \u001b[0mk_posdef\u001b[0m\u001b[0;34m=\u001b[0m\u001b[0mk_posdef\u001b[0m\u001b[0;34m,\u001b[0m \u001b[0;34m**\u001b[0m\u001b[0mkwargs\u001b[0m\u001b[0;34m\u001b[0m\u001b[0;34m\u001b[0m\u001b[0m\n\u001b[0m\u001b[1;32m    526\u001b[0m         )\n\u001b[1;32m    527\u001b[0m \u001b[0;34m\u001b[0m\u001b[0m\n",
            "\u001b[0;32m/usr/local/lib/python3.6/dist-packages/statsmodels/tsa/statespace/mlemodel.py\u001b[0m in \u001b[0;36m__init__\u001b[0;34m(self, endog, k_states, exog, dates, freq, **kwargs)\u001b[0m\n\u001b[1;32m    117\u001b[0m         super(MLEModel, self).__init__(endog=endog, exog=exog,\n\u001b[1;32m    118\u001b[0m                                        \u001b[0mdates\u001b[0m\u001b[0;34m=\u001b[0m\u001b[0mdates\u001b[0m\u001b[0;34m,\u001b[0m \u001b[0mfreq\u001b[0m\u001b[0;34m=\u001b[0m\u001b[0mfreq\u001b[0m\u001b[0;34m,\u001b[0m\u001b[0;34m\u001b[0m\u001b[0;34m\u001b[0m\u001b[0m\n\u001b[0;32m--> 119\u001b[0;31m                                        missing='none')\n\u001b[0m\u001b[1;32m    120\u001b[0m \u001b[0;34m\u001b[0m\u001b[0m\n\u001b[1;32m    121\u001b[0m         \u001b[0;31m# Store kwargs to recreate model\u001b[0m\u001b[0;34m\u001b[0m\u001b[0;34m\u001b[0m\u001b[0;34m\u001b[0m\u001b[0m\n",
            "\u001b[0;32m/usr/local/lib/python3.6/dist-packages/statsmodels/tsa/base/tsa_model.py\u001b[0m in \u001b[0;36m__init__\u001b[0;34m(self, endog, exog, dates, freq, missing, **kwargs)\u001b[0m\n\u001b[1;32m     47\u001b[0m                  missing='none', **kwargs):\n\u001b[1;32m     48\u001b[0m         super(TimeSeriesModel, self).__init__(endog, exog, missing=missing,\n\u001b[0;32m---> 49\u001b[0;31m                                               **kwargs)\n\u001b[0m\u001b[1;32m     50\u001b[0m \u001b[0;34m\u001b[0m\u001b[0m\n\u001b[1;32m     51\u001b[0m         \u001b[0;31m# Date handling in indexes\u001b[0m\u001b[0;34m\u001b[0m\u001b[0;34m\u001b[0m\u001b[0;34m\u001b[0m\u001b[0m\n",
            "\u001b[0;32m/usr/local/lib/python3.6/dist-packages/statsmodels/base/model.py\u001b[0m in \u001b[0;36m__init__\u001b[0;34m(self, endog, exog, **kwargs)\u001b[0m\n\u001b[1;32m    214\u001b[0m \u001b[0;34m\u001b[0m\u001b[0m\n\u001b[1;32m    215\u001b[0m     \u001b[0;32mdef\u001b[0m \u001b[0m__init__\u001b[0m\u001b[0;34m(\u001b[0m\u001b[0mself\u001b[0m\u001b[0;34m,\u001b[0m \u001b[0mendog\u001b[0m\u001b[0;34m,\u001b[0m \u001b[0mexog\u001b[0m\u001b[0;34m=\u001b[0m\u001b[0;32mNone\u001b[0m\u001b[0;34m,\u001b[0m \u001b[0;34m**\u001b[0m\u001b[0mkwargs\u001b[0m\u001b[0;34m)\u001b[0m\u001b[0;34m:\u001b[0m\u001b[0;34m\u001b[0m\u001b[0;34m\u001b[0m\u001b[0m\n\u001b[0;32m--> 216\u001b[0;31m         \u001b[0msuper\u001b[0m\u001b[0;34m(\u001b[0m\u001b[0mLikelihoodModel\u001b[0m\u001b[0;34m,\u001b[0m \u001b[0mself\u001b[0m\u001b[0;34m)\u001b[0m\u001b[0;34m.\u001b[0m\u001b[0m__init__\u001b[0m\u001b[0;34m(\u001b[0m\u001b[0mendog\u001b[0m\u001b[0;34m,\u001b[0m \u001b[0mexog\u001b[0m\u001b[0;34m,\u001b[0m \u001b[0;34m**\u001b[0m\u001b[0mkwargs\u001b[0m\u001b[0;34m)\u001b[0m\u001b[0;34m\u001b[0m\u001b[0;34m\u001b[0m\u001b[0m\n\u001b[0m\u001b[1;32m    217\u001b[0m         \u001b[0mself\u001b[0m\u001b[0;34m.\u001b[0m\u001b[0minitialize\u001b[0m\u001b[0;34m(\u001b[0m\u001b[0;34m)\u001b[0m\u001b[0;34m\u001b[0m\u001b[0;34m\u001b[0m\u001b[0m\n\u001b[1;32m    218\u001b[0m \u001b[0;34m\u001b[0m\u001b[0m\n",
            "\u001b[0;32m/usr/local/lib/python3.6/dist-packages/statsmodels/base/model.py\u001b[0m in \u001b[0;36m__init__\u001b[0;34m(self, endog, exog, **kwargs)\u001b[0m\n\u001b[1;32m     66\u001b[0m         \u001b[0mhasconst\u001b[0m \u001b[0;34m=\u001b[0m \u001b[0mkwargs\u001b[0m\u001b[0;34m.\u001b[0m\u001b[0mpop\u001b[0m\u001b[0;34m(\u001b[0m\u001b[0;34m'hasconst'\u001b[0m\u001b[0;34m,\u001b[0m \u001b[0;32mNone\u001b[0m\u001b[0;34m)\u001b[0m\u001b[0;34m\u001b[0m\u001b[0;34m\u001b[0m\u001b[0m\n\u001b[1;32m     67\u001b[0m         self.data = self._handle_data(endog, exog, missing, hasconst,\n\u001b[0;32m---> 68\u001b[0;31m                                       **kwargs)\n\u001b[0m\u001b[1;32m     69\u001b[0m         \u001b[0mself\u001b[0m\u001b[0;34m.\u001b[0m\u001b[0mk_constant\u001b[0m \u001b[0;34m=\u001b[0m \u001b[0mself\u001b[0m\u001b[0;34m.\u001b[0m\u001b[0mdata\u001b[0m\u001b[0;34m.\u001b[0m\u001b[0mk_constant\u001b[0m\u001b[0;34m\u001b[0m\u001b[0;34m\u001b[0m\u001b[0m\n\u001b[1;32m     70\u001b[0m         \u001b[0mself\u001b[0m\u001b[0;34m.\u001b[0m\u001b[0mexog\u001b[0m \u001b[0;34m=\u001b[0m \u001b[0mself\u001b[0m\u001b[0;34m.\u001b[0m\u001b[0mdata\u001b[0m\u001b[0;34m.\u001b[0m\u001b[0mexog\u001b[0m\u001b[0;34m\u001b[0m\u001b[0;34m\u001b[0m\u001b[0m\n",
            "\u001b[0;32m/usr/local/lib/python3.6/dist-packages/statsmodels/base/model.py\u001b[0m in \u001b[0;36m_handle_data\u001b[0;34m(self, endog, exog, missing, hasconst, **kwargs)\u001b[0m\n\u001b[1;32m     89\u001b[0m \u001b[0;34m\u001b[0m\u001b[0m\n\u001b[1;32m     90\u001b[0m     \u001b[0;32mdef\u001b[0m \u001b[0m_handle_data\u001b[0m\u001b[0;34m(\u001b[0m\u001b[0mself\u001b[0m\u001b[0;34m,\u001b[0m \u001b[0mendog\u001b[0m\u001b[0;34m,\u001b[0m \u001b[0mexog\u001b[0m\u001b[0;34m,\u001b[0m \u001b[0mmissing\u001b[0m\u001b[0;34m,\u001b[0m \u001b[0mhasconst\u001b[0m\u001b[0;34m,\u001b[0m \u001b[0;34m**\u001b[0m\u001b[0mkwargs\u001b[0m\u001b[0;34m)\u001b[0m\u001b[0;34m:\u001b[0m\u001b[0;34m\u001b[0m\u001b[0;34m\u001b[0m\u001b[0m\n\u001b[0;32m---> 91\u001b[0;31m         \u001b[0mdata\u001b[0m \u001b[0;34m=\u001b[0m \u001b[0mhandle_data\u001b[0m\u001b[0;34m(\u001b[0m\u001b[0mendog\u001b[0m\u001b[0;34m,\u001b[0m \u001b[0mexog\u001b[0m\u001b[0;34m,\u001b[0m \u001b[0mmissing\u001b[0m\u001b[0;34m,\u001b[0m \u001b[0mhasconst\u001b[0m\u001b[0;34m,\u001b[0m \u001b[0;34m**\u001b[0m\u001b[0mkwargs\u001b[0m\u001b[0;34m)\u001b[0m\u001b[0;34m\u001b[0m\u001b[0;34m\u001b[0m\u001b[0m\n\u001b[0m\u001b[1;32m     92\u001b[0m         \u001b[0;31m# kwargs arrays could have changed, easier to just attach here\u001b[0m\u001b[0;34m\u001b[0m\u001b[0;34m\u001b[0m\u001b[0;34m\u001b[0m\u001b[0m\n\u001b[1;32m     93\u001b[0m         \u001b[0;32mfor\u001b[0m \u001b[0mkey\u001b[0m \u001b[0;32min\u001b[0m \u001b[0mkwargs\u001b[0m\u001b[0;34m:\u001b[0m\u001b[0;34m\u001b[0m\u001b[0;34m\u001b[0m\u001b[0m\n",
            "\u001b[0;32m/usr/local/lib/python3.6/dist-packages/statsmodels/base/data.py\u001b[0m in \u001b[0;36mhandle_data\u001b[0;34m(endog, exog, missing, hasconst, **kwargs)\u001b[0m\n\u001b[1;32m    633\u001b[0m     \u001b[0mklass\u001b[0m \u001b[0;34m=\u001b[0m \u001b[0mhandle_data_class_factory\u001b[0m\u001b[0;34m(\u001b[0m\u001b[0mendog\u001b[0m\u001b[0;34m,\u001b[0m \u001b[0mexog\u001b[0m\u001b[0;34m)\u001b[0m\u001b[0;34m\u001b[0m\u001b[0;34m\u001b[0m\u001b[0m\n\u001b[1;32m    634\u001b[0m     return klass(endog, exog=exog, missing=missing, hasconst=hasconst,\n\u001b[0;32m--> 635\u001b[0;31m                  **kwargs)\n\u001b[0m",
            "\u001b[0;32m/usr/local/lib/python3.6/dist-packages/statsmodels/base/data.py\u001b[0m in \u001b[0;36m__init__\u001b[0;34m(self, endog, exog, missing, hasconst, **kwargs)\u001b[0m\n\u001b[1;32m     79\u001b[0m         \u001b[0mself\u001b[0m\u001b[0;34m.\u001b[0m\u001b[0mk_constant\u001b[0m \u001b[0;34m=\u001b[0m \u001b[0;36m0\u001b[0m\u001b[0;34m\u001b[0m\u001b[0;34m\u001b[0m\u001b[0m\n\u001b[1;32m     80\u001b[0m         \u001b[0mself\u001b[0m\u001b[0;34m.\u001b[0m\u001b[0m_handle_constant\u001b[0m\u001b[0;34m(\u001b[0m\u001b[0mhasconst\u001b[0m\u001b[0;34m)\u001b[0m\u001b[0;34m\u001b[0m\u001b[0;34m\u001b[0m\u001b[0m\n\u001b[0;32m---> 81\u001b[0;31m         \u001b[0mself\u001b[0m\u001b[0;34m.\u001b[0m\u001b[0m_check_integrity\u001b[0m\u001b[0;34m(\u001b[0m\u001b[0;34m)\u001b[0m\u001b[0;34m\u001b[0m\u001b[0;34m\u001b[0m\u001b[0m\n\u001b[0m\u001b[1;32m     82\u001b[0m         \u001b[0mself\u001b[0m\u001b[0;34m.\u001b[0m\u001b[0m_cache\u001b[0m \u001b[0;34m=\u001b[0m \u001b[0;34m{\u001b[0m\u001b[0;34m}\u001b[0m\u001b[0;34m\u001b[0m\u001b[0;34m\u001b[0m\u001b[0m\n\u001b[1;32m     83\u001b[0m \u001b[0;34m\u001b[0m\u001b[0m\n",
            "\u001b[0;32m/usr/local/lib/python3.6/dist-packages/statsmodels/base/data.py\u001b[0m in \u001b[0;36m_check_integrity\u001b[0;34m(self)\u001b[0m\n\u001b[1;32m    405\u001b[0m         \u001b[0;32mif\u001b[0m \u001b[0mself\u001b[0m\u001b[0;34m.\u001b[0m\u001b[0mexog\u001b[0m \u001b[0;32mis\u001b[0m \u001b[0;32mnot\u001b[0m \u001b[0;32mNone\u001b[0m\u001b[0;34m:\u001b[0m\u001b[0;34m\u001b[0m\u001b[0;34m\u001b[0m\u001b[0m\n\u001b[1;32m    406\u001b[0m             \u001b[0;32mif\u001b[0m \u001b[0mlen\u001b[0m\u001b[0;34m(\u001b[0m\u001b[0mself\u001b[0m\u001b[0;34m.\u001b[0m\u001b[0mexog\u001b[0m\u001b[0;34m)\u001b[0m \u001b[0;34m!=\u001b[0m \u001b[0mlen\u001b[0m\u001b[0;34m(\u001b[0m\u001b[0mself\u001b[0m\u001b[0;34m.\u001b[0m\u001b[0mendog\u001b[0m\u001b[0;34m)\u001b[0m\u001b[0;34m:\u001b[0m\u001b[0;34m\u001b[0m\u001b[0;34m\u001b[0m\u001b[0m\n\u001b[0;32m--> 407\u001b[0;31m                 \u001b[0;32mraise\u001b[0m \u001b[0mValueError\u001b[0m\u001b[0;34m(\u001b[0m\u001b[0;34m\"endog and exog matrices are different sizes\"\u001b[0m\u001b[0;34m)\u001b[0m\u001b[0;34m\u001b[0m\u001b[0;34m\u001b[0m\u001b[0m\n\u001b[0m\u001b[1;32m    408\u001b[0m \u001b[0;34m\u001b[0m\u001b[0m\n\u001b[1;32m    409\u001b[0m     \u001b[0;32mdef\u001b[0m \u001b[0mwrap_output\u001b[0m\u001b[0;34m(\u001b[0m\u001b[0mself\u001b[0m\u001b[0;34m,\u001b[0m \u001b[0mobj\u001b[0m\u001b[0;34m,\u001b[0m \u001b[0mhow\u001b[0m\u001b[0;34m=\u001b[0m\u001b[0;34m'columns'\u001b[0m\u001b[0;34m,\u001b[0m \u001b[0mnames\u001b[0m\u001b[0;34m=\u001b[0m\u001b[0;32mNone\u001b[0m\u001b[0;34m)\u001b[0m\u001b[0;34m:\u001b[0m\u001b[0;34m\u001b[0m\u001b[0;34m\u001b[0m\u001b[0m\n",
            "\u001b[0;31mValueError\u001b[0m: endog and exog matrices are different sizes"
          ]
        }
      ]
    },
    {
      "cell_type": "markdown",
      "metadata": {
        "id": "DbHrHkR2a_2i"
      },
      "source": [
        "## Previsão 3 dias a frente"
      ]
    },
    {
      "cell_type": "code",
      "metadata": {
        "id": "0OUcutwMa9vo"
      },
      "source": [
        "result_Eto_2= run_sarimaxDay(series_eto,series_radiacao,3,order_eto2,order_eto2_sazonal)\n",
        "result_Eto_2"
      ],
      "execution_count": null,
      "outputs": []
    },
    {
      "cell_type": "markdown",
      "metadata": {
        "id": "CGuot1-ubiTH"
      },
      "source": [
        "## Previsão 4 dias a frente"
      ]
    },
    {
      "cell_type": "code",
      "metadata": {
        "id": "k4Xoe4dibf3P"
      },
      "source": [
        "result_Eto_3= run_sarimaxDay(series_eto,series_radiacao,4,order_eto2,order_eto2_sazonal)\n",
        "result_Eto_3"
      ],
      "execution_count": null,
      "outputs": []
    },
    {
      "cell_type": "markdown",
      "metadata": {
        "id": "ILi511kRRWfD"
      },
      "source": [
        "## Previsão 7 dias a frente "
      ]
    },
    {
      "cell_type": "code",
      "metadata": {
        "id": "GAZwVDpjRYZp"
      },
      "source": [
        "result_ven_1 = run_sarima(series_ventovel,series_radiacao,168,order_ven, order_ven_sazonal)\n",
        "result_ven_1"
      ],
      "execution_count": null,
      "outputs": []
    },
    {
      "cell_type": "code",
      "metadata": {
        "id": "oo-dZ3WtRcUz"
      },
      "source": [
        "result_rad_1 = run_sarima(series_radiacao,series_ventovel,168,order_rad,order_rad_sazonal)\n",
        "result_rad_1"
      ],
      "execution_count": null,
      "outputs": []
    },
    {
      "cell_type": "code",
      "metadata": {
        "id": "0Z-w1T9Da3Rl"
      },
      "source": [
        "result_Eto_4= run_sarimaxDay(series_eto,series_radiacao,7,order_eto2,order_eto2_sazonal)\n",
        "result_Eto_4"
      ],
      "execution_count": null,
      "outputs": []
    },
    {
      "cell_type": "markdown",
      "metadata": {
        "id": "E5sx9m0Vbami"
      },
      "source": [
        "## Previsão 10 dias a frente "
      ]
    },
    {
      "cell_type": "code",
      "metadata": {
        "id": "UPa_9v9obXQM"
      },
      "source": [
        "result_Eto_5= run_sarimaxDay(series_eto,series_radiacao,10,order_eto2,order_eto2_sazonal)\n",
        "result_Eto_5"
      ],
      "execution_count": null,
      "outputs": []
    }
  ]
}
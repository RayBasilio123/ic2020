{
  "nbformat": 4,
  "nbformat_minor": 0,
  "metadata": {
    "colab": {
      "name": "WindSun_SARIMAX.ipynb",
      "provenance": [],
      "include_colab_link": true
    },
    "kernelspec": {
      "name": "python3",
      "display_name": "Python 3"
    }
  },
  "cells": [
    {
      "cell_type": "markdown",
      "metadata": {
        "id": "view-in-github",
        "colab_type": "text"
      },
      "source": [
        "<a href=\"https://colab.research.google.com/github/RayBasilio123/ic2020/blob/main/WindSun_SARIMAX.ipynb\" target=\"_parent\"><img src=\"https://colab.research.google.com/assets/colab-badge.svg\" alt=\"Open In Colab\"/></a>"
      ]
    },
    {
      "cell_type": "markdown",
      "metadata": {
        "id": "9KCxpM4ERA6K"
      },
      "source": [
        "# Algoritmo SARIMA para Previsão de Séries Temporais com base nos dados do INMET"
      ]
    },
    {
      "cell_type": "markdown",
      "metadata": {
        "id": "YYxTM1kJRCww"
      },
      "source": [
        "## Obtendo os dados atráves do github"
      ]
    },
    {
      "cell_type": "code",
      "metadata": {
        "id": "DyyMruHzRAkz"
      },
      "source": [
        "#imports\n",
        "import pandas as pd\n",
        "import numpy as np\n",
        "from datetime import timedelta\n",
        "import statsmodels.api as sm"
      ],
      "execution_count": 43,
      "outputs": []
    },
    {
      "cell_type": "code",
      "metadata": {
        "id": "OXkVjiQRRGyz"
      },
      "source": [
        "#obtem os dados\n",
        "url1 = 'https://raw.githubusercontent.com/lrssv/TimeSeriesForecastingWindSun/master/series_ventovel_pampulha_2018_2019'\n",
        "url2 = 'https://raw.githubusercontent.com/lrssv/TimeSeriesForecastingWindSun/master/series_radiacao_pampulha_2018_2019'\n",
        "url3 = 'https://raw.githubusercontent.com/RayBasilio123/R5/master/Eto'\n",
        "\n",
        "df_ventovel = pd.read_csv(url1, header=0, parse_dates=[0], index_col=0, squeeze=True)\n",
        "df_radiacao = pd.read_csv(url2, header=0, parse_dates=[0], index_col=0, squeeze=True)\n",
        "df_eto = pd.read_csv(url3, header=0, parse_dates=[0], index_col=0, squeeze=True)\n",
        "\n",
        "series_ventovel = pd.Series(df_ventovel)\n",
        "series_radiacao = pd.Series(df_radiacao)\n",
        "series_eto = pd.Series(df_eto)\n",
        "\n"
      ],
      "execution_count": 45,
      "outputs": []
    },
    {
      "cell_type": "code",
      "metadata": {
        "id": "mOiKtBfyM2uK"
      },
      "source": [
        "series_ventovel=series_ventovel.resample('D').mean()\n",
        "series_radiacao=series_radiacao.resample('D').mean()\n",
        "series_eto = pd.Series(df_eto)\n"
      ],
      "execution_count": 48,
      "outputs": []
    },
    {
      "cell_type": "markdown",
      "metadata": {
        "id": "kssxm4S6RJxa"
      },
      "source": [
        "## SARIMAX"
      ]
    },
    {
      "cell_type": "code",
      "metadata": {
        "id": "KxhPtuZCRILM"
      },
      "source": [
        "def run_sarima(series,exog,steps_ahead,config_ordem,config_sazonal):\n",
        "  result = []\n",
        "  \n",
        "  #Lista de data+hora que será previsto\n",
        "  begin = series.index.max() + timedelta(days=0)\n",
        "  date_list = [begin + timedelta(hours=x) for x in range(1,steps_ahead+1)]\n",
        "  \n",
        "  #Valores da série\n",
        "  values = series.values\n",
        "  \n",
        "  #Valores da variável exogena\n",
        "  ex = exog.values\n",
        "\n",
        "  #Valores da variável exogena que será prevista\n",
        "  ex_cast = ex.reshape(-1, 1)[-steps_ahead:]\n",
        "  \n",
        "  #ARIMA\n",
        "  mod = sm.tsa.statespace.SARIMAX(values, exog=ex, order=config_ordem, seasonal_order=config_sazonal)\n",
        "  res = mod.fit(disp=False)\n",
        "  forecast = res.forecast(steps=steps_ahead, exog=ex_cast)\n",
        "\n",
        "  #Resultado no formato para ser exibido no gráfico\n",
        "  for i in range(steps_ahead):\n",
        "    if forecast[i] < 0: \n",
        "      result.append([date_list[i].strftime('%d/%m/%Y %H:%M:%S'),0])\n",
        "    else:\n",
        "      result.append([date_list[i].strftime('%d/%m/%Y %H:%M:%S'),round((forecast[i]),3)])\n",
        "\n",
        "  return result\n",
        "  "
      ],
      "execution_count": 49,
      "outputs": []
    },
    {
      "cell_type": "code",
      "metadata": {
        "id": "0LYC2fJJDDsT"
      },
      "source": [
        "def run_sarimaDay(series,exog,steps_ahead,config_ordem,config_sazonal):\n",
        "  result = []\n",
        "  \n",
        "  #Lista de data+hora que será previsto\n",
        "  begin = series.index.max() + timedelta(days=0)\n",
        "  date_list = [begin + timedelta(days=x) for x in range(1,steps_ahead+1)]\n",
        "  \n",
        "  #Valores da série\n",
        "  values = series.values\n",
        "  \n",
        "  #Valores da variável exogena\n",
        "  ex = exog.values\n",
        "\n",
        "  #Valores da variável exogena que será prevista\n",
        "  ex_cast = ex.reshape(-1, 1)[-steps_ahead:]\n",
        "  \n",
        "  #ARIMA\n",
        "  mod = sm.tsa.statespace.SARIMAX(values, exog=ex, order=config_ordem, seasonal_order=config_sazonal)\n",
        "  res = mod.fit(disp=False)\n",
        "  forecast = res.forecast(steps=steps_ahead, exog=ex_cast)\n",
        "\n",
        "  #Resultado no formato para ser exibido no gráfico\n",
        "  for i in range(steps_ahead):\n",
        "    if forecast[i] < 0: \n",
        "      result.append([date_list[i].strftime('%d/%m/%Y %H:%M:%S'),0])\n",
        "    else:\n",
        "      result.append([date_list[i].strftime('%d/%m/%Y %H:%M:%S'),round((forecast[i]),3)])\n",
        "\n",
        "  return result\n",
        "  "
      ],
      "execution_count": 50,
      "outputs": []
    },
    {
      "cell_type": "code",
      "metadata": {
        "id": "d8RDUr-_E7I4"
      },
      "source": [
        "order_ven = (3,1,0) \n",
        "order_ven_sazonal = (6,0,0,4)\n",
        "order_rad = (4,0,2)\n",
        "order_rad_sazonal = (1,0,2,4)\n",
        "order_eto2 = (5, 1, 2) #graficos\n",
        "order_eto2_sazonal = (1,0,1,3)\n"
      ],
      "execution_count": 51,
      "outputs": []
    },
    {
      "cell_type": "code",
      "metadata": {
        "id": "SIkLT57cMyJb"
      },
      "source": [
        ""
      ],
      "execution_count": null,
      "outputs": []
    },
    {
      "cell_type": "markdown",
      "metadata": {
        "id": "hjd7w5XhDh8R"
      },
      "source": [
        "## Previsão 1 hora a frente"
      ]
    },
    {
      "cell_type": "code",
      "metadata": {
        "id": "uIgvnPZjDgKQ"
      },
      "source": [
        "result_ven_1 = run_sarima(series_ventovel,series_radiacao,1,order_ven, order_ven_sazonal)\n",
        "result_ven_1"
      ],
      "execution_count": null,
      "outputs": []
    },
    {
      "cell_type": "code",
      "metadata": {
        "id": "75MQdvzSEiq6"
      },
      "source": [
        "\n",
        "result_rad_1 = run_sarima(series_radiacao,series_ventovel,1,order_rad,order_rad_sazonal)\n",
        "result_rad_1"
      ],
      "execution_count": null,
      "outputs": []
    },
    {
      "cell_type": "markdown",
      "metadata": {
        "id": "Mqx1kVCGEo7h"
      },
      "source": [
        "## Previsão 1 dia a frente"
      ]
    },
    {
      "cell_type": "code",
      "metadata": {
        "id": "GxaIPG2QErfz"
      },
      "source": [
        "result_ven_1 = run_sarima(series_ventovel,series_radiacao,24,order_ven, order_ven_sazonal)\n",
        "result_ven_1"
      ],
      "execution_count": null,
      "outputs": []
    },
    {
      "cell_type": "code",
      "metadata": {
        "id": "SxKzh4VtE2bS"
      },
      "source": [
        "result_rad_1 = run_sarima(series_radiacao,series_ventovel,24,order_rad,order_rad_sazonal)\n",
        "result_rad_1"
      ],
      "execution_count": null,
      "outputs": []
    },
    {
      "cell_type": "code",
      "metadata": {
        "id": "gpXoJATGFR_s",
        "colab": {
          "base_uri": "https://localhost:8080/"
        },
        "outputId": "a417f95b-c3c0-4936-8592-d44c85104bdf"
      },
      "source": [
        "result_Eto_1 = run_sarimaDay(series_eto,series_radiacao,1,order_eto2,order_eto2_sazonal)\n",
        "result_Eto_1"
      ],
      "execution_count": 53,
      "outputs": [
        {
          "output_type": "stream",
          "text": [
            "/usr/local/lib/python3.7/dist-packages/statsmodels/base/model.py:512: ConvergenceWarning: Maximum Likelihood optimization failed to converge. Check mle_retvals\n",
            "  \"Check mle_retvals\", ConvergenceWarning)\n"
          ],
          "name": "stderr"
        },
        {
          "output_type": "execute_result",
          "data": {
            "text/plain": [
              "[['01/01/2020 00:00:00', 5.694]]"
            ]
          },
          "metadata": {
            "tags": []
          },
          "execution_count": 53
        }
      ]
    },
    {
      "cell_type": "markdown",
      "metadata": {
        "id": "1ITM3T4hkWjA"
      },
      "source": [
        "## Previsão 3 dias a frente "
      ]
    },
    {
      "cell_type": "code",
      "metadata": {
        "id": "Efv4R4ULkSul"
      },
      "source": [
        "result_Eto_1 = run_sarimaDay(series_eto,series_radiacao,3,order_eto2,order_eto2_sazonal)\n",
        "result_Eto_1"
      ],
      "execution_count": null,
      "outputs": []
    },
    {
      "cell_type": "markdown",
      "metadata": {
        "id": "9Rw0RTfME8rS"
      },
      "source": [
        "## Previsão 7 dias a frente "
      ]
    },
    {
      "cell_type": "code",
      "metadata": {
        "id": "mI0ptd_mFCWZ"
      },
      "source": [
        "result_ven_1 = run_sarima(series_ventovel,series_radiacao,168,order_ven, order_ven_sazonal)\n",
        "result_ven_1"
      ],
      "execution_count": null,
      "outputs": []
    },
    {
      "cell_type": "code",
      "metadata": {
        "id": "av1K5HxsFIGi"
      },
      "source": [
        "result_rad_1 = run_sarima(series_radiacao,series_ventovel,168,order_rad,order_rad_sazonal)\n",
        "result_rad_1"
      ],
      "execution_count": null,
      "outputs": []
    },
    {
      "cell_type": "code",
      "metadata": {
        "id": "KnJQ10BxFtFG",
        "colab": {
          "base_uri": "https://localhost:8080/"
        },
        "outputId": "0ace08b5-d6c7-4a0f-aa05-604c4ebff6c2"
      },
      "source": [
        "result_Eto_1 = run_sarimaDay(series_eto,series_radiacao,7,order_eto2,order_eto2_sazonal)\n",
        "result_Eto_1"
      ],
      "execution_count": 54,
      "outputs": [
        {
          "output_type": "stream",
          "text": [
            "/usr/local/lib/python3.7/dist-packages/statsmodels/base/model.py:512: ConvergenceWarning: Maximum Likelihood optimization failed to converge. Check mle_retvals\n",
            "  \"Check mle_retvals\", ConvergenceWarning)\n"
          ],
          "name": "stderr"
        },
        {
          "output_type": "execute_result",
          "data": {
            "text/plain": [
              "[['01/01/2020 00:00:00', 5.933],\n",
              " ['02/01/2020 00:00:00', 5.542],\n",
              " ['03/01/2020 00:00:00', 5.603],\n",
              " ['04/01/2020 00:00:00', 5.358],\n",
              " ['05/01/2020 00:00:00', 5.288],\n",
              " ['06/01/2020 00:00:00', 5.563],\n",
              " ['07/01/2020 00:00:00', 5.731]]"
            ]
          },
          "metadata": {
            "tags": []
          },
          "execution_count": 54
        }
      ]
    },
    {
      "cell_type": "markdown",
      "metadata": {
        "id": "YcFxw8YMGw0h"
      },
      "source": [
        "## Previsão 10 dias a frente "
      ]
    },
    {
      "cell_type": "code",
      "metadata": {
        "id": "_JxB1clVG43I",
        "colab": {
          "base_uri": "https://localhost:8080/"
        },
        "outputId": "53bb1f34-0f71-49a5-a9fb-a6f06d5262f9"
      },
      "source": [
        "result_Eto_1 = run_sarimaDay(series_eto,series_radiacao,10,order_eto2,order_eto2_sazonal)\n",
        "result_Eto_1"
      ],
      "execution_count": 55,
      "outputs": [
        {
          "output_type": "stream",
          "text": [
            "/usr/local/lib/python3.7/dist-packages/statsmodels/base/model.py:512: ConvergenceWarning: Maximum Likelihood optimization failed to converge. Check mle_retvals\n",
            "  \"Check mle_retvals\", ConvergenceWarning)\n"
          ],
          "name": "stderr"
        },
        {
          "output_type": "execute_result",
          "data": {
            "text/plain": [
              "[['01/01/2020 00:00:00', 5.822],\n",
              " ['02/01/2020 00:00:00', 4.904],\n",
              " ['03/01/2020 00:00:00', 4.603],\n",
              " ['04/01/2020 00:00:00', 5.964],\n",
              " ['05/01/2020 00:00:00', 5.551],\n",
              " ['06/01/2020 00:00:00', 5.585],\n",
              " ['07/01/2020 00:00:00', 5.364],\n",
              " ['08/01/2020 00:00:00', 5.285],\n",
              " ['09/01/2020 00:00:00', 5.566],\n",
              " ['10/01/2020 00:00:00', 5.73]]"
            ]
          },
          "metadata": {
            "tags": []
          },
          "execution_count": 55
        }
      ]
    }
  ]
}
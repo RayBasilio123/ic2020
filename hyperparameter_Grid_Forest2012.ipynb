{
  "nbformat": 4,
  "nbformat_minor": 0,
  "metadata": {
    "colab": {
      "name": "hyperparameter_Grid_Forest2012.ipynb",
      "provenance": [],
      "collapsed_sections": [],
      "authorship_tag": "ABX9TyPdgBjq9ymQE0uAZONzWiTZ",
      "include_colab_link": true
    },
    "kernelspec": {
      "display_name": "Python 3",
      "name": "python3"
    },
    "language_info": {
      "name": "python"
    }
  },
  "cells": [
    {
      "cell_type": "markdown",
      "metadata": {
        "id": "view-in-github",
        "colab_type": "text"
      },
      "source": [
        "<a href=\"https://colab.research.google.com/github/RayBasilio123/ic2020/blob/main/hyperparameter_Grid_Forest2012.ipynb\" target=\"_parent\"><img src=\"https://colab.research.google.com/assets/colab-badge.svg\" alt=\"Open In Colab\"/></a>"
      ]
    },
    {
      "cell_type": "code",
      "metadata": {
        "colab": {
          "background_save": true
        },
        "id": "apLQnPo9gd8n"
      },
      "source": [
        "import numpy as np\n",
        "import pandas as pd\n",
        "import math\n",
        "from sklearn.tree import DecisionTreeRegressor\n",
        "import matplotlib.pyplot as plt\n",
        "from sklearn.metrics import mean_absolute_error, mean_squared_error\n",
        "from sklearn.metrics import f1_score\n",
        "from datetime import datetime\n",
        "from matplotlib import pyplot\n",
        "\n",
        "from math import nan\n",
        "from numpy import set_printoptions\n",
        "from sklearn.feature_selection import SelectKBest\n",
        "from sklearn.feature_selection import f_regression\n",
        "from sklearn.ensemble import ExtraTreesRegressor\n",
        "from sklearn.model_selection import GridSearchCV\n"
      ],
      "execution_count": null,
      "outputs": []
    },
    {
      "cell_type": "code",
      "metadata": {
        "colab": {
          "background_save": true
        },
        "id": "Yymrk7qjzsHL"
      },
      "source": [
        "def get_x2(df,lista,lags,Eto,lags_eto):\n",
        "  lags=lags\n",
        "  lista_aux=[]\n",
        "  lista_aux2=[]\n",
        "  max_lag=0;\n",
        "  data = pd.DataFrame()\n",
        "  eta_nois = pd.DataFrame()\n",
        "  eta_nois['Data']=df['Data']\n",
        "  for coluna in lista:\n",
        "    data[coluna] = df[coluna]       \n",
        "\n",
        "  for i in range(len(lags)):\n",
        "    for j in range(len(lags[i])):\n",
        "      lista_aux = data.iloc[:,i].tolist()\n",
        "      for displacement in range((lags[i][j])):\n",
        "        if max_lag<(lags[i][j]):\n",
        "          max_lag=(lags[i][j])\n",
        "        del lista_aux[len(lista_aux)-1]\n",
        "        lista_aux.insert(0,nan)\n",
        "      eta_nois[((data.iloc[:,i]).name)+(\"_t-\")+str(lags[i][j])]=(lista_aux)  \n",
        "  \n",
        "  for i in range(len(lags_eto)):\n",
        "    lista_aux2=df[Eto].iloc[:,0].tolist()\n",
        "    for displacement in range((lags_eto[i])):\n",
        "      if max_lag<(lags_eto[i]):\n",
        "        max_lag=(lags_eto[i])\n",
        "      del lista_aux2[len(lista_aux2)-1]\n",
        "      lista_aux2.insert(0,nan)\n",
        "    eta_nois[((df[Eto].iloc[:,0]).name)+(\"_t-\")+str(lags_eto[i])]=lista_aux2        \n",
        "  return eta_nois,max_lag,lista,lags,Eto,lags_eto;"
      ],
      "execution_count": null,
      "outputs": []
    },
    {
      "cell_type": "code",
      "metadata": {
        "colab": {
          "background_save": true
        },
        "id": "aNMrPVD-GHOq"
      },
      "source": [
        "def get_x30(df,lista, Eto):\n",
        "  ix = []\n",
        "  idx =  [i for i in np.arange(1, 31)]\n",
        "  for i in range(len(lista)):\n",
        "    ix.append(idx)\n",
        "\n",
        "  resultado = get_x2(df, lista, ix, Eto, idx)\n",
        "  return resultado"
      ],
      "execution_count": null,
      "outputs": []
    },
    {
      "cell_type": "code",
      "metadata": {
        "colab": {
          "background_save": true
        },
        "id": "w3HkdxhWCU5H"
      },
      "source": [
        "def column_Filter(df,dias):\n",
        "  list_column = []\n",
        "  # pegando colunas do data frame\n",
        "  for column in (df.columns):\n",
        "    if column != 'Data':\n",
        "      list_column.append(column)\n",
        "  # prosseguindo com a filtração\n",
        "  b=[]\n",
        "  lags=[]\n",
        "  aux3=[]\n",
        "  lista=[]\n",
        "  Eto=[]\n",
        "  lags_eto=[]\n",
        " \n",
        "  # filtra e  remove colunas \n",
        "  for i in range(len(list_column)):\n",
        "    j=list_column[i].split(\"_t-\")\n",
        "    if (int(j[1])>=dias):\n",
        "      b.append(j)\n",
        "  # print(\"Lista_Filtrada\",b)\n",
        "\n",
        "  #localiza as colunas  e faz uma lista se a coluna for Eto cria uma lista só pra ela\n",
        "  for k in range(len(b)):\n",
        "    if b[k][0] not in lista and b[k][0]!=\"Eto\":\n",
        "        lista.append(b[k][0])\n",
        "    elif b[k][0] not in Eto and b[k][0]==\"Eto\":\n",
        "        Eto.append(b[k][0])\n",
        "\n",
        "  # print(\"lista\",lista)\n",
        "  # print(\"Eto\",Eto)\n",
        " \n",
        "  # localiza as colunas e cria uma lista de lags para cada\n",
        "  for i in range(len(lista)):\n",
        "    aux=[]\n",
        "    for k in range(len(b)):\n",
        "      if (lista[i]==b[k][0])  :\n",
        "          aux.append(int(b[k][1]))\n",
        "    lags.append(aux)\n",
        "    del(aux)\n",
        "\n",
        "  # print(\"lags\",lags)\n",
        "           \n",
        "  # print(\"Eto\",Eto)\n",
        "  \n",
        "  \n",
        "  if Eto!=[]:\n",
        "    for k in range(len(b)):\n",
        "      if b[k][0]==Eto[0]:\n",
        "        lags_eto.append(int(b[k][1]))\n",
        "  # print(\"lags_eto\",lags_eto)\n",
        " \n",
        "  aux3.append(lista)\n",
        "  aux3.append(lags)\n",
        "  aux3.append(Eto)\n",
        "  aux3.append(lags_eto)\n",
        " \n",
        "\n",
        "  return aux3\n",
        "\n",
        "\n",
        "\n",
        "\n",
        "\n",
        "\n",
        "\n"
      ],
      "execution_count": null,
      "outputs": []
    },
    {
      "cell_type": "code",
      "metadata": {
        "colab": {
          "background_save": true
        },
        "id": "TjXOWhtbCQwR"
      },
      "source": [
        "def resource_ranking(df,lista_filtrada3,variavel_alvo) :\n",
        "  \n",
        "  # resource_ranking(df_la,lista_filtrada2,\"temp_min\")  \n",
        "  #Monta a tabela com os dados filtrados \n",
        "  \n",
        "  tab=get_x2(df,lista_filtrada3[0],lista_filtrada3[1],lista_filtrada3[2],lista_filtrada3[3])\n",
        " \n",
        "  # dff=tab[0].drop(\"Data\",axis=1)\n",
        "  \n",
        "  # train_size = int(((len(tab[0]))-tab[1]) )\n",
        "  # dff=dff.iloc[tab[1]:train_size,:]\n",
        "\n",
        "  # array1 = dff.values\n",
        "\n",
        "  # df= df.drop(\"Data\",axis=1)\n",
        "  # df=df.iloc[tab[1]:train_size,:]\n",
        "  # array2 = df[variavel_alvo]\n",
        "  selecao_treino = (tab[0]['Data'] >= '1993') & (tab[0]['Data'] <= '2011-12-31')\n",
        "  \n",
        "  dff=tab[0][selecao_treino].drop(\"Data\",axis=1)\n",
        "\n",
        "  train_size = int(((len(tab[0][selecao_treino]))-tab[1]) )\n",
        "  dff=dff.iloc[tab[1]:train_size,:]\n",
        "  array1 = dff.values\n",
        "\n",
        "  df= df[selecao_treino].drop(\"Data\",axis=1)\n",
        "  df=df.iloc[tab[1]:train_size,:]\n",
        "  array2 = df[variavel_alvo]\n",
        "\n",
        " \n",
        "\n",
        "  X =array1[:,0:len(tab[0].columns)]\n",
        "  Y = array2\n",
        "  # feature extraction\n",
        "  test = SelectKBest(score_func=f_regression, k=4)\n",
        "  fit = test.fit(X, Y)\n",
        "  # summarize scores\n",
        "  set_printoptions(precision=3)\n",
        " \n",
        "\n",
        "    \n",
        "  # print(\"Selecao_univariada\",fit.scores_)\n",
        "  f=fit.scores_\n",
        "  f_ord = sorted(f,reverse=True)\n",
        "  # print(\"Selecao_univariada_ordenada\",f_ord)\n",
        "\n",
        "  ll=[]\n",
        "  for y in range(len(f_ord)):\n",
        "    for i in range(len(f)):\n",
        "      if (f_ord[y]==f[i]):\n",
        "        ll.append(i)\n",
        "        # print(\"f[i]\",f[i])\n",
        "        # print(\"f_ord[y]\",f_ord[y])\n",
        "  leg_seq=[]\n",
        "  for i in range(len(ll)):\n",
        "    leg_seq.append(dff.columns[ll[i]])    \n",
        "\n",
        "  # print(\"Colunas_selecionadas [0]- Selecao_univariada\",leg_seq)\n",
        " \n",
        "  model = ExtraTreesRegressor(n_estimators=10,random_state=42)\n",
        "  model.fit(X,Y)\n",
        "  g=model.feature_importances_\n",
        "  g_ord=sorted(model.feature_importances_,reverse=True)\n",
        "  # print(\"Importancia\",g)\n",
        "  # print(\"Importancia_ordenada\",g_ord)\n",
        "  jj=[]\n",
        "  for y in range(len(g_ord)):\n",
        "    for i in range(len(g)):\n",
        "      if (g_ord[y]==g[i]):\n",
        "        jj.append(i)\n",
        "  leg_seq2=[]\n",
        "  for i in range(len(ll)):\n",
        "    leg_seq2.append(dff.columns[jj[i]])    \n",
        "  # print(\"Colunas_selecionadas [1]- Importância do recurso\",leg_seq2)\n",
        "  return leg_seq,leg_seq2"
      ],
      "execution_count": null,
      "outputs": []
    },
    {
      "cell_type": "code",
      "metadata": {
        "colab": {
          "background_save": true
        },
        "id": "8JVCQk5uCPU9"
      },
      "source": [
        "\n",
        "\n",
        "def list_Format(melhores_recursos,q,dias):\n",
        "  b=[]\n",
        "  lags=[]\n",
        "  aux3=[]\n",
        "  lista=[]\n",
        "  Eto=[]\n",
        "  lags_eto=[]\n",
        "  q = len(melhores_recursos) if q==0 else q\n",
        "  # filtra e  remove colunas \n",
        "  for i in range(q):\n",
        "    j=melhores_recursos[i].split(\"_t-\")\n",
        "    if (int(j[1])>=dias):\n",
        "      b.append(j)\n",
        "  print(\"lista_selecionada\",b)\n",
        "\n",
        "  #localiza as colunas  e faz uma lista se a coluna for Eto cria uma lista só pra ela\n",
        "  for k in range(len(b)):\n",
        "    if b[k][0] not in lista and b[k][0]!=\"Eto\":\n",
        "        lista.append(b[k][0])\n",
        "    elif b[k][0] not in Eto and b[k][0]==\"Eto\":\n",
        "        Eto.append(b[k][0])\n",
        "\n",
        "  print(\"lista\",lista)\n",
        "  print(\"Eto\",Eto)\n",
        " \n",
        "  # localiza as colunas e cria uma lista de lags para cada\n",
        "  for i in range(len(lista)):\n",
        "    aux=[]\n",
        "    for k in range(len(b)):\n",
        "      if (lista[i]==b[k][0])  :\n",
        "          aux.append(int(b[k][1]))\n",
        "    lags.append(aux)\n",
        "    del(aux)\n",
        "\n",
        "  print(\"lags\",lags)\n",
        "           \n",
        "  # print(\"Eto\",Eto)\n",
        "  \n",
        "  \n",
        "  if Eto!=[]:\n",
        "    for k in range(len(b)):\n",
        "      if b[k][0]==Eto[0]:\n",
        "        lags_eto.append(int(b[k][1]))\n",
        "  print(\"lags_eto\",lags_eto)\n",
        " \n",
        "  aux3.append(lista)\n",
        "  aux3.append(lags)\n",
        "  aux3.append(Eto)\n",
        "  aux3.append(lags_eto)\n",
        " \n",
        "\n",
        "  return aux3"
      ],
      "execution_count": null,
      "outputs": []
    },
    {
      "cell_type": "code",
      "metadata": {
        "colab": {
          "background_save": true
        },
        "id": "H76rZiKFRrzz"
      },
      "source": [
        "def train_test(df, lista,lags,Eto,lags_eto,variavel_Alvo,data_Itest= '2012-01-01',data_Ftest= '2012-12-31',data_Itreino='1993-01-01',data_Ftreino='2011-12-31'):\n",
        "  tabela = get_x2(df, lista,lags,Eto,lags_eto)\n",
        "  selecao_treino = (tabela[0]['Data'] >= data_Itreino) & (tabela[0]['Data'] <= data_Ftreino)\n",
        "  selecao_teste = (tabela[0]['Data'] >= data_Itest) & (tabela[0]['Data'] <= data_Ftest)\n",
        "\n",
        "  x1_train = tabela[0][selecao_treino].drop(\"Data\", axis=1)\n",
        "  x1_test = tabela[0][selecao_teste].drop(\"Data\", axis=1)\n",
        "  \n",
        "  y1_train = df[variavel_Alvo][selecao_treino]\n",
        "  y1_test = df[variavel_Alvo][selecao_teste]\n",
        "\n",
        "  x1_train = x1_train[tabela[1]:]\n",
        "  y1_train = y1_train[tabela[1]:]\n",
        "\n",
        "  \n",
        "  print(\"***************************************\")\n",
        "  print(x1_train.shape,\"x1_train\")\n",
        "  #[6569 rows x 10 columns] x1_train\n",
        "  print(\"*****************++*********************\")\n",
        "  print(x1_test.shape,\"x1_test\")\n",
        "  print(\"******************---********************\")\n",
        "  print(y1_train.shape,\"y1_train\")\n",
        "  print(\"****************1234*********************\")\n",
        "  print(y1_test.shape,\"y1_test\")\n",
        "  print(\"*****************asddfg******************\")\n",
        " \n",
        "  \n",
        "  return x1_train, x1_test,y1_train, y1_test"
      ],
      "execution_count": null,
      "outputs": []
    },
    {
      "cell_type": "code",
      "metadata": {
        "colab": {
          "background_save": true
        },
        "id": "gHwvw3ghzjEP"
      },
      "source": [
        "def gridSearchF(df, lista,lags,Eto,lags_eto,variavel_Alvo):\n",
        "  x1_train, x1_test,y1_train, y1_test = train_test(df, lista,lags,Eto,lags_eto,variavel_Alvo)\n",
        "   # Create the parameter grid based on the results of random search \n",
        "  param_grid = {\n",
        "      'bootstrap': [True],\n",
        "      'max_depth': [2,3,5,8,13,11,24, 35],\n",
        "      'max_features': [2, 3,4,5],\n",
        "      'min_samples_leaf': [3, 4, 5],\n",
        "      'min_samples_split': [8, 10, 12],\n",
        "      'n_estimators': [100, 500, 1000]\n",
        "  }\n",
        "\n",
        "  # Create a base model\n",
        "  rf = RandomForestRegressor(random_state = 42)\n",
        "\n",
        "  # Instantiate the grid search model\n",
        "  grid_search = GridSearchCV(estimator = rf, param_grid = param_grid, \n",
        "                            cv = 3, n_jobs = -1, verbose = 2, return_train_score=True)\n",
        "\n",
        "  print(\" -----------------grid_search.fit--------------\")\n",
        " \n",
        "  start_time=timer(None)\n",
        "\n",
        "  grid_search.fit(x1_train, y1_train);\n",
        "\n",
        "  timer(start_time)  \n",
        "  \n",
        "    \n",
        "  return rf_random.best_params_\n",
        "\n",
        "def gridSearchFs(df,parametros,variavel_Alvo):\n",
        "\n",
        "  lista_colunas=[\"gridSearch\"]\n",
        "  tb = pd.DataFrame(columns=lista_colunas)\n",
        "  \n",
        "  print(\"gridSearchFs\")\n",
        "  print('---------------------------------------------------------------------------------')\n",
        "  \n",
        "  for x in range(len(parametros)):\n",
        "    a=gridSearchF(df,parametros[x][0],parametros[x][1],parametros[x][2],parametros[x][3],variavel_Alvo)\n",
        "    \n",
        "    print(x,\"Best_hyperparameter_Arvore\", a)\n",
        "   \n",
        "  print('---------------------------------------------------------------------------------')\n",
        "  \n",
        "\n",
        "  return a\n",
        "\n",
        "\n"
      ],
      "execution_count": null,
      "outputs": []
    },
    {
      "cell_type": "code",
      "metadata": {
        "colab": {
          "background_save": true
        },
        "id": "rPR_Z1XN7GCY"
      },
      "source": [
        "def timer(start_time=None):\n",
        "    if not start_time:\n",
        "        start_time=datetime.now()\n",
        "        return start_time\n",
        "    elif start_time:\n",
        "        thour,temp_sec=divmod((datetime.now()-start_time).total_seconds(),3600)\n",
        "        tmin,tsec=divmod(temp_sec,60)"
      ],
      "execution_count": null,
      "outputs": []
    },
    {
      "cell_type": "code",
      "metadata": {
        "colab": {
          "background_save": true,
          "base_uri": "https://localhost:8080/",
          "height": 111
        },
        "id": "aqzZfUSFI33R",
        "outputId": "5f90e382-8df5-4606-999a-22eb522e2518"
      },
      "source": [
        "tabela=pd.read_csv('https://raw.githubusercontent.com/RayBasilio123/ic2020/main/2020_Ic/Dados/data_PEto.csv')\n",
        "data_Patricia=tabela.drop(\"Unnamed: 0\",axis=1)\n",
        "data_Patricia.head(2)"
      ],
      "execution_count": null,
      "outputs": [
        {
          "output_type": "execute_result",
          "data": {
            "text/html": [
              "<div>\n",
              "<style scoped>\n",
              "    .dataframe tbody tr th:only-of-type {\n",
              "        vertical-align: middle;\n",
              "    }\n",
              "\n",
              "    .dataframe tbody tr th {\n",
              "        vertical-align: top;\n",
              "    }\n",
              "\n",
              "    .dataframe thead th {\n",
              "        text-align: right;\n",
              "    }\n",
              "</style>\n",
              "<table border=\"1\" class=\"dataframe\">\n",
              "  <thead>\n",
              "    <tr style=\"text-align: right;\">\n",
              "      <th></th>\n",
              "      <th>Data</th>\n",
              "      <th>Tmax</th>\n",
              "      <th>Tmin</th>\n",
              "      <th>I</th>\n",
              "      <th>Tmean</th>\n",
              "      <th>UR</th>\n",
              "      <th>V</th>\n",
              "      <th>J</th>\n",
              "      <th>Eto</th>\n",
              "    </tr>\n",
              "  </thead>\n",
              "  <tbody>\n",
              "    <tr>\n",
              "      <th>0</th>\n",
              "      <td>1993-01-01</td>\n",
              "      <td>31.3</td>\n",
              "      <td>15.4</td>\n",
              "      <td>11.3</td>\n",
              "      <td>22.86</td>\n",
              "      <td>64.75</td>\n",
              "      <td>0.740445</td>\n",
              "      <td>1</td>\n",
              "      <td>5.515947</td>\n",
              "    </tr>\n",
              "    <tr>\n",
              "      <th>1</th>\n",
              "      <td>1993-01-02</td>\n",
              "      <td>33.8</td>\n",
              "      <td>16.1</td>\n",
              "      <td>11.2</td>\n",
              "      <td>23.80</td>\n",
              "      <td>64.50</td>\n",
              "      <td>0.500000</td>\n",
              "      <td>2</td>\n",
              "      <td>5.587673</td>\n",
              "    </tr>\n",
              "  </tbody>\n",
              "</table>\n",
              "</div>"
            ],
            "text/plain": [
              "         Data  Tmax  Tmin     I  Tmean     UR         V  J       Eto\n",
              "0  1993-01-01  31.3  15.4  11.3  22.86  64.75  0.740445  1  5.515947\n",
              "1  1993-01-02  33.8  16.1  11.2  23.80  64.50  0.500000  2  5.587673"
            ]
          },
          "metadata": {
            "tags": []
          },
          "execution_count": 0
        }
      ]
    },
    {
      "cell_type": "code",
      "metadata": {
        "colab": {
          "background_save": true
        },
        "id": "SbEuhJBPDR2E"
      },
      "source": [
        "atributeP= [ \"Tmax\",\"Tmean\",\"I\",\"UR\",\"V\",\"Tmin\",\"J\"]\n",
        "resultadoP=get_x30(data_Patricia,atributeP,['Eto'])"
      ],
      "execution_count": null,
      "outputs": []
    },
    {
      "cell_type": "code",
      "metadata": {
        "colab": {
          "background_save": true,
          "base_uri": "https://localhost:8080/"
        },
        "id": "6gVC3D2w8Eoy",
        "outputId": "a5b4aca2-0e9a-4f1c-cc71-44e08fe77c88"
      },
      "source": [
        " for x in [1]:\n",
        "   lista_Filtrada=column_Filter(resultadoP[0],x)\n",
        "#   ranking_data_Patricia = resource_ranking(data_Patricia,lista_Filtrada,\"Eto\")\n",
        "#   lista_Formatada1=list_Format(ranking_data_Patricia[0],10,0)\n",
        "#   lista_Formatada2=list_Format(ranking_data_Patricia[1],10,0)\n",
        "   print('\\n -----------Para----' + str(x) + '----dias --------\\n')\n",
        "  # print(\"lista_Formatada_1 -------> \",lista_Formatada1)\n",
        "  # print(\"lista_Formatada_2 -------> \",lista_Formatada2)\n",
        "   print(\"lista_Formatada_3 -------> \",lista_Filtrada)\n",
        "   print('\\n ---------------------------------------------\\n')"
      ],
      "execution_count": null,
      "outputs": [
        {
          "output_type": "stream",
          "text": [
            "\n",
            " -----------Para----1----dias --------\n",
            "\n",
            "lista_Formatada_3 ------->  [['Tmax', 'Tmean', 'I', 'UR', 'V', 'Tmin', 'J'], [[1, 2, 3, 4, 5, 6, 7, 8, 9, 10, 11, 12, 13, 14, 15, 16, 17, 18, 19, 20, 21, 22, 23, 24, 25, 26, 27, 28, 29, 30], [1, 2, 3, 4, 5, 6, 7, 8, 9, 10, 11, 12, 13, 14, 15, 16, 17, 18, 19, 20, 21, 22, 23, 24, 25, 26, 27, 28, 29, 30], [1, 2, 3, 4, 5, 6, 7, 8, 9, 10, 11, 12, 13, 14, 15, 16, 17, 18, 19, 20, 21, 22, 23, 24, 25, 26, 27, 28, 29, 30], [1, 2, 3, 4, 5, 6, 7, 8, 9, 10, 11, 12, 13, 14, 15, 16, 17, 18, 19, 20, 21, 22, 23, 24, 25, 26, 27, 28, 29, 30], [1, 2, 3, 4, 5, 6, 7, 8, 9, 10, 11, 12, 13, 14, 15, 16, 17, 18, 19, 20, 21, 22, 23, 24, 25, 26, 27, 28, 29, 30], [1, 2, 3, 4, 5, 6, 7, 8, 9, 10, 11, 12, 13, 14, 15, 16, 17, 18, 19, 20, 21, 22, 23, 24, 25, 26, 27, 28, 29, 30], [1, 2, 3, 4, 5, 6, 7, 8, 9, 10, 11, 12, 13, 14, 15, 16, 17, 18, 19, 20, 21, 22, 23, 24, 25, 26, 27, 28, 29, 30]], ['Eto'], [1, 2, 3, 4, 5, 6, 7, 8, 9, 10, 11, 12, 13, 14, 15, 16, 17, 18, 19, 20, 21, 22, 23, 24, 25, 26, 27, 28, 29, 30]]\n",
            "\n",
            " ---------------------------------------------\n",
            "\n"
          ],
          "name": "stdout"
        }
      ]
    },
    {
      "cell_type": "markdown",
      "metadata": {
        "id": "MRitGJ5MCjFh"
      },
      "source": [
        "# Para  1 dia - Grid Arvore"
      ]
    },
    {
      "cell_type": "code",
      "metadata": {
        "colab": {
          "background_save": true
        },
        "id": "8pYM2tzGC67E"
      },
      "source": [
        "\n",
        "# lista_Formatada3=[['Tmax', 'Tmean', 'I', 'UR', 'V', 'Tmin', 'J'], [[1, 2, 3, 4, 5, 6, 7, 8, 9, 10, 11, 12, 13, 14, 15, 16, 17, 18, 19, 20, 21, 22, 23, 24, 25, 26, 27, 28, 29, 30], [1, 2, 3, 4, 5, 6, 7, 8, 9, 10, 11, 12, 13, 14, 15, 16, 17, 18, 19, 20, 21, 22, 23, 24, 25, 26, 27, 28, 29, 30], [1, 2, 3, 4, 5, 6, 7, 8, 9, 10, 11, 12, 13, 14, 15, 16, 17, 18, 19, 20, 21, 22, 23, 24, 25, 26, 27, 28, 29, 30], [1, 2, 3, 4, 5, 6, 7, 8, 9, 10, 11, 12, 13, 14, 15, 16, 17, 18, 19, 20, 21, 22, 23, 24, 25, 26, 27, 28, 29, 30], [1, 2, 3, 4, 5, 6, 7, 8, 9, 10, 11, 12, 13, 14, 15, 16, 17, 18, 19, 20, 21, 22, 23, 24, 25, 26, 27, 28, 29, 30], [1, 2, 3, 4, 5, 6, 7, 8, 9, 10, 11, 12, 13, 14, 15, 16, 17, 18, 19, 20, 21, 22, 23, 24, 25, 26, 27, 28, 29, 30], [1, 2, 3, 4, 5, 6, 7, 8, 9, 10, 11, 12, 13, 14, 15, 16, 17, 18, 19, 20, 21, 22, 23, 24, 25, 26, 27, 28, 29, 30]], ['Eto'], [1, 2, 3, 4, 5, 6, 7, 8, 9, 10, 11, 12, 13, 14, 15, 16, 17, 18, 19, 20, 21, 22, 23, 24, 25, 26, 27, 28, 29, 30]]\n",
        "lista_Formatada_1 = [['Tmean', 'Tmax'], [[1, 2, 3, 4], [1]], ['Eto'], [1, 2, 3, 4, 5]]\n",
        "lista_Formatada_2 = [['Tmax', 'Tmean', 'I', 'UR', 'J'], [[1], [2], [1], [1], [22, 26]], ['Eto'], [1, 2, 3, 4]]"
      ],
      "execution_count": null,
      "outputs": []
    },
    {
      "cell_type": "code",
      "metadata": {
        "colab": {
          "base_uri": "https://localhost:8080/",
          "height": 316
        },
        "id": "I5kq7nkVzomg",
        "outputId": "8dd7a48a-eee0-47d8-8b3c-e952086e3f32"
      },
      "source": [
        "parametrosSearchA=gridSearchFs(data_Patricia,[lista_Formatada_1,lista_Formatada_2],\"Eto\")"
      ],
      "execution_count": null,
      "outputs": [
        {
          "output_type": "stream",
          "text": [
            "gridSearchFs\n",
            "---------------------------------------------------------------------------------\n"
          ],
          "name": "stdout"
        },
        {
          "output_type": "error",
          "ename": "NameError",
          "evalue": "ignored",
          "traceback": [
            "\u001b[0;31m---------------------------------------------------------------------------\u001b[0m",
            "\u001b[0;31mNameError\u001b[0m                                 Traceback (most recent call last)",
            "\u001b[0;32m<ipython-input-32-1935acf5ff9c>\u001b[0m in \u001b[0;36m<module>\u001b[0;34m()\u001b[0m\n\u001b[0;32m----> 1\u001b[0;31m \u001b[0mparametrosSearchA\u001b[0m\u001b[0;34m=\u001b[0m\u001b[0mgridSearchFs\u001b[0m\u001b[0;34m(\u001b[0m\u001b[0mdata_Patricia\u001b[0m\u001b[0;34m,\u001b[0m\u001b[0;34m[\u001b[0m\u001b[0mlista_Formatada_1\u001b[0m\u001b[0;34m,\u001b[0m\u001b[0mlista_Formatada_2\u001b[0m\u001b[0;34m]\u001b[0m\u001b[0;34m,\u001b[0m\u001b[0;34m\"Eto\"\u001b[0m\u001b[0;34m)\u001b[0m\u001b[0;34m\u001b[0m\u001b[0;34m\u001b[0m\u001b[0m\n\u001b[0m",
            "\u001b[0;32m<ipython-input-25-90c7a1c8cbbe>\u001b[0m in \u001b[0;36mgridSearchFs\u001b[0;34m(df, parametros, variavel_Alvo)\u001b[0m\n\u001b[1;32m     38\u001b[0m \u001b[0;34m\u001b[0m\u001b[0m\n\u001b[1;32m     39\u001b[0m   \u001b[0;32mfor\u001b[0m \u001b[0mx\u001b[0m \u001b[0;32min\u001b[0m \u001b[0mrange\u001b[0m\u001b[0;34m(\u001b[0m\u001b[0mlen\u001b[0m\u001b[0;34m(\u001b[0m\u001b[0mparametros\u001b[0m\u001b[0;34m)\u001b[0m\u001b[0;34m)\u001b[0m\u001b[0;34m:\u001b[0m\u001b[0;34m\u001b[0m\u001b[0;34m\u001b[0m\u001b[0m\n\u001b[0;32m---> 40\u001b[0;31m     \u001b[0ma\u001b[0m\u001b[0;34m=\u001b[0m\u001b[0mgridSearchA\u001b[0m\u001b[0;34m(\u001b[0m\u001b[0mdf\u001b[0m\u001b[0;34m,\u001b[0m\u001b[0mparametros\u001b[0m\u001b[0;34m[\u001b[0m\u001b[0mx\u001b[0m\u001b[0;34m]\u001b[0m\u001b[0;34m[\u001b[0m\u001b[0;36m0\u001b[0m\u001b[0;34m]\u001b[0m\u001b[0;34m,\u001b[0m\u001b[0mparametros\u001b[0m\u001b[0;34m[\u001b[0m\u001b[0mx\u001b[0m\u001b[0;34m]\u001b[0m\u001b[0;34m[\u001b[0m\u001b[0;36m1\u001b[0m\u001b[0;34m]\u001b[0m\u001b[0;34m,\u001b[0m\u001b[0mparametros\u001b[0m\u001b[0;34m[\u001b[0m\u001b[0mx\u001b[0m\u001b[0;34m]\u001b[0m\u001b[0;34m[\u001b[0m\u001b[0;36m2\u001b[0m\u001b[0;34m]\u001b[0m\u001b[0;34m,\u001b[0m\u001b[0mparametros\u001b[0m\u001b[0;34m[\u001b[0m\u001b[0mx\u001b[0m\u001b[0;34m]\u001b[0m\u001b[0;34m[\u001b[0m\u001b[0;36m3\u001b[0m\u001b[0;34m]\u001b[0m\u001b[0;34m,\u001b[0m\u001b[0mvariavel_Alvo\u001b[0m\u001b[0;34m)\u001b[0m\u001b[0;34m\u001b[0m\u001b[0;34m\u001b[0m\u001b[0m\n\u001b[0m\u001b[1;32m     41\u001b[0m \u001b[0;34m\u001b[0m\u001b[0m\n\u001b[1;32m     42\u001b[0m     \u001b[0mprint\u001b[0m\u001b[0;34m(\u001b[0m\u001b[0mx\u001b[0m\u001b[0;34m,\u001b[0m\u001b[0;34m\"Best_hyperparameter_Arvore\"\u001b[0m\u001b[0;34m,\u001b[0m \u001b[0ma\u001b[0m\u001b[0;34m)\u001b[0m\u001b[0;34m\u001b[0m\u001b[0;34m\u001b[0m\u001b[0m\n",
            "\u001b[0;31mNameError\u001b[0m: name 'gridSearchA' is not defined"
          ]
        }
      ]
    },
    {
      "cell_type": "markdown",
      "metadata": {
        "id": "n9anPfPWZpp1"
      },
      "source": [
        "#Para  3 dias - Grid Forest"
      ]
    },
    {
      "cell_type": "code",
      "metadata": {
        "id": "hxV_eKviYjB3"
      },
      "source": [
        "lista_Formatada_1 = [['Tmean'], [[3, 4, 5, 6, 7, 8, 9]], ['Eto'], [3, 4, 5]]\n",
        "lista_Formatada_2 = [['Tmean', 'J'], [[8, 5], [26, 29, 6, 30]], ['Eto'], [3, 4, 5, 6]]"
      ],
      "execution_count": null,
      "outputs": []
    },
    {
      "cell_type": "code",
      "metadata": {
        "id": "G2A56wB-at2-"
      },
      "source": [
        "parametrosSearchA=gridSearchFs(data_Patricia,[lista_Formatada_1,lista_Formatada_2],\"Eto\")\n"
      ],
      "execution_count": null,
      "outputs": []
    },
    {
      "cell_type": "markdown",
      "metadata": {
        "id": "8xjZeWHrZvdV"
      },
      "source": [
        "# Para 7 dias Grid Forest"
      ]
    },
    {
      "cell_type": "code",
      "metadata": {
        "id": "7EFF8RM4Iy9n"
      },
      "source": [
        "lista_Formatada_1 =[['Tmean', 'Tmin'], [[7, 8, 9, 10, 11, 12], [7]], ['Eto'], [7, 8, 9]]\n",
        "lista_Formatada_2 =[['Tmean', 'J'], [[9, 7], [27, 30, 19, 25, 23, 8]], ['Eto'], [8, 11]]"
      ],
      "execution_count": null,
      "outputs": []
    },
    {
      "cell_type": "code",
      "metadata": {
        "id": "8CCr4Mrtan5X"
      },
      "source": [
        "parametrosSearchA=gridSearchFs(data_Patricia,[lista_Formatada_1,lista_Formatada_2],\"Eto\")\n"
      ],
      "execution_count": null,
      "outputs": []
    },
    {
      "cell_type": "markdown",
      "metadata": {
        "id": "gjsxoJgpZ7_o"
      },
      "source": [
        "# Para 10 dias - Grid Forest"
      ]
    },
    {
      "cell_type": "code",
      "metadata": {
        "id": "-XU7YQm9aZov"
      },
      "source": [
        "lista_Formatada_1 =[['Tmean', 'Tmin'], [[10, 11, 12, 13, 14], [10]], ['Eto'], [10, 11, 12, 13]]\n",
        "lista_Formatada_2 =[['J', 'Tmean'], [[25, 17, 29, 16, 13, 30, 28], [10, 13]], ['Eto'], [10]]"
      ],
      "execution_count": null,
      "outputs": []
    },
    {
      "cell_type": "code",
      "metadata": {
        "id": "xhZjC3-0FYCF"
      },
      "source": [
        "parametrosSearchA=gridSearchFs(data_Patricia,[lista_Formatada_1,lista_Formatada_2],\"Eto\")\n"
      ],
      "execution_count": null,
      "outputs": []
    }
  ]
}
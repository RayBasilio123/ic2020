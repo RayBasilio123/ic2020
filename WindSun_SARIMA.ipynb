{
  "nbformat": 4,
  "nbformat_minor": 0,
  "metadata": {
    "colab": {
      "name": "WindSun_SARIMA.ipynb",
      "provenance": [],
      "include_colab_link": true
    },
    "kernelspec": {
      "name": "python3",
      "display_name": "Python 3"
    }
  },
  "cells": [
    {
      "cell_type": "markdown",
      "metadata": {
        "id": "view-in-github",
        "colab_type": "text"
      },
      "source": [
        "<a href=\"https://colab.research.google.com/github/RayBasilio123/ic2020/blob/main/WindSun_SARIMA.ipynb\" target=\"_parent\"><img src=\"https://colab.research.google.com/assets/colab-badge.svg\" alt=\"Open In Colab\"/></a>"
      ]
    },
    {
      "cell_type": "markdown",
      "metadata": {
        "id": "9KCxpM4ERA6K"
      },
      "source": [
        "# Algoritmo SARIMA para Previsão de Séries Temporais com base nos dados do INMET"
      ]
    },
    {
      "cell_type": "markdown",
      "metadata": {
        "id": "YYxTM1kJRCww"
      },
      "source": [
        "## Obtendo os dados atráves do github"
      ]
    },
    {
      "cell_type": "code",
      "metadata": {
        "id": "DyyMruHzRAkz",
        "colab": {
          "base_uri": "https://localhost:8080/"
        },
        "outputId": "30538d23-9183-48d9-fcf4-06dcbb6c0bc4"
      },
      "source": [
        "#imports\n",
        "import pandas as pd\n",
        "import numpy as np\n",
        "from datetime import timedelta\n",
        "import statsmodels.api as sm"
      ],
      "execution_count": 1,
      "outputs": [
        {
          "output_type": "stream",
          "text": [
            "/usr/local/lib/python3.7/dist-packages/statsmodels/tools/_testing.py:19: FutureWarning: pandas.util.testing is deprecated. Use the functions in the public API at pandas.testing instead.\n",
            "  import pandas.util.testing as tm\n"
          ],
          "name": "stderr"
        }
      ]
    },
    {
      "cell_type": "code",
      "metadata": {
        "id": "OXkVjiQRRGyz"
      },
      "source": [
        "#obtem os dados\n",
        "url1 = 'https://raw.githubusercontent.com/lrssv/TimeSeriesForecastingWindSun/master/series_ventovel_pampulha_2018_2019'\n",
        "url2 = 'https://raw.githubusercontent.com/lrssv/TimeSeriesForecastingWindSun/master/series_radiacao_pampulha_2018_2019'\n",
        "url3 = 'https://raw.githubusercontent.com/RayBasilio123/R5/master/Eto'\n",
        "\n",
        "df_ventovel = pd.read_csv(url1, header=0, parse_dates=[0], index_col=0, squeeze=True)\n",
        "df_radiacao = pd.read_csv(url2, header=0, parse_dates=[0], index_col=0, squeeze=True)\n",
        "df_eto = pd.read_csv(url3, header=0, parse_dates=[0], index_col=0, squeeze=True)\n",
        "\n",
        "series_ventovel = pd.Series(df_ventovel)\n",
        "series_radiacao = pd.Series(df_radiacao)\n",
        "series_eto = pd.Series(df_eto)"
      ],
      "execution_count": 2,
      "outputs": []
    },
    {
      "cell_type": "markdown",
      "metadata": {
        "id": "kssxm4S6RJxa"
      },
      "source": [
        "## SARIMA"
      ]
    },
    {
      "cell_type": "code",
      "metadata": {
        "id": "KxhPtuZCRILM"
      },
      "source": [
        "def run_sarima(series, steps_ahead, config_ordem, config_sazonal):\n",
        "  result = []\n",
        "  \n",
        "  #Lista de data+hora que será previsto\n",
        "  begin = series.index.max() + timedelta(days=0)\n",
        "  date_list = [begin + timedelta(hours=x) for x in range(1,steps_ahead+1)]\n",
        "  \n",
        "  #Valores da série\n",
        "  values = series.values\n",
        "\n",
        "  #ARIMA\n",
        "  mod = sm.tsa.statespace.SARIMAX(values, order=config_ordem, seasonal_order=config_sazonal)\n",
        "  res = mod.fit(disp=False)\n",
        "  forecast = res.forecast(steps=steps_ahead)\n",
        "\n",
        "  #Resultado no formato para ser exibido no gráfico\n",
        "  for i in range(steps_ahead):\n",
        "    if forecast[i] < 0: \n",
        "      result.append([date_list[i].strftime('%d/%m/%Y %H:%M:%S'),0])\n",
        "    else:\n",
        "      result.append([date_list[i].strftime('%d/%m/%Y %H:%M:%S'),round((forecast[i]),3)])\n",
        "\n",
        "  return result\n",
        "  "
      ],
      "execution_count": 3,
      "outputs": []
    },
    {
      "cell_type": "code",
      "metadata": {
        "id": "0LYC2fJJDDsT"
      },
      "source": [
        "def run_sarimaDay(series, steps_ahead, config_ordem, config_sazonal):\n",
        "  result = []\n",
        "  \n",
        "  #Lista de data+dia que será previsto\n",
        "  begin = series.index.max() + timedelta(days=0)\n",
        "  date_list = [begin + timedelta(days=x) for x in range(1,steps_ahead+1)]\n",
        "  \n",
        "  #Valores da série\n",
        "  values = series.values\n",
        "\n",
        "  #ARIMA\n",
        "  mod = sm.tsa.statespace.SARIMAX(values, order=config_ordem, seasonal_order=config_sazonal)\n",
        "  res = mod.fit(disp=False)\n",
        "  forecast = res.forecast(steps=steps_ahead)\n",
        "\n",
        "  #Resultado no formato para ser exibido no gráfico\n",
        "  for i in range(steps_ahead):\n",
        "    if forecast[i] < 0: \n",
        "      result.append([date_list[i].strftime('%d/%m/%Y' ),0])\n",
        "    else:\n",
        "      result.append([date_list[i].strftime('%d/%m/%Y '),round((forecast[i]),3)])\n",
        "\n",
        "  return result"
      ],
      "execution_count": 4,
      "outputs": []
    },
    {
      "cell_type": "code",
      "metadata": {
        "id": "d8RDUr-_E7I4"
      },
      "source": [
        "order_ven = (3,1,0) \n",
        "order_ven_sazonal = (6,0,0,4)\n",
        "order_rad = (4,0,2)\n",
        "order_rad_sazonal = (1,0,2,4)\n",
        "order_eto2 = (5, 1, 2) #graficos\n",
        "order_eto2_sazonal = (1,0,1,12)\n"
      ],
      "execution_count": 5,
      "outputs": []
    },
    {
      "cell_type": "markdown",
      "metadata": {
        "id": "hjd7w5XhDh8R"
      },
      "source": [
        "## Previsão 1 hora a frente"
      ]
    },
    {
      "cell_type": "code",
      "metadata": {
        "id": "uIgvnPZjDgKQ",
        "colab": {
          "base_uri": "https://localhost:8080/"
        },
        "outputId": "4d9d8128-c0a5-417f-84cf-90fadb25f774"
      },
      "source": [
        "result_ven_1 = run_sarima(series_ventovel,1,order_ven, order_ven_sazonal)\n",
        "result_ven_1"
      ],
      "execution_count": 6,
      "outputs": [
        {
          "output_type": "execute_result",
          "data": {
            "text/plain": [
              "[['01/01/2020 00:00:00', 2.212]]"
            ]
          },
          "metadata": {
            "tags": []
          },
          "execution_count": 6
        }
      ]
    },
    {
      "cell_type": "code",
      "metadata": {
        "id": "75MQdvzSEiq6",
        "colab": {
          "base_uri": "https://localhost:8080/"
        },
        "outputId": "9770badb-dfff-44f8-d5bc-a5db2c9ccc0d"
      },
      "source": [
        "result_rad_1 = run_sarima(series_radiacao,1,order_rad,order_rad_sazonal)\n",
        "result_rad_1"
      ],
      "execution_count": 7,
      "outputs": [
        {
          "output_type": "stream",
          "text": [
            "/usr/local/lib/python3.7/dist-packages/statsmodels/base/model.py:512: ConvergenceWarning: Maximum Likelihood optimization failed to converge. Check mle_retvals\n",
            "  \"Check mle_retvals\", ConvergenceWarning)\n"
          ],
          "name": "stderr"
        },
        {
          "output_type": "execute_result",
          "data": {
            "text/plain": [
              "[['01/01/2020 00:00:00', 139.118]]"
            ]
          },
          "metadata": {
            "tags": []
          },
          "execution_count": 7
        }
      ]
    },
    {
      "cell_type": "markdown",
      "metadata": {
        "id": "Mqx1kVCGEo7h"
      },
      "source": [
        "## Previsão 1 dia a frente"
      ]
    },
    {
      "cell_type": "code",
      "metadata": {
        "id": "GxaIPG2QErfz",
        "colab": {
          "base_uri": "https://localhost:8080/"
        },
        "outputId": "21cef377-14db-4dbb-9225-8d724ef4fc0a"
      },
      "source": [
        "result_ven_2 = run_sarima(series_ventovel,24,order_ven, order_ven_sazonal)\n",
        "result_ven_2"
      ],
      "execution_count": 8,
      "outputs": [
        {
          "output_type": "execute_result",
          "data": {
            "text/plain": [
              "[['01/01/2020 00:00:00', 2.212],\n",
              " ['01/01/2020 01:00:00', 2.399],\n",
              " ['01/01/2020 02:00:00', 2.411],\n",
              " ['01/01/2020 03:00:00', 2.476],\n",
              " ['01/01/2020 04:00:00', 2.34],\n",
              " ['01/01/2020 05:00:00', 2.407],\n",
              " ['01/01/2020 06:00:00', 2.435],\n",
              " ['01/01/2020 07:00:00', 2.401],\n",
              " ['01/01/2020 08:00:00', 2.457],\n",
              " ['01/01/2020 09:00:00', 2.427],\n",
              " ['01/01/2020 10:00:00', 2.467],\n",
              " ['01/01/2020 11:00:00', 2.434],\n",
              " ['01/01/2020 12:00:00', 2.479],\n",
              " ['01/01/2020 13:00:00', 2.408],\n",
              " ['01/01/2020 14:00:00', 2.447],\n",
              " ['01/01/2020 15:00:00', 2.425],\n",
              " ['01/01/2020 16:00:00', 2.549],\n",
              " ['01/01/2020 17:00:00', 2.409],\n",
              " ['01/01/2020 18:00:00', 2.386],\n",
              " ['01/01/2020 19:00:00', 2.435],\n",
              " ['01/01/2020 20:00:00', 2.548],\n",
              " ['01/01/2020 21:00:00', 2.411],\n",
              " ['01/01/2020 22:00:00', 2.379],\n",
              " ['01/01/2020 23:00:00', 2.395]]"
            ]
          },
          "metadata": {
            "tags": []
          },
          "execution_count": 8
        }
      ]
    },
    {
      "cell_type": "code",
      "metadata": {
        "id": "SxKzh4VtE2bS",
        "colab": {
          "base_uri": "https://localhost:8080/"
        },
        "outputId": "fd092258-6435-4f73-a0b0-e2d0cf10446f"
      },
      "source": [
        "result_rad_2 = run_sarima(series_radiacao,24,order_rad,order_rad_sazonal)\n",
        "result_rad_2"
      ],
      "execution_count": 9,
      "outputs": [
        {
          "output_type": "stream",
          "text": [
            "/usr/local/lib/python3.7/dist-packages/statsmodels/base/model.py:512: ConvergenceWarning: Maximum Likelihood optimization failed to converge. Check mle_retvals\n",
            "  \"Check mle_retvals\", ConvergenceWarning)\n"
          ],
          "name": "stderr"
        },
        {
          "output_type": "execute_result",
          "data": {
            "text/plain": [
              "[['01/01/2020 00:00:00', 139.118],\n",
              " ['01/01/2020 01:00:00', 298.382],\n",
              " ['01/01/2020 02:00:00', 513.327],\n",
              " ['01/01/2020 03:00:00', 770.78],\n",
              " ['01/01/2020 04:00:00', 842.114],\n",
              " ['01/01/2020 05:00:00', 594.014],\n",
              " ['01/01/2020 06:00:00', 365.467],\n",
              " ['01/01/2020 07:00:00', 120.523],\n",
              " ['01/01/2020 08:00:00', 0],\n",
              " ['01/01/2020 09:00:00', 0],\n",
              " ['01/01/2020 10:00:00', 0],\n",
              " ['01/01/2020 11:00:00', 0],\n",
              " ['01/01/2020 12:00:00', 44.928],\n",
              " ['01/01/2020 13:00:00', 312.215],\n",
              " ['01/01/2020 14:00:00', 579.167],\n",
              " ['01/01/2020 15:00:00', 750.62],\n",
              " ['01/01/2020 16:00:00', 767.027],\n",
              " ['01/01/2020 17:00:00', 613.621],\n",
              " ['01/01/2020 18:00:00', 360.071],\n",
              " ['01/01/2020 19:00:00', 62.421],\n",
              " ['01/01/2020 20:00:00', 0],\n",
              " ['01/01/2020 21:00:00', 0],\n",
              " ['01/01/2020 22:00:00', 0],\n",
              " ['01/01/2020 23:00:00', 0]]"
            ]
          },
          "metadata": {
            "tags": []
          },
          "execution_count": 9
        }
      ]
    },
    {
      "cell_type": "code",
      "metadata": {
        "id": "gpXoJATGFR_s",
        "colab": {
          "base_uri": "https://localhost:8080/",
          "height": 357
        },
        "outputId": "4d3e270a-34e0-414c-8068-acba055c3801"
      },
      "source": [
        "result_Eto_1 = run_sarimaDay(series_eto,1,order_eto2,(2,1,0))\n",
        "result_Eto_1"
      ],
      "execution_count": 10,
      "outputs": [
        {
          "output_type": "error",
          "ename": "IndexError",
          "evalue": "ignored",
          "traceback": [
            "\u001b[0;31m---------------------------------------------------------------------------\u001b[0m",
            "\u001b[0;31mIndexError\u001b[0m                                Traceback (most recent call last)",
            "\u001b[0;32m<ipython-input-10-91f7a3fec46d>\u001b[0m in \u001b[0;36m<module>\u001b[0;34m()\u001b[0m\n\u001b[0;32m----> 1\u001b[0;31m \u001b[0mresult_Eto_1\u001b[0m \u001b[0;34m=\u001b[0m \u001b[0mrun_sarimaDay\u001b[0m\u001b[0;34m(\u001b[0m\u001b[0mseries_eto\u001b[0m\u001b[0;34m,\u001b[0m\u001b[0;36m1\u001b[0m\u001b[0;34m,\u001b[0m\u001b[0morder_eto2\u001b[0m\u001b[0;34m,\u001b[0m\u001b[0;34m(\u001b[0m\u001b[0;36m2\u001b[0m\u001b[0;34m,\u001b[0m\u001b[0;36m1\u001b[0m\u001b[0;34m,\u001b[0m\u001b[0;36m0\u001b[0m\u001b[0;34m)\u001b[0m\u001b[0;34m)\u001b[0m\u001b[0;34m\u001b[0m\u001b[0;34m\u001b[0m\u001b[0m\n\u001b[0m\u001b[1;32m      2\u001b[0m \u001b[0mresult_Eto_1\u001b[0m\u001b[0;34m\u001b[0m\u001b[0;34m\u001b[0m\u001b[0m\n",
            "\u001b[0;32m<ipython-input-4-2661a1d45bae>\u001b[0m in \u001b[0;36mrun_sarimaDay\u001b[0;34m(series, steps_ahead, config_ordem, config_sazonal)\u001b[0m\n\u001b[1;32m     10\u001b[0m \u001b[0;34m\u001b[0m\u001b[0m\n\u001b[1;32m     11\u001b[0m   \u001b[0;31m#ARIMA\u001b[0m\u001b[0;34m\u001b[0m\u001b[0;34m\u001b[0m\u001b[0;34m\u001b[0m\u001b[0m\n\u001b[0;32m---> 12\u001b[0;31m   \u001b[0mmod\u001b[0m \u001b[0;34m=\u001b[0m \u001b[0msm\u001b[0m\u001b[0;34m.\u001b[0m\u001b[0mtsa\u001b[0m\u001b[0;34m.\u001b[0m\u001b[0mstatespace\u001b[0m\u001b[0;34m.\u001b[0m\u001b[0mSARIMAX\u001b[0m\u001b[0;34m(\u001b[0m\u001b[0mvalues\u001b[0m\u001b[0;34m,\u001b[0m \u001b[0morder\u001b[0m\u001b[0;34m=\u001b[0m\u001b[0mconfig_ordem\u001b[0m\u001b[0;34m,\u001b[0m \u001b[0mseasonal_order\u001b[0m\u001b[0;34m=\u001b[0m\u001b[0mconfig_sazonal\u001b[0m\u001b[0;34m)\u001b[0m\u001b[0;34m\u001b[0m\u001b[0;34m\u001b[0m\u001b[0m\n\u001b[0m\u001b[1;32m     13\u001b[0m   \u001b[0mres\u001b[0m \u001b[0;34m=\u001b[0m \u001b[0mmod\u001b[0m\u001b[0;34m.\u001b[0m\u001b[0mfit\u001b[0m\u001b[0;34m(\u001b[0m\u001b[0mdisp\u001b[0m\u001b[0;34m=\u001b[0m\u001b[0;32mFalse\u001b[0m\u001b[0;34m)\u001b[0m\u001b[0;34m\u001b[0m\u001b[0;34m\u001b[0m\u001b[0m\n\u001b[1;32m     14\u001b[0m   \u001b[0mforecast\u001b[0m \u001b[0;34m=\u001b[0m \u001b[0mres\u001b[0m\u001b[0;34m.\u001b[0m\u001b[0mforecast\u001b[0m\u001b[0;34m(\u001b[0m\u001b[0msteps\u001b[0m\u001b[0;34m=\u001b[0m\u001b[0msteps_ahead\u001b[0m\u001b[0;34m)\u001b[0m\u001b[0;34m\u001b[0m\u001b[0;34m\u001b[0m\u001b[0m\n",
            "\u001b[0;32m/usr/local/lib/python3.7/dist-packages/statsmodels/tsa/statespace/sarimax.py\u001b[0m in \u001b[0;36m__init__\u001b[0;34m(self, endog, exog, order, seasonal_order, trend, measurement_error, time_varying_regression, mle_regression, simple_differencing, enforce_stationarity, enforce_invertibility, hamilton_representation, concentrate_scale, **kwargs)\u001b[0m\n\u001b[1;32m    305\u001b[0m \u001b[0;34m\u001b[0m\u001b[0m\n\u001b[1;32m    306\u001b[0m         \u001b[0;31m# Model parameters\u001b[0m\u001b[0;34m\u001b[0m\u001b[0;34m\u001b[0m\u001b[0;34m\u001b[0m\u001b[0m\n\u001b[0;32m--> 307\u001b[0;31m         \u001b[0mself\u001b[0m\u001b[0;34m.\u001b[0m\u001b[0mseasonal_periods\u001b[0m \u001b[0;34m=\u001b[0m \u001b[0mseasonal_order\u001b[0m\u001b[0;34m[\u001b[0m\u001b[0;36m3\u001b[0m\u001b[0;34m]\u001b[0m\u001b[0;34m\u001b[0m\u001b[0;34m\u001b[0m\u001b[0m\n\u001b[0m\u001b[1;32m    308\u001b[0m         \u001b[0mself\u001b[0m\u001b[0;34m.\u001b[0m\u001b[0mmeasurement_error\u001b[0m \u001b[0;34m=\u001b[0m \u001b[0mmeasurement_error\u001b[0m\u001b[0;34m\u001b[0m\u001b[0;34m\u001b[0m\u001b[0m\n\u001b[1;32m    309\u001b[0m         \u001b[0mself\u001b[0m\u001b[0;34m.\u001b[0m\u001b[0mtime_varying_regression\u001b[0m \u001b[0;34m=\u001b[0m \u001b[0mtime_varying_regression\u001b[0m\u001b[0;34m\u001b[0m\u001b[0;34m\u001b[0m\u001b[0m\n",
            "\u001b[0;31mIndexError\u001b[0m: tuple index out of range"
          ]
        }
      ]
    },
    {
      "cell_type": "markdown",
      "metadata": {
        "id": "1ITM3T4hkWjA"
      },
      "source": [
        "## Previsão 3 dias a frente "
      ]
    },
    {
      "cell_type": "code",
      "metadata": {
        "id": "Efv4R4ULkSul"
      },
      "source": [
        "result_Eto_2= run_sarimaDay(series_eto,3,order_eto2,order_eto2_sazonal)\n",
        "result_Eto_2"
      ],
      "execution_count": null,
      "outputs": []
    },
    {
      "cell_type": "markdown",
      "metadata": {
        "id": "9Rw0RTfME8rS"
      },
      "source": [
        "## Previsão 7 dias a frente "
      ]
    },
    {
      "cell_type": "code",
      "metadata": {
        "id": "mI0ptd_mFCWZ"
      },
      "source": [
        "result_ven_3 = run_sarima(series_ventovel,168,order_ven, order_ven_sazonal)\n",
        "result_ven_3"
      ],
      "execution_count": null,
      "outputs": []
    },
    {
      "cell_type": "code",
      "metadata": {
        "id": "av1K5HxsFIGi"
      },
      "source": [
        "result_rad_3 = run_sarima(series_radiacao,168,order_rad,order_rad_sazonal)\n",
        "result_rad_3"
      ],
      "execution_count": null,
      "outputs": []
    },
    {
      "cell_type": "code",
      "metadata": {
        "id": "KnJQ10BxFtFG"
      },
      "source": [
        "result_Eto_3 = run_sarimaDay(series_eto,7,order_eto2,order_eto2_sazonal)\n",
        "result_Eto_3"
      ],
      "execution_count": null,
      "outputs": []
    },
    {
      "cell_type": "markdown",
      "metadata": {
        "id": "YcFxw8YMGw0h"
      },
      "source": [
        "## Previsão 10 dias a frente "
      ]
    },
    {
      "cell_type": "code",
      "metadata": {
        "id": "_JxB1clVG43I"
      },
      "source": [
        "result_Eto_4 = run_sarimaDay(series_eto,10,order_eto2,order_eto2_sazonal)\n",
        "result_Eto_4"
      ],
      "execution_count": null,
      "outputs": []
    }
  ]
}
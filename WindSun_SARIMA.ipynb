{
  "nbformat": 4,
  "nbformat_minor": 0,
  "metadata": {
    "colab": {
      "name": "WindSun_SARIMA.ipynb",
      "provenance": [],
      "include_colab_link": true
    },
    "kernelspec": {
      "name": "python3",
      "display_name": "Python 3"
    }
  },
  "cells": [
    {
      "cell_type": "markdown",
      "metadata": {
        "id": "view-in-github",
        "colab_type": "text"
      },
      "source": [
        "<a href=\"https://colab.research.google.com/github/RayBasilio123/ic2020/blob/main/WindSun_SARIMA.ipynb\" target=\"_parent\"><img src=\"https://colab.research.google.com/assets/colab-badge.svg\" alt=\"Open In Colab\"/></a>"
      ]
    },
    {
      "cell_type": "markdown",
      "metadata": {
        "id": "9KCxpM4ERA6K"
      },
      "source": [
        "# Algoritmo SARIMA para Previsão de Séries Temporais com base nos dados do INMET"
      ]
    },
    {
      "cell_type": "markdown",
      "metadata": {
        "id": "YYxTM1kJRCww"
      },
      "source": [
        "## Obtendo os dados atráves do github"
      ]
    },
    {
      "cell_type": "code",
      "metadata": {
        "id": "DyyMruHzRAkz",
        "colab": {
          "base_uri": "https://localhost:8080/"
        },
        "outputId": "fc155c24-7570-41ae-c382-d67c4004c38f"
      },
      "source": [
        "#imports\n",
        "import pandas as pd\n",
        "import numpy as np\n",
        "from datetime import timedelta\n",
        "import statsmodels.api as sm"
      ],
      "execution_count": 1,
      "outputs": [
        {
          "output_type": "stream",
          "text": [
            "/usr/local/lib/python3.7/dist-packages/statsmodels/tools/_testing.py:19: FutureWarning: pandas.util.testing is deprecated. Use the functions in the public API at pandas.testing instead.\n",
            "  import pandas.util.testing as tm\n"
          ],
          "name": "stderr"
        }
      ]
    },
    {
      "cell_type": "code",
      "metadata": {
        "id": "OXkVjiQRRGyz"
      },
      "source": [
        "#obtem os dados\n",
        "url1 = 'https://raw.githubusercontent.com/lrssv/TimeSeriesForecastingWindSun/master/series_ventovel_pampulha_2018_2019'\n",
        "url2 = 'https://raw.githubusercontent.com/lrssv/TimeSeriesForecastingWindSun/master/series_radiacao_pampulha_2018_2019'\n",
        "url3 = 'https://raw.githubusercontent.com/RayBasilio123/R5/master/Eto'\n",
        "\n",
        "df_ventovel = pd.read_csv(url1, header=0, parse_dates=[0], index_col=0, squeeze=True)\n",
        "df_radiacao = pd.read_csv(url2, header=0, parse_dates=[0], index_col=0, squeeze=True)\n",
        "df_eto = pd.read_csv(url3, header=0, parse_dates=[0], index_col=0, squeeze=True)\n",
        "\n",
        "series_ventovel = pd.Series(df_ventovel)\n",
        "series_radiacao = pd.Series(df_radiacao)\n",
        "series_eto = pd.Series(df_eto)"
      ],
      "execution_count": 2,
      "outputs": []
    },
    {
      "cell_type": "markdown",
      "metadata": {
        "id": "kssxm4S6RJxa"
      },
      "source": [
        "## SARIMA"
      ]
    },
    {
      "cell_type": "code",
      "metadata": {
        "id": "KxhPtuZCRILM"
      },
      "source": [
        "def run_sarima(series, steps_ahead, config_ordem, config_sazonal):\n",
        "  result = []\n",
        "  \n",
        "  #Lista de data+hora que será previsto\n",
        "  begin = series.index.max() + timedelta(days=0)\n",
        "  date_list = [begin + timedelta(hours=x) for x in range(1,steps_ahead+1)]\n",
        "  \n",
        "  #Valores da série\n",
        "  values = series.values\n",
        "\n",
        "  #ARIMA\n",
        "  mod = sm.tsa.statespace.SARIMAX(values, order=config_ordem, seasonal_order=config_sazonal)\n",
        "  res = mod.fit(disp=False)\n",
        "  forecast = res.forecast(steps=steps_ahead)\n",
        "\n",
        "  #Resultado no formato para ser exibido no gráfico\n",
        "  for i in range(steps_ahead):\n",
        "    if forecast[i] < 0: \n",
        "      result.append([date_list[i].strftime('%d/%m/%Y %H:%M:%S'),0])\n",
        "    else:\n",
        "      result.append([date_list[i].strftime('%d/%m/%Y %H:%M:%S'),round((forecast[i]),3)])\n",
        "\n",
        "  return result\n",
        "  "
      ],
      "execution_count": 3,
      "outputs": []
    },
    {
      "cell_type": "code",
      "metadata": {
        "id": "0LYC2fJJDDsT"
      },
      "source": [
        "def run_sarimaDay(series, steps_ahead, config_ordem, config_sazonal):\n",
        "  result = []\n",
        "  \n",
        "  #Lista de data+hora que será previsto\n",
        "  begin = series.index.max() + timedelta(days=0)\n",
        "  date_list = [begin + timedelta(days=x) for x in range(1,steps_ahead+1)]\n",
        "  \n",
        "  #Valores da série\n",
        "  values = series.values\n",
        "\n",
        "  #ARIMA\n",
        "  mod = sm.tsa.statespace.SARIMAX(values, order=config_ordem, seasonal_order=config_sazonal)\n",
        "  res = mod.fit(disp=False)\n",
        "  forecast = res.forecast(steps=steps_ahead)\n",
        "\n",
        "  #Resultado no formato para ser exibido no gráfico\n",
        "  for i in range(steps_ahead):\n",
        "    if forecast[i] < 0: \n",
        "      result.append([date_list[i].strftime('%d/%m/%Y' ),0])\n",
        "    else:\n",
        "      result.append([date_list[i].strftime('%d/%m/%Y '),round((forecast[i]),3)])\n",
        "\n",
        "  return result"
      ],
      "execution_count": 4,
      "outputs": []
    },
    {
      "cell_type": "code",
      "metadata": {
        "id": "d8RDUr-_E7I4"
      },
      "source": [
        "order_ven = (3,1,0) \n",
        "order_ven_sazonal = (6,0,0,4)\n",
        "order_rad = (4,0,2)\n",
        "order_rad_sazonal = (1,0,2,4)\n",
        "order_eto2 = (5, 1, 2) #graficos\n",
        "order_eto2_sazonal = (1,0,1,3)\n"
      ],
      "execution_count": 5,
      "outputs": []
    },
    {
      "cell_type": "markdown",
      "metadata": {
        "id": "hjd7w5XhDh8R"
      },
      "source": [
        "## Previsão 1 hora a frente"
      ]
    },
    {
      "cell_type": "code",
      "metadata": {
        "id": "uIgvnPZjDgKQ",
        "colab": {
          "base_uri": "https://localhost:8080/"
        },
        "outputId": "8db99628-d8b7-4ab3-e7cb-e2205e030170"
      },
      "source": [
        "result_ven_1 = run_sarima(series_ventovel,1,order_ven, order_ven_sazonal)\n",
        "result_ven_1"
      ],
      "execution_count": 6,
      "outputs": [
        {
          "output_type": "execute_result",
          "data": {
            "text/plain": [
              "[['01/01/2020 00:00:00', 2.212]]"
            ]
          },
          "metadata": {
            "tags": []
          },
          "execution_count": 6
        }
      ]
    },
    {
      "cell_type": "code",
      "metadata": {
        "id": "75MQdvzSEiq6",
        "colab": {
          "base_uri": "https://localhost:8080/"
        },
        "outputId": "611a3d3f-34fe-4e89-d767-93163358aa77"
      },
      "source": [
        "result_rad_1 = run_sarima(series_radiacao,1,order_rad,order_rad_sazonal)\n",
        "result_rad_1"
      ],
      "execution_count": 7,
      "outputs": [
        {
          "output_type": "stream",
          "text": [
            "/usr/local/lib/python3.7/dist-packages/statsmodels/base/model.py:512: ConvergenceWarning: Maximum Likelihood optimization failed to converge. Check mle_retvals\n",
            "  \"Check mle_retvals\", ConvergenceWarning)\n"
          ],
          "name": "stderr"
        },
        {
          "output_type": "execute_result",
          "data": {
            "text/plain": [
              "[['01/01/2020 00:00:00', 139.118]]"
            ]
          },
          "metadata": {
            "tags": []
          },
          "execution_count": 7
        }
      ]
    },
    {
      "cell_type": "markdown",
      "metadata": {
        "id": "Mqx1kVCGEo7h"
      },
      "source": [
        "## Previsão 1 dia a frente"
      ]
    },
    {
      "cell_type": "code",
      "metadata": {
        "id": "GxaIPG2QErfz",
        "colab": {
          "base_uri": "https://localhost:8080/"
        },
        "outputId": "127db112-87cd-4c09-b82e-cb45c8e88ac0"
      },
      "source": [
        "result_ven_2 = run_sarima(series_ventovel,24,order_ven, order_ven_sazonal)\n",
        "result_ven_2"
      ],
      "execution_count": 8,
      "outputs": [
        {
          "output_type": "execute_result",
          "data": {
            "text/plain": [
              "[['01/01/2020 00:00:00', 2.212],\n",
              " ['01/01/2020 01:00:00', 2.399],\n",
              " ['01/01/2020 02:00:00', 2.411],\n",
              " ['01/01/2020 03:00:00', 2.476],\n",
              " ['01/01/2020 04:00:00', 2.34],\n",
              " ['01/01/2020 05:00:00', 2.407],\n",
              " ['01/01/2020 06:00:00', 2.435],\n",
              " ['01/01/2020 07:00:00', 2.401],\n",
              " ['01/01/2020 08:00:00', 2.457],\n",
              " ['01/01/2020 09:00:00', 2.427],\n",
              " ['01/01/2020 10:00:00', 2.467],\n",
              " ['01/01/2020 11:00:00', 2.434],\n",
              " ['01/01/2020 12:00:00', 2.479],\n",
              " ['01/01/2020 13:00:00', 2.408],\n",
              " ['01/01/2020 14:00:00', 2.447],\n",
              " ['01/01/2020 15:00:00', 2.425],\n",
              " ['01/01/2020 16:00:00', 2.549],\n",
              " ['01/01/2020 17:00:00', 2.409],\n",
              " ['01/01/2020 18:00:00', 2.386],\n",
              " ['01/01/2020 19:00:00', 2.435],\n",
              " ['01/01/2020 20:00:00', 2.548],\n",
              " ['01/01/2020 21:00:00', 2.411],\n",
              " ['01/01/2020 22:00:00', 2.379],\n",
              " ['01/01/2020 23:00:00', 2.395]]"
            ]
          },
          "metadata": {
            "tags": []
          },
          "execution_count": 8
        }
      ]
    },
    {
      "cell_type": "code",
      "metadata": {
        "id": "SxKzh4VtE2bS",
        "colab": {
          "base_uri": "https://localhost:8080/"
        },
        "outputId": "2842be42-54f7-464e-d57a-7a1e451ea3c9"
      },
      "source": [
        "result_rad_2 = run_sarima(series_radiacao,24,order_rad,order_rad_sazonal)\n",
        "result_rad_2"
      ],
      "execution_count": 9,
      "outputs": [
        {
          "output_type": "stream",
          "text": [
            "/usr/local/lib/python3.7/dist-packages/statsmodels/base/model.py:512: ConvergenceWarning: Maximum Likelihood optimization failed to converge. Check mle_retvals\n",
            "  \"Check mle_retvals\", ConvergenceWarning)\n"
          ],
          "name": "stderr"
        },
        {
          "output_type": "execute_result",
          "data": {
            "text/plain": [
              "[['01/01/2020 00:00:00', 139.118],\n",
              " ['01/01/2020 01:00:00', 298.382],\n",
              " ['01/01/2020 02:00:00', 513.327],\n",
              " ['01/01/2020 03:00:00', 770.78],\n",
              " ['01/01/2020 04:00:00', 842.114],\n",
              " ['01/01/2020 05:00:00', 594.014],\n",
              " ['01/01/2020 06:00:00', 365.467],\n",
              " ['01/01/2020 07:00:00', 120.523],\n",
              " ['01/01/2020 08:00:00', 0],\n",
              " ['01/01/2020 09:00:00', 0],\n",
              " ['01/01/2020 10:00:00', 0],\n",
              " ['01/01/2020 11:00:00', 0],\n",
              " ['01/01/2020 12:00:00', 44.928],\n",
              " ['01/01/2020 13:00:00', 312.215],\n",
              " ['01/01/2020 14:00:00', 579.167],\n",
              " ['01/01/2020 15:00:00', 750.62],\n",
              " ['01/01/2020 16:00:00', 767.027],\n",
              " ['01/01/2020 17:00:00', 613.621],\n",
              " ['01/01/2020 18:00:00', 360.071],\n",
              " ['01/01/2020 19:00:00', 62.421],\n",
              " ['01/01/2020 20:00:00', 0],\n",
              " ['01/01/2020 21:00:00', 0],\n",
              " ['01/01/2020 22:00:00', 0],\n",
              " ['01/01/2020 23:00:00', 0]]"
            ]
          },
          "metadata": {
            "tags": []
          },
          "execution_count": 9
        }
      ]
    },
    {
      "cell_type": "code",
      "metadata": {
        "id": "gpXoJATGFR_s",
        "colab": {
          "base_uri": "https://localhost:8080/"
        },
        "outputId": "39f48a40-01dd-45f0-deb0-7342c5f6688f"
      },
      "source": [
        "result_Eto_1 = run_sarimaDay(series_eto,1,order_eto2,order_eto2_sazonal)\n",
        "result_Eto_1"
      ],
      "execution_count": 10,
      "outputs": [
        {
          "output_type": "stream",
          "text": [
            "/usr/local/lib/python3.7/dist-packages/statsmodels/base/model.py:512: ConvergenceWarning: Maximum Likelihood optimization failed to converge. Check mle_retvals\n",
            "  \"Check mle_retvals\", ConvergenceWarning)\n"
          ],
          "name": "stderr"
        },
        {
          "output_type": "execute_result",
          "data": {
            "text/plain": [
              "[['01/01/2020 ', 5.604]]"
            ]
          },
          "metadata": {
            "tags": []
          },
          "execution_count": 10
        }
      ]
    },
    {
      "cell_type": "markdown",
      "metadata": {
        "id": "1ITM3T4hkWjA"
      },
      "source": [
        "## Previsão 3 dias a frente "
      ]
    },
    {
      "cell_type": "code",
      "metadata": {
        "id": "Efv4R4ULkSul",
        "colab": {
          "base_uri": "https://localhost:8080/"
        },
        "outputId": "817745da-dcb8-4bcd-a91e-bbd8bbc9adfb"
      },
      "source": [
        "result_Eto_2= run_sarimaDay(series_eto,3,order_eto2,order_eto2_sazonal)\n",
        "result_Eto_2"
      ],
      "execution_count": 11,
      "outputs": [
        {
          "output_type": "stream",
          "text": [
            "/usr/local/lib/python3.7/dist-packages/statsmodels/base/model.py:512: ConvergenceWarning: Maximum Likelihood optimization failed to converge. Check mle_retvals\n",
            "  \"Check mle_retvals\", ConvergenceWarning)\n"
          ],
          "name": "stderr"
        },
        {
          "output_type": "execute_result",
          "data": {
            "text/plain": [
              "[['01/01/2020 ', 5.604], ['02/01/2020 ', 5.529], ['03/01/2020 ', 5.54]]"
            ]
          },
          "metadata": {
            "tags": []
          },
          "execution_count": 11
        }
      ]
    },
    {
      "cell_type": "markdown",
      "metadata": {
        "id": "9Rw0RTfME8rS"
      },
      "source": [
        "## Previsão 7 dias a frente "
      ]
    },
    {
      "cell_type": "code",
      "metadata": {
        "id": "mI0ptd_mFCWZ",
        "colab": {
          "base_uri": "https://localhost:8080/"
        },
        "outputId": "0673b8b6-7f5f-4736-ca3c-8ddc0f4fe7bd"
      },
      "source": [
        "result_ven_3 = run_sarima(series_ventovel,168,order_ven, order_ven_sazonal)\n",
        "result_ven_3"
      ],
      "execution_count": 12,
      "outputs": [
        {
          "output_type": "execute_result",
          "data": {
            "text/plain": [
              "[['01/01/2020 00:00:00', 2.212],\n",
              " ['01/01/2020 01:00:00', 2.399],\n",
              " ['01/01/2020 02:00:00', 2.411],\n",
              " ['01/01/2020 03:00:00', 2.476],\n",
              " ['01/01/2020 04:00:00', 2.34],\n",
              " ['01/01/2020 05:00:00', 2.407],\n",
              " ['01/01/2020 06:00:00', 2.435],\n",
              " ['01/01/2020 07:00:00', 2.401],\n",
              " ['01/01/2020 08:00:00', 2.457],\n",
              " ['01/01/2020 09:00:00', 2.427],\n",
              " ['01/01/2020 10:00:00', 2.467],\n",
              " ['01/01/2020 11:00:00', 2.434],\n",
              " ['01/01/2020 12:00:00', 2.479],\n",
              " ['01/01/2020 13:00:00', 2.408],\n",
              " ['01/01/2020 14:00:00', 2.447],\n",
              " ['01/01/2020 15:00:00', 2.425],\n",
              " ['01/01/2020 16:00:00', 2.549],\n",
              " ['01/01/2020 17:00:00', 2.409],\n",
              " ['01/01/2020 18:00:00', 2.386],\n",
              " ['01/01/2020 19:00:00', 2.435],\n",
              " ['01/01/2020 20:00:00', 2.548],\n",
              " ['01/01/2020 21:00:00', 2.411],\n",
              " ['01/01/2020 22:00:00', 2.379],\n",
              " ['01/01/2020 23:00:00', 2.395],\n",
              " ['02/01/2020 00:00:00', 2.553],\n",
              " ['02/01/2020 01:00:00', 2.484],\n",
              " ['02/01/2020 02:00:00', 2.469],\n",
              " ['02/01/2020 03:00:00', 2.425],\n",
              " ['02/01/2020 04:00:00', 2.425],\n",
              " ['02/01/2020 05:00:00', 2.438],\n",
              " ['02/01/2020 06:00:00', 2.443],\n",
              " ['02/01/2020 07:00:00', 2.446],\n",
              " ['02/01/2020 08:00:00', 2.444],\n",
              " ['02/01/2020 09:00:00', 2.439],\n",
              " ['02/01/2020 10:00:00', 2.444],\n",
              " ['02/01/2020 11:00:00', 2.442],\n",
              " ['02/01/2020 12:00:00', 2.455],\n",
              " ['02/01/2020 13:00:00', 2.441],\n",
              " ['02/01/2020 14:00:00', 2.444],\n",
              " ['02/01/2020 15:00:00', 2.443],\n",
              " ['02/01/2020 16:00:00', 2.458],\n",
              " ['02/01/2020 17:00:00', 2.441],\n",
              " ['02/01/2020 18:00:00', 2.441],\n",
              " ['02/01/2020 19:00:00', 2.442],\n",
              " ['02/01/2020 20:00:00', 2.461],\n",
              " ['02/01/2020 21:00:00', 2.443],\n",
              " ['02/01/2020 22:00:00', 2.439],\n",
              " ['02/01/2020 23:00:00', 2.442],\n",
              " ['03/01/2020 00:00:00', 2.457],\n",
              " ['03/01/2020 01:00:00', 2.445],\n",
              " ['03/01/2020 02:00:00', 2.442],\n",
              " ['03/01/2020 03:00:00', 2.442],\n",
              " ['03/01/2020 04:00:00', 2.452],\n",
              " ['03/01/2020 05:00:00', 2.448],\n",
              " ['03/01/2020 06:00:00', 2.447],\n",
              " ['03/01/2020 07:00:00', 2.445],\n",
              " ['03/01/2020 08:00:00', 2.445],\n",
              " ['03/01/2020 09:00:00', 2.445],\n",
              " ['03/01/2020 10:00:00', 2.445],\n",
              " ['03/01/2020 11:00:00', 2.446],\n",
              " ['03/01/2020 12:00:00', 2.447],\n",
              " ['03/01/2020 13:00:00', 2.445],\n",
              " ['03/01/2020 14:00:00', 2.445],\n",
              " ['03/01/2020 15:00:00', 2.445],\n",
              " ['03/01/2020 16:00:00', 2.448],\n",
              " ['03/01/2020 17:00:00', 2.445],\n",
              " ['03/01/2020 18:00:00', 2.445],\n",
              " ['03/01/2020 19:00:00', 2.445],\n",
              " ['03/01/2020 20:00:00', 2.448],\n",
              " ['03/01/2020 21:00:00', 2.445],\n",
              " ['03/01/2020 22:00:00', 2.445],\n",
              " ['03/01/2020 23:00:00', 2.445],\n",
              " ['04/01/2020 00:00:00', 2.448],\n",
              " ['04/01/2020 01:00:00', 2.446],\n",
              " ['04/01/2020 02:00:00', 2.445],\n",
              " ['04/01/2020 03:00:00', 2.445],\n",
              " ['04/01/2020 04:00:00', 2.447],\n",
              " ['04/01/2020 05:00:00', 2.446],\n",
              " ['04/01/2020 06:00:00', 2.446],\n",
              " ['04/01/2020 07:00:00', 2.446],\n",
              " ['04/01/2020 08:00:00', 2.446],\n",
              " ['04/01/2020 09:00:00', 2.446],\n",
              " ['04/01/2020 10:00:00', 2.446],\n",
              " ['04/01/2020 11:00:00', 2.446],\n",
              " ['04/01/2020 12:00:00', 2.446],\n",
              " ['04/01/2020 13:00:00', 2.446],\n",
              " ['04/01/2020 14:00:00', 2.446],\n",
              " ['04/01/2020 15:00:00', 2.446],\n",
              " ['04/01/2020 16:00:00', 2.446],\n",
              " ['04/01/2020 17:00:00', 2.446],\n",
              " ['04/01/2020 18:00:00', 2.446],\n",
              " ['04/01/2020 19:00:00', 2.446],\n",
              " ['04/01/2020 20:00:00', 2.446],\n",
              " ['04/01/2020 21:00:00', 2.446],\n",
              " ['04/01/2020 22:00:00', 2.446],\n",
              " ['04/01/2020 23:00:00', 2.446],\n",
              " ['05/01/2020 00:00:00', 2.446],\n",
              " ['05/01/2020 01:00:00', 2.446],\n",
              " ['05/01/2020 02:00:00', 2.446],\n",
              " ['05/01/2020 03:00:00', 2.446],\n",
              " ['05/01/2020 04:00:00', 2.446],\n",
              " ['05/01/2020 05:00:00', 2.446],\n",
              " ['05/01/2020 06:00:00', 2.446],\n",
              " ['05/01/2020 07:00:00', 2.446],\n",
              " ['05/01/2020 08:00:00', 2.446],\n",
              " ['05/01/2020 09:00:00', 2.446],\n",
              " ['05/01/2020 10:00:00', 2.446],\n",
              " ['05/01/2020 11:00:00', 2.446],\n",
              " ['05/01/2020 12:00:00', 2.446],\n",
              " ['05/01/2020 13:00:00', 2.446],\n",
              " ['05/01/2020 14:00:00', 2.446],\n",
              " ['05/01/2020 15:00:00', 2.446],\n",
              " ['05/01/2020 16:00:00', 2.446],\n",
              " ['05/01/2020 17:00:00', 2.446],\n",
              " ['05/01/2020 18:00:00', 2.446],\n",
              " ['05/01/2020 19:00:00', 2.446],\n",
              " ['05/01/2020 20:00:00', 2.446],\n",
              " ['05/01/2020 21:00:00', 2.446],\n",
              " ['05/01/2020 22:00:00', 2.446],\n",
              " ['05/01/2020 23:00:00', 2.446],\n",
              " ['06/01/2020 00:00:00', 2.446],\n",
              " ['06/01/2020 01:00:00', 2.446],\n",
              " ['06/01/2020 02:00:00', 2.446],\n",
              " ['06/01/2020 03:00:00', 2.446],\n",
              " ['06/01/2020 04:00:00', 2.446],\n",
              " ['06/01/2020 05:00:00', 2.446],\n",
              " ['06/01/2020 06:00:00', 2.446],\n",
              " ['06/01/2020 07:00:00', 2.446],\n",
              " ['06/01/2020 08:00:00', 2.446],\n",
              " ['06/01/2020 09:00:00', 2.446],\n",
              " ['06/01/2020 10:00:00', 2.446],\n",
              " ['06/01/2020 11:00:00', 2.446],\n",
              " ['06/01/2020 12:00:00', 2.446],\n",
              " ['06/01/2020 13:00:00', 2.446],\n",
              " ['06/01/2020 14:00:00', 2.446],\n",
              " ['06/01/2020 15:00:00', 2.446],\n",
              " ['06/01/2020 16:00:00', 2.446],\n",
              " ['06/01/2020 17:00:00', 2.446],\n",
              " ['06/01/2020 18:00:00', 2.446],\n",
              " ['06/01/2020 19:00:00', 2.446],\n",
              " ['06/01/2020 20:00:00', 2.446],\n",
              " ['06/01/2020 21:00:00', 2.446],\n",
              " ['06/01/2020 22:00:00', 2.446],\n",
              " ['06/01/2020 23:00:00', 2.446],\n",
              " ['07/01/2020 00:00:00', 2.446],\n",
              " ['07/01/2020 01:00:00', 2.446],\n",
              " ['07/01/2020 02:00:00', 2.446],\n",
              " ['07/01/2020 03:00:00', 2.446],\n",
              " ['07/01/2020 04:00:00', 2.446],\n",
              " ['07/01/2020 05:00:00', 2.446],\n",
              " ['07/01/2020 06:00:00', 2.446],\n",
              " ['07/01/2020 07:00:00', 2.446],\n",
              " ['07/01/2020 08:00:00', 2.446],\n",
              " ['07/01/2020 09:00:00', 2.446],\n",
              " ['07/01/2020 10:00:00', 2.446],\n",
              " ['07/01/2020 11:00:00', 2.446],\n",
              " ['07/01/2020 12:00:00', 2.446],\n",
              " ['07/01/2020 13:00:00', 2.446],\n",
              " ['07/01/2020 14:00:00', 2.446],\n",
              " ['07/01/2020 15:00:00', 2.446],\n",
              " ['07/01/2020 16:00:00', 2.446],\n",
              " ['07/01/2020 17:00:00', 2.446],\n",
              " ['07/01/2020 18:00:00', 2.446],\n",
              " ['07/01/2020 19:00:00', 2.446],\n",
              " ['07/01/2020 20:00:00', 2.446],\n",
              " ['07/01/2020 21:00:00', 2.446],\n",
              " ['07/01/2020 22:00:00', 2.446],\n",
              " ['07/01/2020 23:00:00', 2.446]]"
            ]
          },
          "metadata": {
            "tags": []
          },
          "execution_count": 12
        }
      ]
    },
    {
      "cell_type": "code",
      "metadata": {
        "id": "av1K5HxsFIGi",
        "colab": {
          "base_uri": "https://localhost:8080/"
        },
        "outputId": "03cf99e9-a5e7-4b13-8525-a767ddbdff30"
      },
      "source": [
        "result_rad_3 = run_sarima(series_radiacao,168,order_rad,order_rad_sazonal)\n",
        "result_rad_3"
      ],
      "execution_count": 13,
      "outputs": [
        {
          "output_type": "stream",
          "text": [
            "/usr/local/lib/python3.7/dist-packages/statsmodels/base/model.py:512: ConvergenceWarning: Maximum Likelihood optimization failed to converge. Check mle_retvals\n",
            "  \"Check mle_retvals\", ConvergenceWarning)\n"
          ],
          "name": "stderr"
        },
        {
          "output_type": "execute_result",
          "data": {
            "text/plain": [
              "[['01/01/2020 00:00:00', 139.118],\n",
              " ['01/01/2020 01:00:00', 298.382],\n",
              " ['01/01/2020 02:00:00', 513.327],\n",
              " ['01/01/2020 03:00:00', 770.78],\n",
              " ['01/01/2020 04:00:00', 842.114],\n",
              " ['01/01/2020 05:00:00', 594.014],\n",
              " ['01/01/2020 06:00:00', 365.467],\n",
              " ['01/01/2020 07:00:00', 120.523],\n",
              " ['01/01/2020 08:00:00', 0],\n",
              " ['01/01/2020 09:00:00', 0],\n",
              " ['01/01/2020 10:00:00', 0],\n",
              " ['01/01/2020 11:00:00', 0],\n",
              " ['01/01/2020 12:00:00', 44.928],\n",
              " ['01/01/2020 13:00:00', 312.215],\n",
              " ['01/01/2020 14:00:00', 579.167],\n",
              " ['01/01/2020 15:00:00', 750.62],\n",
              " ['01/01/2020 16:00:00', 767.027],\n",
              " ['01/01/2020 17:00:00', 613.621],\n",
              " ['01/01/2020 18:00:00', 360.071],\n",
              " ['01/01/2020 19:00:00', 62.421],\n",
              " ['01/01/2020 20:00:00', 0],\n",
              " ['01/01/2020 21:00:00', 0],\n",
              " ['01/01/2020 22:00:00', 0],\n",
              " ['01/01/2020 23:00:00', 0],\n",
              " ['02/01/2020 00:00:00', 0],\n",
              " ['02/01/2020 01:00:00', 249.737],\n",
              " ['02/01/2020 02:00:00', 505.67],\n",
              " ['02/01/2020 03:00:00', 660.93],\n",
              " ['02/01/2020 04:00:00', 671.455],\n",
              " ['02/01/2020 05:00:00', 532.538],\n",
              " ['02/01/2020 06:00:00', 283.783],\n",
              " ['02/01/2020 07:00:00', 0],\n",
              " ['02/01/2020 08:00:00', 0],\n",
              " ['02/01/2020 09:00:00', 0],\n",
              " ['02/01/2020 10:00:00', 0],\n",
              " ['02/01/2020 11:00:00', 0],\n",
              " ['02/01/2020 12:00:00', 0],\n",
              " ['02/01/2020 13:00:00', 194.937],\n",
              " ['02/01/2020 14:00:00', 445.526],\n",
              " ['02/01/2020 15:00:00', 596.235],\n",
              " ['02/01/2020 16:00:00', 605.999],\n",
              " ['02/01/2020 17:00:00', 471.772],\n",
              " ['02/01/2020 18:00:00', 229.602],\n",
              " ['02/01/2020 19:00:00', 0],\n",
              " ['02/01/2020 20:00:00', 0],\n",
              " ['02/01/2020 21:00:00', 0],\n",
              " ['02/01/2020 22:00:00', 0],\n",
              " ['02/01/2020 23:00:00', 0],\n",
              " ['03/01/2020 00:00:00', 0],\n",
              " ['03/01/2020 01:00:00', 162.068],\n",
              " ['03/01/2020 02:00:00', 407.109],\n",
              " ['03/01/2020 03:00:00', 553.738],\n",
              " ['03/01/2020 04:00:00', 562.5],\n",
              " ['03/01/2020 05:00:00', 431.08],\n",
              " ['03/01/2020 06:00:00', 194.814],\n",
              " ['03/01/2020 07:00:00', 0],\n",
              " ['03/01/2020 08:00:00', 0],\n",
              " ['03/01/2020 09:00:00', 0],\n",
              " ['03/01/2020 10:00:00', 0],\n",
              " ['03/01/2020 11:00:00', 0],\n",
              " ['03/01/2020 12:00:00', 0],\n",
              " ['03/01/2020 13:00:00', 143.51],\n",
              " ['03/01/2020 14:00:00', 382.584],\n",
              " ['03/01/2020 15:00:00', 524.8],\n",
              " ['03/01/2020 16:00:00', 532.122],\n",
              " ['03/01/2020 17:00:00', 402.841],\n",
              " ['03/01/2020 18:00:00', 171.882],\n",
              " ['03/01/2020 19:00:00', 0],\n",
              " ['03/01/2020 20:00:00', 0],\n",
              " ['03/01/2020 21:00:00', 0],\n",
              " ['03/01/2020 22:00:00', 0],\n",
              " ['03/01/2020 23:00:00', 0],\n",
              " ['04/01/2020 00:00:00', 0],\n",
              " ['04/01/2020 01:00:00', 133.24],\n",
              " ['04/01/2020 02:00:00', 366.143],\n",
              " ['04/01/2020 03:00:00', 503.75],\n",
              " ['04/01/2020 04:00:00', 509.389],\n",
              " ['04/01/2020 05:00:00', 381.915],\n",
              " ['04/01/2020 06:00:00', 155.873],\n",
              " ['04/01/2020 07:00:00', 0],\n",
              " ['04/01/2020 08:00:00', 0],\n",
              " ['04/01/2020 09:00:00', 0],\n",
              " ['04/01/2020 10:00:00', 0],\n",
              " ['04/01/2020 11:00:00', 0],\n",
              " ['04/01/2020 12:00:00', 0],\n",
              " ['04/01/2020 13:00:00', 127.657],\n",
              " ['04/01/2020 14:00:00', 354.338],\n",
              " ['04/01/2020 15:00:00', 487.282],\n",
              " ['04/01/2020 16:00:00', 491.135],\n",
              " ['04/01/2020 17:00:00', 365.29],\n",
              " ['04/01/2020 18:00:00', 143.911],\n",
              " ['04/01/2020 19:00:00', 0],\n",
              " ['04/01/2020 20:00:00', 0],\n",
              " ['04/01/2020 21:00:00', 0],\n",
              " ['04/01/2020 22:00:00', 0],\n",
              " ['04/01/2020 23:00:00', 0],\n",
              " ['05/01/2020 00:00:00', 0],\n",
              " ['05/01/2020 01:00:00', 124.695],\n",
              " ['05/01/2020 02:00:00', 345.195],\n",
              " ['05/01/2020 03:00:00', 473.506],\n",
              " ['05/01/2020 04:00:00', 475.553],\n",
              " ['05/01/2020 05:00:00', 351.243],\n",
              " ['05/01/2020 06:00:00', 134.352],\n",
              " ['05/01/2020 07:00:00', 0],\n",
              " ['05/01/2020 08:00:00', 0],\n",
              " ['05/01/2020 09:00:00', 0],\n",
              " ['05/01/2020 10:00:00', 0],\n",
              " ['05/01/2020 11:00:00', 0],\n",
              " ['05/01/2020 12:00:00', 0],\n",
              " ['05/01/2020 13:00:00', 123.181],\n",
              " ['05/01/2020 14:00:00', 337.591],\n",
              " ['05/01/2020 15:00:00', 461.347],\n",
              " ['05/01/2020 16:00:00', 461.614],\n",
              " ['05/01/2020 17:00:00', 338.788],\n",
              " ['05/01/2020 18:00:00', 126.255],\n",
              " ['05/01/2020 19:00:00', 0],\n",
              " ['05/01/2020 20:00:00', 0],\n",
              " ['05/01/2020 21:00:00', 0],\n",
              " ['05/01/2020 22:00:00', 0],\n",
              " ['05/01/2020 23:00:00', 0],\n",
              " ['06/01/2020 00:00:00', 0],\n",
              " ['06/01/2020 01:00:00', 122.449],\n",
              " ['06/01/2020 02:00:00', 330.886],\n",
              " ['06/01/2020 03:00:00', 450.191],\n",
              " ['06/01/2020 04:00:00', 448.73],\n",
              " ['06/01/2020 05:00:00', 327.362],\n",
              " ['06/01/2020 06:00:00', 119.085],\n",
              " ['06/01/2020 07:00:00', 0],\n",
              " ['06/01/2020 08:00:00', 0],\n",
              " ['06/01/2020 09:00:00', 0],\n",
              " ['06/01/2020 10:00:00', 0],\n",
              " ['06/01/2020 11:00:00', 0],\n",
              " ['06/01/2020 12:00:00', 0],\n",
              " ['06/01/2020 13:00:00', 122.122],\n",
              " ['06/01/2020 14:00:00', 324.718],\n",
              " ['06/01/2020 15:00:00', 439.689],\n",
              " ['06/01/2020 16:00:00', 436.562],\n",
              " ['06/01/2020 17:00:00', 316.643],\n",
              " ['06/01/2020 18:00:00', 112.534],\n",
              " ['06/01/2020 19:00:00', 0],\n",
              " ['06/01/2020 20:00:00', 0],\n",
              " ['06/01/2020 21:00:00', 0],\n",
              " ['06/01/2020 22:00:00', 0],\n",
              " ['06/01/2020 23:00:00', 0],\n",
              " ['07/01/2020 00:00:00', 0],\n",
              " ['07/01/2020 01:00:00', 121.989],\n",
              " ['07/01/2020 02:00:00', 318.881],\n",
              " ['07/01/2020 03:00:00', 429.639],\n",
              " ['07/01/2020 04:00:00', 424.918],\n",
              " ['07/01/2020 05:00:00', 306.444],\n",
              " ['07/01/2020 06:00:00', 106.423],\n",
              " ['07/01/2020 07:00:00', 0],\n",
              " ['07/01/2020 08:00:00', 0],\n",
              " ['07/01/2020 09:00:00', 0],\n",
              " ['07/01/2020 10:00:00', 0],\n",
              " ['07/01/2020 11:00:00', 0],\n",
              " ['07/01/2020 12:00:00', 0],\n",
              " ['07/01/2020 13:00:00', 121.931],\n",
              " ['07/01/2020 14:00:00', 313.259],\n",
              " ['07/01/2020 15:00:00', 419.928],\n",
              " ['07/01/2020 16:00:00', 413.685],\n",
              " ['07/01/2020 17:00:00', 296.655],\n",
              " ['07/01/2020 18:00:00', 100.649],\n",
              " ['07/01/2020 19:00:00', 0],\n",
              " ['07/01/2020 20:00:00', 0],\n",
              " ['07/01/2020 21:00:00', 0],\n",
              " ['07/01/2020 22:00:00', 0],\n",
              " ['07/01/2020 23:00:00', 0]]"
            ]
          },
          "metadata": {
            "tags": []
          },
          "execution_count": 13
        }
      ]
    },
    {
      "cell_type": "code",
      "metadata": {
        "id": "KnJQ10BxFtFG",
        "colab": {
          "base_uri": "https://localhost:8080/"
        },
        "outputId": "7849a75a-95de-4d30-c2a4-dd13b492ddf7"
      },
      "source": [
        "result_Eto_3 = run_sarimaDay(series_eto,7,order_eto2,order_eto2_sazonal)\n",
        "result_Eto_3"
      ],
      "execution_count": 14,
      "outputs": [
        {
          "output_type": "stream",
          "text": [
            "/usr/local/lib/python3.7/dist-packages/statsmodels/base/model.py:512: ConvergenceWarning: Maximum Likelihood optimization failed to converge. Check mle_retvals\n",
            "  \"Check mle_retvals\", ConvergenceWarning)\n"
          ],
          "name": "stderr"
        },
        {
          "output_type": "execute_result",
          "data": {
            "text/plain": [
              "[['01/01/2020 ', 5.604],\n",
              " ['02/01/2020 ', 5.529],\n",
              " ['03/01/2020 ', 5.54],\n",
              " ['04/01/2020 ', 5.488],\n",
              " ['05/01/2020 ', 5.547],\n",
              " ['06/01/2020 ', 5.482],\n",
              " ['07/01/2020 ', 5.537]]"
            ]
          },
          "metadata": {
            "tags": []
          },
          "execution_count": 14
        }
      ]
    },
    {
      "cell_type": "markdown",
      "metadata": {
        "id": "YcFxw8YMGw0h"
      },
      "source": [
        "## Previsão 10 dias a frente "
      ]
    },
    {
      "cell_type": "code",
      "metadata": {
        "id": "_JxB1clVG43I",
        "colab": {
          "base_uri": "https://localhost:8080/"
        },
        "outputId": "6ee1c75b-5c54-43d3-a184-3e7cfa3f4f99"
      },
      "source": [
        "result_Eto_4 = run_sarimaDay(series_eto,10,order_eto2,order_eto2_sazonal)\n",
        "result_Eto_4"
      ],
      "execution_count": 15,
      "outputs": [
        {
          "output_type": "stream",
          "text": [
            "/usr/local/lib/python3.7/dist-packages/statsmodels/base/model.py:512: ConvergenceWarning: Maximum Likelihood optimization failed to converge. Check mle_retvals\n",
            "  \"Check mle_retvals\", ConvergenceWarning)\n"
          ],
          "name": "stderr"
        },
        {
          "output_type": "execute_result",
          "data": {
            "text/plain": [
              "[['01/01/2020 ', 5.604],\n",
              " ['02/01/2020 ', 5.529],\n",
              " ['03/01/2020 ', 5.54],\n",
              " ['04/01/2020 ', 5.488],\n",
              " ['05/01/2020 ', 5.547],\n",
              " ['06/01/2020 ', 5.482],\n",
              " ['07/01/2020 ', 5.537],\n",
              " ['08/01/2020 ', 5.493],\n",
              " ['09/01/2020 ', 5.535],\n",
              " ['10/01/2020 ', 5.493]]"
            ]
          },
          "metadata": {
            "tags": []
          },
          "execution_count": 15
        }
      ]
    }
  ]
}
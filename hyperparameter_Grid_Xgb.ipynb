{
  "nbformat": 4,
  "nbformat_minor": 0,
  "metadata": {
    "colab": {
      "name": "hyperparameter_Grid_Xgb2012.ipynb",
      "provenance": [],
      "collapsed_sections": [],
      "authorship_tag": "ABX9TyPSbKEpyZ9egLxV/vZoQsgB",
      "include_colab_link": true
    },
    "kernelspec": {
      "display_name": "Python 3",
      "name": "python3"
    },
    "language_info": {
      "name": "python"
    }
  },
  "cells": [
    {
      "cell_type": "markdown",
      "metadata": {
        "id": "view-in-github",
        "colab_type": "text"
      },
      "source": [
        "<a href=\"https://colab.research.google.com/github/RayBasilio123/ic2020/blob/main/hyperparameter_Grid_Xgb.ipynb\" target=\"_parent\"><img src=\"https://colab.research.google.com/assets/colab-badge.svg\" alt=\"Open In Colab\"/></a>"
      ]
    },
    {
      "cell_type": "code",
      "metadata": {
        "id": "apLQnPo9gd8n"
      },
      "source": [
        "import numpy as np\n",
        "import pandas as pd\n",
        "import math\n",
        "from sklearn.tree import DecisionTreeRegressor\n",
        "import matplotlib.pyplot as plt\n",
        "from sklearn.metrics import mean_absolute_error, mean_squared_error\n",
        "from sklearn.metrics import f1_score\n",
        "from datetime import datetime\n",
        "from matplotlib import pyplot\n",
        "\n",
        "from math import nan\n",
        "from numpy import set_printoptions\n",
        "from sklearn.feature_selection import SelectKBest\n",
        "from sklearn.feature_selection import f_regression\n",
        "from sklearn.ensemble import ExtraTreesRegressor\n",
        "from sklearn.model_selection import GridSearchCV\n",
        "from sklearn.ensemble import RandomForestRegressor\n",
        "from xgboost import XGBRegressor\n"
      ],
      "execution_count": null,
      "outputs": []
    },
    {
      "cell_type": "code",
      "metadata": {
        "id": "Yymrk7qjzsHL"
      },
      "source": [
        "def get_x2(df,lista,lags,Eto,lags_eto):\n",
        "  lags=lags\n",
        "  lista_aux=[]\n",
        "  lista_aux2=[]\n",
        "  max_lag=0;\n",
        "  data = pd.DataFrame()\n",
        "  eta_nois = pd.DataFrame()\n",
        "  eta_nois['Data']=df['Data']\n",
        "  for coluna in lista:\n",
        "    data[coluna] = df[coluna]       \n",
        "\n",
        "  for i in range(len(lags)):\n",
        "    for j in range(len(lags[i])):\n",
        "      lista_aux = data.iloc[:,i].tolist()\n",
        "      for displacement in range((lags[i][j])):\n",
        "        if max_lag<(lags[i][j]):\n",
        "          max_lag=(lags[i][j])\n",
        "        del lista_aux[len(lista_aux)-1]\n",
        "        lista_aux.insert(0,nan)\n",
        "      eta_nois[((data.iloc[:,i]).name)+(\"_t-\")+str(lags[i][j])]=(lista_aux)  \n",
        "  \n",
        "  for i in range(len(lags_eto)):\n",
        "    lista_aux2=df[Eto].iloc[:,0].tolist()\n",
        "    for displacement in range((lags_eto[i])):\n",
        "      if max_lag<(lags_eto[i]):\n",
        "        max_lag=(lags_eto[i])\n",
        "      del lista_aux2[len(lista_aux2)-1]\n",
        "      lista_aux2.insert(0,nan)\n",
        "    eta_nois[((df[Eto].iloc[:,0]).name)+(\"_t-\")+str(lags_eto[i])]=lista_aux2        \n",
        "  return eta_nois,max_lag,lista,lags,Eto,lags_eto;"
      ],
      "execution_count": null,
      "outputs": []
    },
    {
      "cell_type": "code",
      "metadata": {
        "id": "aNMrPVD-GHOq"
      },
      "source": [
        "def get_x30(df,lista, Eto):\n",
        "  ix = []\n",
        "  idx =  [i for i in np.arange(1, 31)]\n",
        "  for i in range(len(lista)):\n",
        "    ix.append(idx)\n",
        "\n",
        "  resultado = get_x2(df, lista, ix, Eto, idx)\n",
        "  return resultado"
      ],
      "execution_count": null,
      "outputs": []
    },
    {
      "cell_type": "code",
      "metadata": {
        "id": "w3HkdxhWCU5H"
      },
      "source": [
        "def column_Filter(df,dias):\n",
        "  list_column = []\n",
        "  # pegando colunas do data frame\n",
        "  for column in (df.columns):\n",
        "    if column != 'Data':\n",
        "      list_column.append(column)\n",
        "  # prosseguindo com a filtração\n",
        "  b=[]\n",
        "  lags=[]\n",
        "  aux3=[]\n",
        "  lista=[]\n",
        "  Eto=[]\n",
        "  lags_eto=[]\n",
        " \n",
        "  # filtra e  remove colunas \n",
        "  for i in range(len(list_column)):\n",
        "    j=list_column[i].split(\"_t-\")\n",
        "    if (int(j[1])>=dias):\n",
        "      b.append(j)\n",
        "  # print(\"Lista_Filtrada\",b)\n",
        "\n",
        "  #localiza as colunas  e faz uma lista se a coluna for Eto cria uma lista só pra ela\n",
        "  for k in range(len(b)):\n",
        "    if b[k][0] not in lista and b[k][0]!=\"Eto\":\n",
        "        lista.append(b[k][0])\n",
        "    elif b[k][0] not in Eto and b[k][0]==\"Eto\":\n",
        "        Eto.append(b[k][0])\n",
        "\n",
        "  # print(\"lista\",lista)\n",
        "  # print(\"Eto\",Eto)\n",
        " \n",
        "  # localiza as colunas e cria uma lista de lags para cada\n",
        "  for i in range(len(lista)):\n",
        "    aux=[]\n",
        "    for k in range(len(b)):\n",
        "      if (lista[i]==b[k][0])  :\n",
        "          aux.append(int(b[k][1]))\n",
        "    lags.append(aux)\n",
        "    del(aux)\n",
        "\n",
        "  # print(\"lags\",lags)\n",
        "           \n",
        "  # print(\"Eto\",Eto)\n",
        "  \n",
        "  \n",
        "  if Eto!=[]:\n",
        "    for k in range(len(b)):\n",
        "      if b[k][0]==Eto[0]:\n",
        "        lags_eto.append(int(b[k][1]))\n",
        "  # print(\"lags_eto\",lags_eto)\n",
        " \n",
        "  aux3.append(lista)\n",
        "  aux3.append(lags)\n",
        "  aux3.append(Eto)\n",
        "  aux3.append(lags_eto)\n",
        " \n",
        "\n",
        "  return aux3\n",
        "\n",
        "\n",
        "\n",
        "\n",
        "\n",
        "\n",
        "\n"
      ],
      "execution_count": null,
      "outputs": []
    },
    {
      "cell_type": "code",
      "metadata": {
        "id": "TjXOWhtbCQwR"
      },
      "source": [
        "def resource_ranking(df,lista_filtrada3,variavel_alvo) :\n",
        "  \n",
        "  # resource_ranking(df_la,lista_filtrada2,\"temp_min\")  \n",
        "  #Monta a tabela com os dados filtrados \n",
        "  \n",
        "  tab=get_x2(df,lista_filtrada3[0],lista_filtrada3[1],lista_filtrada3[2],lista_filtrada3[3])\n",
        " \n",
        "  # dff=tab[0].drop(\"Data\",axis=1)\n",
        "  \n",
        "  # train_size = int(((len(tab[0]))-tab[1]) )\n",
        "  # dff=dff.iloc[tab[1]:train_size,:]\n",
        "\n",
        "  # array1 = dff.values\n",
        "\n",
        "  # df= df.drop(\"Data\",axis=1)\n",
        "  # df=df.iloc[tab[1]:train_size,:]\n",
        "  # array2 = df[variavel_alvo]\n",
        "  selecao_treino = (tab[0]['Data'] >= '1993') & (tab[0]['Data'] <= '2011-12-31')\n",
        "  \n",
        "  dff=tab[0][selecao_treino].drop(\"Data\",axis=1)\n",
        "\n",
        "  train_size = int(((len(tab[0][selecao_treino]))-tab[1]) )\n",
        "  dff=dff.iloc[tab[1]:train_size,:]\n",
        "  array1 = dff.values\n",
        "\n",
        "  df= df[selecao_treino].drop(\"Data\",axis=1)\n",
        "  df=df.iloc[tab[1]:train_size,:]\n",
        "  array2 = df[variavel_alvo]\n",
        "\n",
        " \n",
        "\n",
        "  X =array1[:,0:len(tab[0].columns)]\n",
        "  Y = array2\n",
        "  # feature extraction\n",
        "  test = SelectKBest(score_func=f_regression, k=4)\n",
        "  fit = test.fit(X, Y)\n",
        "  # summarize scores\n",
        "  set_printoptions(precision=3)\n",
        " \n",
        "\n",
        "    \n",
        "  # print(\"Selecao_univariada\",fit.scores_)\n",
        "  f=fit.scores_\n",
        "  f_ord = sorted(f,reverse=True)\n",
        "  # print(\"Selecao_univariada_ordenada\",f_ord)\n",
        "\n",
        "  ll=[]\n",
        "  for y in range(len(f_ord)):\n",
        "    for i in range(len(f)):\n",
        "      if (f_ord[y]==f[i]):\n",
        "        ll.append(i)\n",
        "        # print(\"f[i]\",f[i])\n",
        "        # print(\"f_ord[y]\",f_ord[y])\n",
        "  leg_seq=[]\n",
        "  for i in range(len(ll)):\n",
        "    leg_seq.append(dff.columns[ll[i]])    \n",
        "\n",
        "  # print(\"Colunas_selecionadas [0]- Selecao_univariada\",leg_seq)\n",
        " \n",
        "  model = ExtraTreesRegressor(n_estimators=10,random_state=42)\n",
        "  model.fit(X,Y)\n",
        "  g=model.feature_importances_\n",
        "  g_ord=sorted(model.feature_importances_,reverse=True)\n",
        "  # print(\"Importancia\",g)\n",
        "  # print(\"Importancia_ordenada\",g_ord)\n",
        "  jj=[]\n",
        "  for y in range(len(g_ord)):\n",
        "    for i in range(len(g)):\n",
        "      if (g_ord[y]==g[i]):\n",
        "        jj.append(i)\n",
        "  leg_seq2=[]\n",
        "  for i in range(len(ll)):\n",
        "    leg_seq2.append(dff.columns[jj[i]])    \n",
        "  # print(\"Colunas_selecionadas [1]- Importância do recurso\",leg_seq2)\n",
        "  return leg_seq,leg_seq2"
      ],
      "execution_count": null,
      "outputs": []
    },
    {
      "cell_type": "code",
      "metadata": {
        "id": "8JVCQk5uCPU9"
      },
      "source": [
        "\n",
        "\n",
        "def list_Format(melhores_recursos,q,dias):\n",
        "  b=[]\n",
        "  lags=[]\n",
        "  aux3=[]\n",
        "  lista=[]\n",
        "  Eto=[]\n",
        "  lags_eto=[]\n",
        "  q = len(melhores_recursos) if q==0 else q\n",
        "  # filtra e  remove colunas \n",
        "  for i in range(q):\n",
        "    j=melhores_recursos[i].split(\"_t-\")\n",
        "    if (int(j[1])>=dias):\n",
        "      b.append(j)\n",
        "  print(\"lista_selecionada\",b)\n",
        "\n",
        "  #localiza as colunas  e faz uma lista se a coluna for Eto cria uma lista só pra ela\n",
        "  for k in range(len(b)):\n",
        "    if b[k][0] not in lista and b[k][0]!=\"Eto\":\n",
        "        lista.append(b[k][0])\n",
        "    elif b[k][0] not in Eto and b[k][0]==\"Eto\":\n",
        "        Eto.append(b[k][0])\n",
        "\n",
        "  print(\"lista\",lista)\n",
        "  print(\"Eto\",Eto)\n",
        " \n",
        "  # localiza as colunas e cria uma lista de lags para cada\n",
        "  for i in range(len(lista)):\n",
        "    aux=[]\n",
        "    for k in range(len(b)):\n",
        "      if (lista[i]==b[k][0])  :\n",
        "          aux.append(int(b[k][1]))\n",
        "    lags.append(aux)\n",
        "    del(aux)\n",
        "\n",
        "  print(\"lags\",lags)\n",
        "           \n",
        "  # print(\"Eto\",Eto)\n",
        "  \n",
        "  \n",
        "  if Eto!=[]:\n",
        "    for k in range(len(b)):\n",
        "      if b[k][0]==Eto[0]:\n",
        "        lags_eto.append(int(b[k][1]))\n",
        "  print(\"lags_eto\",lags_eto)\n",
        " \n",
        "  aux3.append(lista)\n",
        "  aux3.append(lags)\n",
        "  aux3.append(Eto)\n",
        "  aux3.append(lags_eto)\n",
        " \n",
        "\n",
        "  return aux3"
      ],
      "execution_count": null,
      "outputs": []
    },
    {
      "cell_type": "code",
      "metadata": {
        "id": "H76rZiKFRrzz"
      },
      "source": [
        "def train_test(df, lista,lags,Eto,lags_eto,variavel_Alvo,data_Itest= '2012-01-01',data_Ftest= '2012-12-31',data_Itreino='1993-01-01',data_Ftreino='2011-12-31'):\n",
        "  tabela = get_x2(df, lista,lags,Eto,lags_eto)\n",
        "  selecao_treino = (tabela[0]['Data'] >= data_Itreino) & (tabela[0]['Data'] <= data_Ftreino)\n",
        "  selecao_teste = (tabela[0]['Data'] >= data_Itest) & (tabela[0]['Data'] <= data_Ftest)\n",
        "\n",
        "  x1_train = tabela[0][selecao_treino].drop(\"Data\", axis=1)\n",
        "  x1_test = tabela[0][selecao_teste].drop(\"Data\", axis=1)\n",
        "  \n",
        "  y1_train = df[variavel_Alvo][selecao_treino]\n",
        "  y1_test = df[variavel_Alvo][selecao_teste]\n",
        "\n",
        "  x1_train = x1_train[tabela[1]:]\n",
        "  y1_train = y1_train[tabela[1]:]\n",
        "\n",
        "  \n",
        "  print(\"***************************************\")\n",
        "  print(x1_train.shape,\"x1_train\")\n",
        "  #[6569 rows x 10 columns] x1_train\n",
        "  print(\"*****************++*********************\")\n",
        "  print(x1_test.shape,\"x1_test\")\n",
        "  print(\"******************---********************\")\n",
        "  print(y1_train.shape,\"y1_train\")\n",
        "  print(\"****************1234*********************\")\n",
        "  print(y1_test.shape,\"y1_test\")\n",
        "  print(\"*****************asddfg******************\")\n",
        " \n",
        "  \n",
        "  return x1_train, x1_test,y1_train, y1_test"
      ],
      "execution_count": null,
      "outputs": []
    },
    {
      "cell_type": "code",
      "metadata": {
        "id": "gHwvw3ghzjEP"
      },
      "source": [
        "def gridSearchXgb(df, lista,lags,Eto,lags_eto,variavel_Alvo):\n",
        "  x1_train, x1_test,y1_train, y1_test = train_test(df, lista,lags,Eto,lags_eto,variavel_Alvo)\n",
        "   # Create the parameter grid based on the results of random search \n",
        "  param_grid = {\n",
        "        'min_child_weight': [1, 5, 10],\n",
        "        # Define a soma mínima dos pesos de todas as observações exigidas em uma criança.\n",
        "        # Isso é semelhante a min_child_leaf no GBM, mas não exatamente. Isso se refere à “soma dos pesos” mínimas das observações, enquanto o GBM tem “número mínimo de observações”.\n",
        "        # Usado para controlar o sobreajuste.\n",
        "        'gamma': [0.5, 1, 1.5, 2, 5],\n",
        "        # Um nó é dividido apenas quando a divisão resultante dá uma redução positiva na função de perda.\n",
        "        # Gama especifica a redução de perda mínima necessária para fazer uma divisão.\n",
        "        'subsample': [0.6, 0.8, 1.0],\n",
        "        'colsample_bytree': [0.6, 0.8, 1.0],\n",
        "        # Semelhante a max_features em GBM. Denota a fração de colunas a serem amostras \n",
        "        # aleatoriamente para cada árvore.Valores típicos: 0,5-1\n",
        "        'max_depth': [3, 4, 5, 6,7],\n",
        "        # booster [default = gbtree]\n",
        "        # Selecione o tipo de modelo a ser executado em cada iteração. Possui 2 opções:\n",
        "        # gbtree: modelos baseados em árvore\n",
        "        # gblinear: modelos lineares\n",
        "        'learning_rate': [.03, 0.05, .07],\n",
        "        }\n",
        "\n",
        "\n",
        "              \n",
        "              \n",
        "            \n",
        "              \n",
        "              \n",
        "            \n",
        "\n",
        "\n",
        "\n",
        "  # Create a base model\n",
        "  rf = XGBRegressor(random_state = 42)\n",
        "\n",
        "  # Instantiate the grid search model\n",
        "  grid_search = GridSearchCV(estimator = rf, param_grid = param_grid, \n",
        "                            cv = 3, n_jobs = -1, verbose = 2, return_train_score=True)\n",
        "\n",
        "  print(\" -----------------grid_search___Xgb.fit--------------\")\n",
        "  grid_search.fit(x1_train, y1_train);\n",
        "    \n",
        "  return grid_search.best_params_\n",
        "\n",
        "def gridSearchXgbs(df,parametros,variavel_Alvo):\n",
        "\n",
        "  print(\"gridSearch_Xgb\")\n",
        "  print('---------------------------------------------------------------------------------')\n",
        "  \n",
        "  for x in range(len(parametros)):\n",
        "    a=gridSearchXgb(df,parametros[x][0],parametros[x][1],parametros[x][2],parametros[x][3],variavel_Alvo)\n",
        "    \n",
        "    print(x,\"Best_hyperparameter_Xgb\", a)\n",
        "   \n",
        "  print('---------------------------------------------------------------------------------')\n",
        "  \n",
        "\n",
        "  return a\n",
        "\n",
        "  \n",
        "\n",
        "\n",
        "  \n",
        "  \n",
        "\n"
      ],
      "execution_count": null,
      "outputs": []
    },
    {
      "cell_type": "code",
      "metadata": {
        "id": "rPR_Z1XN7GCY"
      },
      "source": [
        "def timer(start_time=None):\n",
        "    if not start_time:\n",
        "        start_time=datetime.now()\n",
        "        return start_time\n",
        "    elif start_time:\n",
        "        thour,temp_sec=divmod((datetime.now()-start_time).total_seconds(),3600)\n",
        "        tmin,tsec=divmod(temp_sec,60)"
      ],
      "execution_count": null,
      "outputs": []
    },
    {
      "cell_type": "code",
      "metadata": {
        "colab": {
          "base_uri": "https://localhost:8080/",
          "height": 111
        },
        "id": "aqzZfUSFI33R",
        "outputId": "bf9de263-da66-4533-df99-84d061b219a7"
      },
      "source": [
        "tabela=pd.read_csv('https://raw.githubusercontent.com/RayBasilio123/ic2020/main/2020_Ic/Dados/data_PEto.csv')\n",
        "data_Patricia=tabela.drop(\"Unnamed: 0\",axis=1)\n",
        "data_Patricia.head(2)"
      ],
      "execution_count": null,
      "outputs": [
        {
          "output_type": "execute_result",
          "data": {
            "text/html": [
              "<div>\n",
              "<style scoped>\n",
              "    .dataframe tbody tr th:only-of-type {\n",
              "        vertical-align: middle;\n",
              "    }\n",
              "\n",
              "    .dataframe tbody tr th {\n",
              "        vertical-align: top;\n",
              "    }\n",
              "\n",
              "    .dataframe thead th {\n",
              "        text-align: right;\n",
              "    }\n",
              "</style>\n",
              "<table border=\"1\" class=\"dataframe\">\n",
              "  <thead>\n",
              "    <tr style=\"text-align: right;\">\n",
              "      <th></th>\n",
              "      <th>Data</th>\n",
              "      <th>Tmax</th>\n",
              "      <th>Tmin</th>\n",
              "      <th>I</th>\n",
              "      <th>Tmean</th>\n",
              "      <th>UR</th>\n",
              "      <th>V</th>\n",
              "      <th>J</th>\n",
              "      <th>Eto</th>\n",
              "    </tr>\n",
              "  </thead>\n",
              "  <tbody>\n",
              "    <tr>\n",
              "      <th>0</th>\n",
              "      <td>1993-01-01</td>\n",
              "      <td>31.3</td>\n",
              "      <td>15.4</td>\n",
              "      <td>11.3</td>\n",
              "      <td>22.86</td>\n",
              "      <td>64.75</td>\n",
              "      <td>0.740445</td>\n",
              "      <td>1</td>\n",
              "      <td>5.515947</td>\n",
              "    </tr>\n",
              "    <tr>\n",
              "      <th>1</th>\n",
              "      <td>1993-01-02</td>\n",
              "      <td>33.8</td>\n",
              "      <td>16.1</td>\n",
              "      <td>11.2</td>\n",
              "      <td>23.80</td>\n",
              "      <td>64.50</td>\n",
              "      <td>0.500000</td>\n",
              "      <td>2</td>\n",
              "      <td>5.587673</td>\n",
              "    </tr>\n",
              "  </tbody>\n",
              "</table>\n",
              "</div>"
            ],
            "text/plain": [
              "         Data  Tmax  Tmin     I  Tmean     UR         V  J       Eto\n",
              "0  1993-01-01  31.3  15.4  11.3  22.86  64.75  0.740445  1  5.515947\n",
              "1  1993-01-02  33.8  16.1  11.2  23.80  64.50  0.500000  2  5.587673"
            ]
          },
          "metadata": {
            "tags": []
          },
          "execution_count": 10
        }
      ]
    },
    {
      "cell_type": "code",
      "metadata": {
        "id": "SbEuhJBPDR2E"
      },
      "source": [
        "atributeP= [ \"Tmax\",\"Tmean\",\"I\",\"UR\",\"V\",\"Tmin\",\"J\"]\n",
        "resultadoP=get_x30(data_Patricia,atributeP,['Eto'])"
      ],
      "execution_count": null,
      "outputs": []
    },
    {
      "cell_type": "code",
      "metadata": {
        "colab": {
          "base_uri": "https://localhost:8080/"
        },
        "id": "6gVC3D2w8Eoy",
        "outputId": "113e89a9-8de2-43a6-ebaa-b3d578895e84"
      },
      "source": [
        " for x in [1]:\n",
        "   lista_Filtrada=column_Filter(resultadoP[0],x)\n",
        "#   ranking_data_Patricia = resource_ranking(data_Patricia,lista_Filtrada,\"Eto\")\n",
        "#   lista_Formatada1=list_Format(ranking_data_Patricia[0],10,0)\n",
        "#   lista_Formatada2=list_Format(ranking_data_Patricia[1],10,0)\n",
        "   print('\\n -----------Para----' + str(x) + '----dias --------\\n')\n",
        "  # print(\"lista_Formatada_1 -------> \",lista_Formatada1)\n",
        "  # print(\"lista_Formatada_2 -------> \",lista_Formatada2)\n",
        "   print(\"lista_Formatada_3 -------> \",lista_Filtrada)\n",
        "   print('\\n ---------------------------------------------\\n')"
      ],
      "execution_count": null,
      "outputs": [
        {
          "output_type": "stream",
          "text": [
            "\n",
            " -----------Para----1----dias --------\n",
            "\n",
            "lista_Formatada_3 ------->  [['Tmax', 'Tmean', 'I', 'UR', 'V', 'Tmin', 'J'], [[1, 2, 3, 4, 5, 6, 7, 8, 9, 10, 11, 12, 13, 14, 15, 16, 17, 18, 19, 20, 21, 22, 23, 24, 25, 26, 27, 28, 29, 30], [1, 2, 3, 4, 5, 6, 7, 8, 9, 10, 11, 12, 13, 14, 15, 16, 17, 18, 19, 20, 21, 22, 23, 24, 25, 26, 27, 28, 29, 30], [1, 2, 3, 4, 5, 6, 7, 8, 9, 10, 11, 12, 13, 14, 15, 16, 17, 18, 19, 20, 21, 22, 23, 24, 25, 26, 27, 28, 29, 30], [1, 2, 3, 4, 5, 6, 7, 8, 9, 10, 11, 12, 13, 14, 15, 16, 17, 18, 19, 20, 21, 22, 23, 24, 25, 26, 27, 28, 29, 30], [1, 2, 3, 4, 5, 6, 7, 8, 9, 10, 11, 12, 13, 14, 15, 16, 17, 18, 19, 20, 21, 22, 23, 24, 25, 26, 27, 28, 29, 30], [1, 2, 3, 4, 5, 6, 7, 8, 9, 10, 11, 12, 13, 14, 15, 16, 17, 18, 19, 20, 21, 22, 23, 24, 25, 26, 27, 28, 29, 30], [1, 2, 3, 4, 5, 6, 7, 8, 9, 10, 11, 12, 13, 14, 15, 16, 17, 18, 19, 20, 21, 22, 23, 24, 25, 26, 27, 28, 29, 30]], ['Eto'], [1, 2, 3, 4, 5, 6, 7, 8, 9, 10, 11, 12, 13, 14, 15, 16, 17, 18, 19, 20, 21, 22, 23, 24, 25, 26, 27, 28, 29, 30]]\n",
            "\n",
            " ---------------------------------------------\n",
            "\n"
          ],
          "name": "stdout"
        }
      ]
    },
    {
      "cell_type": "markdown",
      "metadata": {
        "id": "MRitGJ5MCjFh"
      },
      "source": [
        "# Para  1 dia - Grid Xgboost"
      ]
    },
    {
      "cell_type": "code",
      "metadata": {
        "id": "8pYM2tzGC67E"
      },
      "source": [
        "\n",
        "# lista_Formatada3=[['Tmax', 'Tmean', 'I', 'UR', 'V', 'Tmin', 'J'], [[1, 2, 3, 4, 5, 6, 7, 8, 9, 10, 11, 12, 13, 14, 15, 16, 17, 18, 19, 20, 21, 22, 23, 24, 25, 26, 27, 28, 29, 30], [1, 2, 3, 4, 5, 6, 7, 8, 9, 10, 11, 12, 13, 14, 15, 16, 17, 18, 19, 20, 21, 22, 23, 24, 25, 26, 27, 28, 29, 30], [1, 2, 3, 4, 5, 6, 7, 8, 9, 10, 11, 12, 13, 14, 15, 16, 17, 18, 19, 20, 21, 22, 23, 24, 25, 26, 27, 28, 29, 30], [1, 2, 3, 4, 5, 6, 7, 8, 9, 10, 11, 12, 13, 14, 15, 16, 17, 18, 19, 20, 21, 22, 23, 24, 25, 26, 27, 28, 29, 30], [1, 2, 3, 4, 5, 6, 7, 8, 9, 10, 11, 12, 13, 14, 15, 16, 17, 18, 19, 20, 21, 22, 23, 24, 25, 26, 27, 28, 29, 30], [1, 2, 3, 4, 5, 6, 7, 8, 9, 10, 11, 12, 13, 14, 15, 16, 17, 18, 19, 20, 21, 22, 23, 24, 25, 26, 27, 28, 29, 30], [1, 2, 3, 4, 5, 6, 7, 8, 9, 10, 11, 12, 13, 14, 15, 16, 17, 18, 19, 20, 21, 22, 23, 24, 25, 26, 27, 28, 29, 30]], ['Eto'], [1, 2, 3, 4, 5, 6, 7, 8, 9, 10, 11, 12, 13, 14, 15, 16, 17, 18, 19, 20, 21, 22, 23, 24, 25, 26, 27, 28, 29, 30]]\n",
        "lista_Formatada_1 = [['Tmean', 'Tmax'], [[1, 2, 3, 4], [1]], ['Eto'], [1, 2, 3, 4, 5]]\n",
        "lista_Formatada_2 = [['Tmax', 'Tmean', 'I', 'UR', 'J'], [[1], [2], [1], [1], [22, 26]], ['Eto'], [1, 2, 3, 4]]"
      ],
      "execution_count": null,
      "outputs": []
    },
    {
      "cell_type": "code",
      "metadata": {
        "colab": {
          "background_save": true,
          "base_uri": "https://localhost:8080/"
        },
        "id": "I5kq7nkVzomg",
        "outputId": "8dfdf112-dae3-4ae7-d62e-d956a667b966"
      },
      "source": [
        "\n",
        "parametrosSearchA=gridSearchXgbs(data_Patricia,[lista_Formatada_1,lista_Formatada_2],\"Eto\")"
      ],
      "execution_count": null,
      "outputs": [
        {
          "output_type": "stream",
          "text": [
            "gridSearch_Xgb\n",
            "---------------------------------------------------------------------------------\n",
            "***************************************\n",
            "(6934, 10) x1_train\n",
            "*****************++*********************\n",
            "(366, 10) x1_test\n",
            "******************---********************\n",
            "(6934,) y1_train\n",
            "****************1234*********************\n",
            "(366,) y1_test\n",
            "*****************asddfg******************\n",
            " -----------------grid_search___Xgb.fit--------------\n",
            "Fitting 3 folds for each of 2025 candidates, totalling 6075 fits\n"
          ],
          "name": "stdout"
        },
        {
          "output_type": "stream",
          "text": [
            "[Parallel(n_jobs=-1)]: Using backend LokyBackend with 2 concurrent workers.\n",
            "[Parallel(n_jobs=-1)]: Done  37 tasks      | elapsed:   10.6s\n",
            "[Parallel(n_jobs=-1)]: Done 158 tasks      | elapsed:   55.1s\n",
            "[Parallel(n_jobs=-1)]: Done 361 tasks      | elapsed:  2.1min\n",
            "[Parallel(n_jobs=-1)]: Done 644 tasks      | elapsed:  3.8min\n",
            "[Parallel(n_jobs=-1)]: Done 1009 tasks      | elapsed:  5.9min\n",
            "[Parallel(n_jobs=-1)]: Done 1454 tasks      | elapsed:  8.6min\n",
            "[Parallel(n_jobs=-1)]: Done 1981 tasks      | elapsed: 11.6min\n",
            "[Parallel(n_jobs=-1)]: Done 2588 tasks      | elapsed: 15.8min\n",
            "[Parallel(n_jobs=-1)]: Done 3277 tasks      | elapsed: 20.5min\n",
            "[Parallel(n_jobs=-1)]: Done 4046 tasks      | elapsed: 25.9min\n",
            "[Parallel(n_jobs=-1)]: Done 4897 tasks      | elapsed: 32.5min\n",
            "[Parallel(n_jobs=-1)]: Done 5828 tasks      | elapsed: 39.8min\n",
            "[Parallel(n_jobs=-1)]: Done 6075 out of 6075 | elapsed: 41.8min finished\n"
          ],
          "name": "stderr"
        },
        {
          "output_type": "stream",
          "text": [
            "[03:33:40] WARNING: /workspace/src/objective/regression_obj.cu:152: reg:linear is now deprecated in favor of reg:squarederror.\n",
            "0 Best_hyperparameter_Xgb {'colsample_bytree': 1.0, 'gamma': 1.5, 'learning_rate': 0.07, 'max_depth': 3, 'min_child_weight': 5, 'subsample': 0.8}\n",
            "***************************************\n",
            "(6913, 10) x1_train\n",
            "*****************++*********************\n",
            "(366, 10) x1_test\n",
            "******************---********************\n",
            "(6913,) y1_train\n",
            "****************1234*********************\n",
            "(366,) y1_test\n",
            "*****************asddfg******************\n",
            " -----------------grid_search___Xgb.fit--------------\n",
            "Fitting 3 folds for each of 2025 candidates, totalling 6075 fits\n"
          ],
          "name": "stdout"
        },
        {
          "output_type": "stream",
          "text": [
            "[Parallel(n_jobs=-1)]: Using backend LokyBackend with 2 concurrent workers.\n",
            "[Parallel(n_jobs=-1)]: Done  37 tasks      | elapsed:    8.9s\n",
            "[Parallel(n_jobs=-1)]: Done 158 tasks      | elapsed:   51.1s\n",
            "[Parallel(n_jobs=-1)]: Done 361 tasks      | elapsed:  2.0min\n",
            "[Parallel(n_jobs=-1)]: Done 644 tasks      | elapsed:  3.6min\n",
            "[Parallel(n_jobs=-1)]: Done 1009 tasks      | elapsed:  5.6min\n",
            "[Parallel(n_jobs=-1)]: Done 1454 tasks      | elapsed:  8.1min\n",
            "[Parallel(n_jobs=-1)]: Done 1981 tasks      | elapsed: 10.9min\n",
            "[Parallel(n_jobs=-1)]: Done 2588 tasks      | elapsed: 14.8min\n",
            "[Parallel(n_jobs=-1)]: Done 3277 tasks      | elapsed: 19.3min\n",
            "[Parallel(n_jobs=-1)]: Done 4046 tasks      | elapsed: 24.2min\n",
            "[Parallel(n_jobs=-1)]: Done 4897 tasks      | elapsed: 30.4min\n",
            "[Parallel(n_jobs=-1)]: Done 5828 tasks      | elapsed: 37.3min\n",
            "[Parallel(n_jobs=-1)]: Done 6075 out of 6075 | elapsed: 39.1min finished\n"
          ],
          "name": "stderr"
        },
        {
          "output_type": "stream",
          "text": [
            "[04:12:49] WARNING: /workspace/src/objective/regression_obj.cu:152: reg:linear is now deprecated in favor of reg:squarederror.\n",
            "1 Best_hyperparameter_Xgb {'colsample_bytree': 0.6, 'gamma': 5, 'learning_rate': 0.07, 'max_depth': 4, 'min_child_weight': 1, 'subsample': 0.8}\n",
            "---------------------------------------------------------------------------------\n"
          ],
          "name": "stdout"
        }
      ]
    },
    {
      "cell_type": "code",
      "metadata": {
        "id": "dgQVPq6JyHeG"
      },
      "source": [
        "# 0 Best_hyperparameter_Xgb {'colsample_bytree': 1.0, 'gamma': 1.5, 'learning_rate': 0.07, 'max_depth': 3, 'min_child_weight': 5, 'subsample': 0.8}\n",
        "# 1 Best_hyperparameter_Xgb {'colsample_bytree': 0.6, 'gamma': 5, 'learning_rate': 0.07, 'max_depth': 4, 'min_child_weight': 1, 'subsample': 0.8}\n"
      ],
      "execution_count": null,
      "outputs": []
    },
    {
      "cell_type": "markdown",
      "metadata": {
        "id": "n9anPfPWZpp1"
      },
      "source": [
        "#Para  3 dias - Grid Xgboost"
      ]
    },
    {
      "cell_type": "code",
      "metadata": {
        "id": "hxV_eKviYjB3"
      },
      "source": [
        "lista_Formatada_1 = [['Tmean'], [[3, 4, 5, 6, 7, 8, 9]], ['Eto'], [3, 4, 5]]\n",
        "lista_Formatada_2 = [['Tmean', 'J'], [[8, 5], [26, 29, 6, 30]], ['Eto'], [3, 4, 5, 6]]"
      ],
      "execution_count": null,
      "outputs": []
    },
    {
      "cell_type": "code",
      "metadata": {
        "id": "G2A56wB-at2-",
        "colab": {
          "base_uri": "https://localhost:8080/"
        },
        "outputId": "475b8a64-eaa9-4a52-fc90-de855bf7a733"
      },
      "source": [
        "parametrosSearchA=gridSearchXgbs(data_Patricia,[lista_Formatada_1,lista_Formatada_2],\"Eto\")\n"
      ],
      "execution_count": null,
      "outputs": [
        {
          "output_type": "stream",
          "text": [
            "gridSearch_Xgb\n",
            "---------------------------------------------------------------------------------\n",
            "***************************************\n",
            "(6930, 10) x1_train\n",
            "*****************++*********************\n",
            "(366, 10) x1_test\n",
            "******************---********************\n",
            "(6930,) y1_train\n",
            "****************1234*********************\n",
            "(366,) y1_test\n",
            "*****************asddfg******************\n",
            " -----------------grid_search___Xgb.fit--------------\n",
            "Fitting 3 folds for each of 2025 candidates, totalling 6075 fits\n"
          ],
          "name": "stdout"
        },
        {
          "output_type": "stream",
          "text": [
            "[Parallel(n_jobs=-1)]: Using backend LokyBackend with 2 concurrent workers.\n",
            "[Parallel(n_jobs=-1)]: Done  37 tasks      | elapsed:   11.4s\n",
            "[Parallel(n_jobs=-1)]: Done 158 tasks      | elapsed:   59.2s\n",
            "[Parallel(n_jobs=-1)]: Done 361 tasks      | elapsed:  2.2min\n",
            "[Parallel(n_jobs=-1)]: Done 644 tasks      | elapsed:  4.0min\n",
            "[Parallel(n_jobs=-1)]: Done 1009 tasks      | elapsed:  6.3min\n",
            "[Parallel(n_jobs=-1)]: Done 1454 tasks      | elapsed:  9.2min\n",
            "[Parallel(n_jobs=-1)]: Done 1981 tasks      | elapsed: 12.5min\n",
            "[Parallel(n_jobs=-1)]: Done 2588 tasks      | elapsed: 16.9min\n",
            "[Parallel(n_jobs=-1)]: Done 3277 tasks      | elapsed: 21.9min\n",
            "[Parallel(n_jobs=-1)]: Done 4046 tasks      | elapsed: 27.7min\n",
            "[Parallel(n_jobs=-1)]: Done 4897 tasks      | elapsed: 34.8min\n",
            "[Parallel(n_jobs=-1)]: Done 5828 tasks      | elapsed: 42.6min\n",
            "[Parallel(n_jobs=-1)]: Done 6075 out of 6075 | elapsed: 44.7min finished\n"
          ],
          "name": "stderr"
        },
        {
          "output_type": "stream",
          "text": [
            "[12:29:04] WARNING: /workspace/src/objective/regression_obj.cu:152: reg:linear is now deprecated in favor of reg:squarederror.\n",
            "0 Best_hyperparameter_Xgb {'colsample_bytree': 1.0, 'gamma': 0.5, 'learning_rate': 0.05, 'max_depth': 3, 'min_child_weight': 5, 'subsample': 0.8}\n",
            "***************************************\n",
            "(6909, 10) x1_train\n",
            "*****************++*********************\n",
            "(366, 10) x1_test\n",
            "******************---********************\n",
            "(6909,) y1_train\n",
            "****************1234*********************\n",
            "(366,) y1_test\n",
            "*****************asddfg******************\n",
            " -----------------grid_search___Xgb.fit--------------\n",
            "Fitting 3 folds for each of 2025 candidates, totalling 6075 fits\n"
          ],
          "name": "stdout"
        },
        {
          "output_type": "stream",
          "text": [
            "[Parallel(n_jobs=-1)]: Using backend LokyBackend with 2 concurrent workers.\n",
            "[Parallel(n_jobs=-1)]: Done  37 tasks      | elapsed:    9.8s\n",
            "[Parallel(n_jobs=-1)]: Done 158 tasks      | elapsed:   56.7s\n",
            "[Parallel(n_jobs=-1)]: Done 361 tasks      | elapsed:  2.2min\n",
            "[Parallel(n_jobs=-1)]: Done 644 tasks      | elapsed:  4.0min\n",
            "[Parallel(n_jobs=-1)]: Done 1009 tasks      | elapsed:  6.2min\n",
            "[Parallel(n_jobs=-1)]: Done 1454 tasks      | elapsed:  8.9min\n",
            "[Parallel(n_jobs=-1)]: Done 1981 tasks      | elapsed: 12.1min\n",
            "[Parallel(n_jobs=-1)]: Done 2588 tasks      | elapsed: 16.4min\n",
            "[Parallel(n_jobs=-1)]: Done 3277 tasks      | elapsed: 21.3min\n",
            "[Parallel(n_jobs=-1)]: Done 4046 tasks      | elapsed: 26.9min\n",
            "[Parallel(n_jobs=-1)]: Done 4897 tasks      | elapsed: 33.7min\n",
            "[Parallel(n_jobs=-1)]: Done 5828 tasks      | elapsed: 41.2min\n",
            "[Parallel(n_jobs=-1)]: Done 6075 out of 6075 | elapsed: 43.3min finished\n"
          ],
          "name": "stderr"
        },
        {
          "output_type": "stream",
          "text": [
            "[13:12:20] WARNING: /workspace/src/objective/regression_obj.cu:152: reg:linear is now deprecated in favor of reg:squarederror.\n",
            "1 Best_hyperparameter_Xgb {'colsample_bytree': 0.6, 'gamma': 5, 'learning_rate': 0.05, 'max_depth': 3, 'min_child_weight': 5, 'subsample': 0.6}\n",
            "---------------------------------------------------------------------------------\n"
          ],
          "name": "stdout"
        }
      ]
    },
    {
      "cell_type": "code",
      "metadata": {
        "id": "sKYKOAAby54p"
      },
      "source": [
        "# 0 Best_hyperparameter_Xgb {'colsample_bytree': 1.0, 'gamma': 0.5, 'learning_rate': 0.05, 'max_depth': 3, 'min_child_weight': 5, 'subsample': 0.8}\n",
        "# 1 Best_hyperparameter_Xgb {'colsample_bytree': 0.6, 'gamma': 5, 'learning_rate': 0.05, 'max_depth': 3, 'min_child_weight': 5, 'subsample': 0.6}"
      ],
      "execution_count": null,
      "outputs": []
    },
    {
      "cell_type": "markdown",
      "metadata": {
        "id": "8xjZeWHrZvdV"
      },
      "source": [
        "# Para 7 dias Grid Xgboost"
      ]
    },
    {
      "cell_type": "code",
      "metadata": {
        "id": "7EFF8RM4Iy9n"
      },
      "source": [
        "lista_Formatada_1 =[['Tmean', 'Tmin'], [[7, 8, 9, 10, 11, 12], [7]], ['Eto'], [7, 8, 9]]\n",
        "lista_Formatada_2 =[['Tmean', 'J'], [[9, 7], [27, 30, 19, 25, 23, 8]], ['Eto'], [8, 11]]"
      ],
      "execution_count": null,
      "outputs": []
    },
    {
      "cell_type": "code",
      "metadata": {
        "id": "8CCr4Mrtan5X",
        "colab": {
          "base_uri": "https://localhost:8080/"
        },
        "outputId": "5bb502a9-ec02-4a24-e20b-f7e7d5c77952"
      },
      "source": [
        "parametrosSearchA=gridSearchXgbs(data_Patricia,[lista_Formatada_1,lista_Formatada_2],\"Eto\")\n"
      ],
      "execution_count": null,
      "outputs": [
        {
          "output_type": "stream",
          "text": [
            "gridSearch_Xgb\n",
            "---------------------------------------------------------------------------------\n",
            "***************************************\n",
            "(6927, 10) x1_train\n",
            "*****************++*********************\n",
            "(366, 10) x1_test\n",
            "******************---********************\n",
            "(6927,) y1_train\n",
            "****************1234*********************\n",
            "(366,) y1_test\n",
            "*****************asddfg******************\n",
            " -----------------grid_search___Xgb.fit--------------\n",
            "Fitting 3 folds for each of 2025 candidates, totalling 6075 fits\n"
          ],
          "name": "stdout"
        },
        {
          "output_type": "stream",
          "text": [
            "[Parallel(n_jobs=-1)]: Using backend LokyBackend with 2 concurrent workers.\n",
            "[Parallel(n_jobs=-1)]: Done  37 tasks      | elapsed:    9.7s\n",
            "[Parallel(n_jobs=-1)]: Done 158 tasks      | elapsed:   56.7s\n",
            "[Parallel(n_jobs=-1)]: Done 361 tasks      | elapsed:  2.1min\n",
            "[Parallel(n_jobs=-1)]: Done 644 tasks      | elapsed:  3.9min\n",
            "[Parallel(n_jobs=-1)]: Done 1009 tasks      | elapsed:  6.1min\n",
            "[Parallel(n_jobs=-1)]: Done 1454 tasks      | elapsed:  8.9min\n",
            "[Parallel(n_jobs=-1)]: Done 1981 tasks      | elapsed: 12.1min\n",
            "[Parallel(n_jobs=-1)]: Done 2588 tasks      | elapsed: 16.4min\n",
            "[Parallel(n_jobs=-1)]: Done 3277 tasks      | elapsed: 21.3min\n",
            "[Parallel(n_jobs=-1)]: Done 4046 tasks      | elapsed: 27.0min\n",
            "[Parallel(n_jobs=-1)]: Done 4897 tasks      | elapsed: 33.9min\n",
            "[Parallel(n_jobs=-1)]: Done 5828 tasks      | elapsed: 41.4min\n",
            "[Parallel(n_jobs=-1)]: Done 6075 out of 6075 | elapsed: 43.5min finished\n"
          ],
          "name": "stderr"
        },
        {
          "output_type": "stream",
          "text": [
            "[13:55:49] WARNING: /workspace/src/objective/regression_obj.cu:152: reg:linear is now deprecated in favor of reg:squarederror.\n",
            "0 Best_hyperparameter_Xgb {'colsample_bytree': 1.0, 'gamma': 5, 'learning_rate': 0.07, 'max_depth': 4, 'min_child_weight': 1, 'subsample': 1.0}\n",
            "***************************************\n",
            "(6909, 10) x1_train\n",
            "*****************++*********************\n",
            "(366, 10) x1_test\n",
            "******************---********************\n",
            "(6909,) y1_train\n",
            "****************1234*********************\n",
            "(366,) y1_test\n",
            "*****************asddfg******************\n",
            " -----------------grid_search___Xgb.fit--------------\n",
            "Fitting 3 folds for each of 2025 candidates, totalling 6075 fits\n"
          ],
          "name": "stdout"
        },
        {
          "output_type": "stream",
          "text": [
            "[Parallel(n_jobs=-1)]: Using backend LokyBackend with 2 concurrent workers.\n",
            "[Parallel(n_jobs=-1)]: Done  37 tasks      | elapsed:    9.1s\n",
            "[Parallel(n_jobs=-1)]: Done 158 tasks      | elapsed:   51.8s\n",
            "[Parallel(n_jobs=-1)]: Done 361 tasks      | elapsed:  2.0min\n",
            "[Parallel(n_jobs=-1)]: Done 644 tasks      | elapsed:  3.6min\n",
            "[Parallel(n_jobs=-1)]: Done 1009 tasks      | elapsed:  5.6min\n",
            "[Parallel(n_jobs=-1)]: Done 1454 tasks      | elapsed:  8.1min\n",
            "[Parallel(n_jobs=-1)]: Done 1981 tasks      | elapsed: 11.0min\n",
            "[Parallel(n_jobs=-1)]: Done 2588 tasks      | elapsed: 14.9min\n",
            "[Parallel(n_jobs=-1)]: Done 3277 tasks      | elapsed: 19.3min\n",
            "[Parallel(n_jobs=-1)]: Done 4046 tasks      | elapsed: 24.3min\n",
            "[Parallel(n_jobs=-1)]: Done 4897 tasks      | elapsed: 30.3min\n",
            "[Parallel(n_jobs=-1)]: Done 5828 tasks      | elapsed: 37.1min\n",
            "[Parallel(n_jobs=-1)]: Done 6075 out of 6075 | elapsed: 38.9min finished\n"
          ],
          "name": "stderr"
        },
        {
          "output_type": "stream",
          "text": [
            "[14:34:43] WARNING: /workspace/src/objective/regression_obj.cu:152: reg:linear is now deprecated in favor of reg:squarederror.\n",
            "1 Best_hyperparameter_Xgb {'colsample_bytree': 0.6, 'gamma': 5, 'learning_rate': 0.05, 'max_depth': 3, 'min_child_weight': 5, 'subsample': 0.6}\n",
            "---------------------------------------------------------------------------------\n"
          ],
          "name": "stdout"
        }
      ]
    },
    {
      "cell_type": "code",
      "metadata": {
        "id": "SrF4fV4-qQkV"
      },
      "source": [
        "# 0 Best_hyperparameter_Xgb {'colsample_bytree': 1.0, 'gamma': 5, 'learning_rate': 0.07, 'max_depth': 4, 'min_child_weight': 1, 'subsample': 1.0}\n",
        "# 1 Best_hyperparameter_Xgb {'colsample_bytree': 0.6, 'gamma': 5, 'learning_rate': 0.05, 'max_depth': 3, 'min_child_weight': 5, 'subsample': 0.6}"
      ],
      "execution_count": null,
      "outputs": []
    },
    {
      "cell_type": "markdown",
      "metadata": {
        "id": "gjsxoJgpZ7_o"
      },
      "source": [
        "# Para 10 dias - Grid Xgboost"
      ]
    },
    {
      "cell_type": "code",
      "metadata": {
        "id": "-XU7YQm9aZov"
      },
      "source": [
        "lista_Formatada_1 =[['Tmean', 'Tmin'], [[10, 11, 12, 13, 14], [10]], ['Eto'], [10, 11, 12, 13]]\n",
        "lista_Formatada_2 =[['J', 'Tmean'], [[25, 17, 29, 16, 13, 30, 28], [10, 13]], ['Eto'], [10]]"
      ],
      "execution_count": null,
      "outputs": []
    },
    {
      "cell_type": "code",
      "metadata": {
        "id": "xhZjC3-0FYCF",
        "colab": {
          "base_uri": "https://localhost:8080/"
        },
        "outputId": "063a61d1-f588-4b51-ebf1-9bbb517b1a55"
      },
      "source": [
        "parametrosSearchA=gridSearchXgbs(data_Patricia,[lista_Formatada_1,lista_Formatada_2],\"Eto\")\n"
      ],
      "execution_count": null,
      "outputs": [
        {
          "output_type": "stream",
          "text": [
            "gridSearch_Xgb\n",
            "---------------------------------------------------------------------------------\n",
            "***************************************\n",
            "(6925, 10) x1_train\n",
            "*****************++*********************\n",
            "(366, 10) x1_test\n",
            "******************---********************\n",
            "(6925,) y1_train\n",
            "****************1234*********************\n",
            "(366,) y1_test\n",
            "*****************asddfg******************\n",
            " -----------------grid_search___Xgb.fit--------------\n",
            "Fitting 3 folds for each of 2025 candidates, totalling 6075 fits\n"
          ],
          "name": "stdout"
        },
        {
          "output_type": "stream",
          "text": [
            "[Parallel(n_jobs=-1)]: Using backend LokyBackend with 2 concurrent workers.\n",
            "[Parallel(n_jobs=-1)]: Done  37 tasks      | elapsed:    9.9s\n",
            "[Parallel(n_jobs=-1)]: Done 158 tasks      | elapsed:   57.7s\n",
            "[Parallel(n_jobs=-1)]: Done 361 tasks      | elapsed:  2.2min\n",
            "[Parallel(n_jobs=-1)]: Done 644 tasks      | elapsed:  4.0min\n",
            "[Parallel(n_jobs=-1)]: Done 1009 tasks      | elapsed:  6.3min\n",
            "[Parallel(n_jobs=-1)]: Done 1454 tasks      | elapsed:  9.1min\n",
            "[Parallel(n_jobs=-1)]: Done 1981 tasks      | elapsed: 12.3min\n",
            "[Parallel(n_jobs=-1)]: Done 2588 tasks      | elapsed: 16.7min\n",
            "[Parallel(n_jobs=-1)]: Done 3277 tasks      | elapsed: 21.7min\n",
            "[Parallel(n_jobs=-1)]: Done 4046 tasks      | elapsed: 27.3min\n",
            "[Parallel(n_jobs=-1)]: Done 4897 tasks      | elapsed: 34.3min\n",
            "[Parallel(n_jobs=-1)]: Done 5828 tasks      | elapsed: 42.0min\n",
            "[Parallel(n_jobs=-1)]: Done 6075 out of 6075 | elapsed: 44.1min finished\n"
          ],
          "name": "stderr"
        },
        {
          "output_type": "stream",
          "text": [
            "[15:18:48] WARNING: /workspace/src/objective/regression_obj.cu:152: reg:linear is now deprecated in favor of reg:squarederror.\n",
            "0 Best_hyperparameter_Xgb {'colsample_bytree': 0.6, 'gamma': 1, 'learning_rate': 0.05, 'max_depth': 4, 'min_child_weight': 10, 'subsample': 0.8}\n",
            "***************************************\n",
            "(6909, 10) x1_train\n",
            "*****************++*********************\n",
            "(366, 10) x1_test\n",
            "******************---********************\n",
            "(6909,) y1_train\n",
            "****************1234*********************\n",
            "(366,) y1_test\n",
            "*****************asddfg******************\n",
            " -----------------grid_search___Xgb.fit--------------\n",
            "Fitting 3 folds for each of 2025 candidates, totalling 6075 fits\n"
          ],
          "name": "stdout"
        },
        {
          "output_type": "stream",
          "text": [
            "[Parallel(n_jobs=-1)]: Using backend LokyBackend with 2 concurrent workers.\n",
            "[Parallel(n_jobs=-1)]: Done  37 tasks      | elapsed:    8.6s\n",
            "[Parallel(n_jobs=-1)]: Done 158 tasks      | elapsed:   48.0s\n",
            "[Parallel(n_jobs=-1)]: Done 361 tasks      | elapsed:  1.8min\n",
            "[Parallel(n_jobs=-1)]: Done 644 tasks      | elapsed:  3.3min\n",
            "[Parallel(n_jobs=-1)]: Done 1009 tasks      | elapsed:  5.2min\n",
            "[Parallel(n_jobs=-1)]: Done 1454 tasks      | elapsed:  7.6min\n",
            "[Parallel(n_jobs=-1)]: Done 1981 tasks      | elapsed: 10.3min\n",
            "[Parallel(n_jobs=-1)]: Done 2588 tasks      | elapsed: 13.9min\n",
            "[Parallel(n_jobs=-1)]: Done 3277 tasks      | elapsed: 18.0min\n",
            "[Parallel(n_jobs=-1)]: Done 4046 tasks      | elapsed: 22.7min\n",
            "[Parallel(n_jobs=-1)]: Done 4897 tasks      | elapsed: 28.4min\n",
            "[Parallel(n_jobs=-1)]: Done 5828 tasks      | elapsed: 34.7min\n",
            "[Parallel(n_jobs=-1)]: Done 6075 out of 6075 | elapsed: 36.4min finished\n"
          ],
          "name": "stderr"
        },
        {
          "output_type": "stream",
          "text": [
            "[15:55:14] WARNING: /workspace/src/objective/regression_obj.cu:152: reg:linear is now deprecated in favor of reg:squarederror.\n",
            "1 Best_hyperparameter_Xgb {'colsample_bytree': 1.0, 'gamma': 5, 'learning_rate': 0.05, 'max_depth': 3, 'min_child_weight': 1, 'subsample': 1.0}\n",
            "---------------------------------------------------------------------------------\n"
          ],
          "name": "stdout"
        }
      ]
    },
    {
      "cell_type": "code",
      "metadata": {
        "id": "PAX7mqJuq_mi"
      },
      "source": [
        "# 0 Best_hyperparameter_Xgb {'colsample_bytree': 0.6, 'gamma': 1, 'learning_rate': 0.05, 'max_depth': 4, 'min_child_weight': 10, 'subsample': 0.8}\n",
        "# 1 Best_hyperparameter_Xgb {'colsample_bytree': 1.0, 'gamma': 5, 'learning_rate': 0.05, 'max_depth': 3, 'min_child_weight': 1, 'subsample': 1.0}"
      ],
      "execution_count": null,
      "outputs": []
    }
  ]
}
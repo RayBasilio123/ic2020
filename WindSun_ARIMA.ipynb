{
  "nbformat": 4,
  "nbformat_minor": 0,
  "metadata": {
    "colab": {
      "name": "WindSun_ARIMA.ipynb",
      "provenance": [],
      "collapsed_sections": [],
      "include_colab_link": true
    },
    "kernelspec": {
      "name": "python3",
      "display_name": "Python 3"
    }
  },
  "cells": [
    {
      "cell_type": "markdown",
      "metadata": {
        "id": "view-in-github",
        "colab_type": "text"
      },
      "source": [
        "<a href=\"https://colab.research.google.com/github/RayBasilio123/ic2020/blob/main/WindSun_ARIMA.ipynb\" target=\"_parent\"><img src=\"https://colab.research.google.com/assets/colab-badge.svg\" alt=\"Open In Colab\"/></a>"
      ]
    },
    {
      "cell_type": "markdown",
      "metadata": {
        "id": "W6zRVi0HNF31"
      },
      "source": [
        "# Algoritmo ARIMA para Previsão de Séries Temporais com base nos dados do INMET"
      ]
    },
    {
      "cell_type": "markdown",
      "metadata": {
        "id": "9X2sSfSANQsf"
      },
      "source": [
        "## Obtendo os dados atráves do github"
      ]
    },
    {
      "cell_type": "code",
      "metadata": {
        "id": "Kbpd7SI2MUrk",
        "colab": {
          "base_uri": "https://localhost:8080/"
        },
        "outputId": "2c358a27-de9c-41f9-ee86-6c4bb67c56c7"
      },
      "source": [
        "#imports\n",
        "import pandas as pd\n",
        "import numpy as np\n",
        "from datetime import timedelta\n",
        "import statsmodels.api as sm\n",
        "import time"
      ],
      "execution_count": 1,
      "outputs": [
        {
          "output_type": "stream",
          "text": [
            "/usr/local/lib/python3.7/dist-packages/statsmodels/tools/_testing.py:19: FutureWarning: pandas.util.testing is deprecated. Use the functions in the public API at pandas.testing instead.\n",
            "  import pandas.util.testing as tm\n"
          ],
          "name": "stderr"
        }
      ]
    },
    {
      "cell_type": "code",
      "metadata": {
        "id": "I0vnWCO9MdHC"
      },
      "source": [
        "#obtem os dados\n",
        "url1 = 'https://raw.githubusercontent.com/lrssv/TimeSeriesForecastingWindSun/master/series_ventovel_pampulha_2018_2019'\n",
        "url2 = 'https://raw.githubusercontent.com/lrssv/TimeSeriesForecastingWindSun/master/series_radiacao_pampulha_2018_2019'\n",
        "url3 = 'https://raw.githubusercontent.com/RayBasilio123/R5/master/Eto'\n",
        "\n",
        "df_ventovel = pd.read_csv(url1, header=0, parse_dates=[0], index_col=0, squeeze=True)\n",
        "df_radiacao = pd.read_csv(url2, header=0, parse_dates=[0], index_col=0, squeeze=True)\n",
        "df_eto = pd.read_csv(url3, header=0, parse_dates=[0], index_col=0, squeeze=True)\n",
        "\n",
        "series_ventovel = pd.Series(df_ventovel)\n",
        "series_radiacao = pd.Series(df_radiacao)\n",
        "series_eto = pd.Series(df_eto)\n",
        "\n"
      ],
      "execution_count": 2,
      "outputs": []
    },
    {
      "cell_type": "markdown",
      "metadata": {
        "id": "MkYRtdxrNbsy"
      },
      "source": [
        "## SARIMAX \n"
      ]
    },
    {
      "cell_type": "code",
      "metadata": {
        "id": "2dT2fVGcEWoc"
      },
      "source": [
        "def run_arima(series, steps_ahead, configuracao):\n",
        "  result = []\n",
        "  \n",
        "  #Lista de data+hora que será previsto\n",
        "  begin = series.index.max() + timedelta(days=0)\n",
        "  date_list = [begin + timedelta(hours=x) for x in range(1,steps_ahead+1)]\n",
        "  \n",
        "  #Valores da série\n",
        "  values = series.values\n",
        "\n",
        "  #ARIMA\n",
        "  start_fit = time.time()\n",
        "  mod = sm.tsa.statespace.SARIMAX(values, order=configuracao)\n",
        "  res = mod.fit(disp=False)\n",
        "  t_fit = time.time() - start_fit\n",
        "  \n",
        "  start_fcast = time.time() \n",
        "  forecast = res.forecast(steps=steps_ahead)\n",
        "  t_fcast = time.time() - start_fcast \n",
        "  \n",
        "  #Resultado no formato para ser exibido no gráfico\n",
        "  for i in range(steps_ahead):\n",
        "    if forecast[i] < 0: \n",
        "      result.append([date_list[i].strftime('%d/%m/%Y %H:%M:%S'),0])\n",
        "    else:\n",
        "      result.append([date_list[i].strftime('%d/%m/%Y %H:%M:%S'),round((forecast[i]),3)])\n",
        "\n",
        "  return result, t_fit, t_fcast"
      ],
      "execution_count": 3,
      "outputs": []
    },
    {
      "cell_type": "code",
      "metadata": {
        "id": "Nfm-lP4XHmSs"
      },
      "source": [
        "def run_arimaDay(series, steps_ahead, configuracao):\n",
        "  result = []\n",
        "  \n",
        "  #Lista de data+hora que será previsto\n",
        "  begin = series.index.max() + timedelta(days=0)\n",
        "  date_list = [begin + timedelta(days=x) for x in range(1,steps_ahead+1)]\n",
        "  \n",
        "  #Valores da série\n",
        "  values = series.values\n",
        "\n",
        "  #ARIMA\n",
        "  start_fit = time.time()\n",
        "  mod = sm.tsa.statespace.SARIMAX(values, order=configuracao)\n",
        "  res = mod.fit(disp=False)\n",
        "  t_fit = time.time() - start_fit\n",
        "  \n",
        "  start_fcast = time.time() \n",
        "  forecast = res.forecast(steps=steps_ahead)\n",
        "  t_fcast = time.time() - start_fcast \n",
        "  \n",
        "  #Resultado no formato para ser exibido no gráfico\n",
        "  for i in range(steps_ahead):\n",
        "    if forecast[i] < 0: \n",
        "      result.append([date_list[i].strftime('%d/%m/%Y '),0])\n",
        "    else:\n",
        "      result.append([date_list[i].strftime('%d/%m/%Y '),round((forecast[i]),3)])\n",
        "\n",
        "  return result, t_fit, t_fcast"
      ],
      "execution_count": 4,
      "outputs": []
    },
    {
      "cell_type": "markdown",
      "metadata": {
        "id": "d9kgW_3xCKOd"
      },
      "source": [
        "Configurações:"
      ]
    },
    {
      "cell_type": "code",
      "metadata": {
        "id": "WG3ru75J6AuO"
      },
      "source": [
        "order_ven = (12,1,0)"
      ],
      "execution_count": 5,
      "outputs": []
    },
    {
      "cell_type": "code",
      "metadata": {
        "id": "wTPQvLr9CJBT"
      },
      "source": [
        "order_rad = (2,1,4) #auto"
      ],
      "execution_count": 6,
      "outputs": []
    },
    {
      "cell_type": "code",
      "metadata": {
        "id": "verv1hDkLSBz"
      },
      "source": [
        "order_rad = (24,0,24) #graficos\n",
        "order_eto1 = (6, 0, 41) #graficos\n",
        "order_eto2 = (5, 1, 2) #graficos"
      ],
      "execution_count": 7,
      "outputs": []
    },
    {
      "cell_type": "markdown",
      "metadata": {
        "id": "IJhNX0pzc0CC"
      },
      "source": [
        "## Previsão 1 hora a frente"
      ]
    },
    {
      "cell_type": "code",
      "metadata": {
        "id": "1LJbvvDJcziH",
        "colab": {
          "base_uri": "https://localhost:8080/"
        },
        "outputId": "448966ec-4252-4902-d5a9-d3c6c1d74eaf"
      },
      "source": [
        "result_ven_1 = run_arima(series_ventovel,1,order_ven)\n",
        "result_ven_1"
      ],
      "execution_count": 8,
      "outputs": [
        {
          "output_type": "execute_result",
          "data": {
            "text/plain": [
              "([['01/01/2020 00:00:00', 2.477]], 5.87084698677063, 0.25911760330200195)"
            ]
          },
          "metadata": {
            "tags": []
          },
          "execution_count": 8
        }
      ]
    },
    {
      "cell_type": "code",
      "metadata": {
        "id": "dWFu5llRc5Y4"
      },
      "source": [
        "result_rad_1 = run_arima(series_radiacao,1,order_rad)\n",
        "result_rad_1"
      ],
      "execution_count": null,
      "outputs": []
    },
    {
      "cell_type": "markdown",
      "metadata": {
        "id": "imQp2fgbuGT-"
      },
      "source": [
        "## Previsão 1 dia a frente"
      ]
    },
    {
      "cell_type": "code",
      "metadata": {
        "id": "b6YeCfpqXDXE"
      },
      "source": [
        "result_ven_1 = run_arima(series_ventovel,24,order_ven)\n",
        "result_ven_1"
      ],
      "execution_count": null,
      "outputs": []
    },
    {
      "cell_type": "code",
      "metadata": {
        "id": "frZrbKYzL4mm"
      },
      "source": [
        "result_rad_1 = run_arima(series_radiacao,24,order_rad)\n",
        "result_rad_1"
      ],
      "execution_count": null,
      "outputs": []
    },
    {
      "cell_type": "code",
      "metadata": {
        "id": "huB_cLz3vqIn",
        "colab": {
          "base_uri": "https://localhost:8080/"
        },
        "outputId": "21a3eaf1-ec62-480b-caf4-2f134b2c16e5"
      },
      "source": [
        "df_eto_1 = run_arimaDay(series_eto,1,order_eto2)\n",
        "df_eto_1"
      ],
      "execution_count": 10,
      "outputs": [
        {
          "output_type": "stream",
          "text": [
            "/usr/local/lib/python3.7/dist-packages/statsmodels/base/model.py:512: ConvergenceWarning: Maximum Likelihood optimization failed to converge. Check mle_retvals\n",
            "  \"Check mle_retvals\", ConvergenceWarning)\n"
          ],
          "name": "stderr"
        },
        {
          "output_type": "execute_result",
          "data": {
            "text/plain": [
              "([['01/01/2020 ', 5.587]], 2.088108777999878, 0.01197957992553711)"
            ]
          },
          "metadata": {
            "tags": []
          },
          "execution_count": 10
        }
      ]
    },
    {
      "cell_type": "markdown",
      "metadata": {
        "id": "Tilb661tiFkQ"
      },
      "source": [
        "## Previsão 3 dias a frente"
      ]
    },
    {
      "cell_type": "code",
      "metadata": {
        "id": "NajnNZl5iAem",
        "colab": {
          "base_uri": "https://localhost:8080/"
        },
        "outputId": "a59531be-1da2-4b08-dc8b-f7baa556da66"
      },
      "source": [
        "df_eto_2 = run_arimaDay(series_eto,3,order_eto2)\n",
        "df_eto_2"
      ],
      "execution_count": 12,
      "outputs": [
        {
          "output_type": "stream",
          "text": [
            "/usr/local/lib/python3.7/dist-packages/statsmodels/base/model.py:512: ConvergenceWarning: Maximum Likelihood optimization failed to converge. Check mle_retvals\n",
            "  \"Check mle_retvals\", ConvergenceWarning)\n"
          ],
          "name": "stderr"
        },
        {
          "output_type": "execute_result",
          "data": {
            "text/plain": [
              "([['01/01/2020 ', 5.587], ['02/01/2020 ', 5.49], ['03/01/2020 ', 5.551]],\n",
              " 2.055755853652954,\n",
              " 0.011348962783813477)"
            ]
          },
          "metadata": {
            "tags": []
          },
          "execution_count": 12
        }
      ]
    },
    {
      "cell_type": "markdown",
      "metadata": {
        "id": "TK7bOyHFMiD_"
      },
      "source": [
        "## Previsão 7 dias a frente"
      ]
    },
    {
      "cell_type": "code",
      "metadata": {
        "id": "o19IDS70Mkf-"
      },
      "source": [
        "result_ven_2 = run_arima(series_ventovel,168,order_ven)\n",
        "result_ven_2"
      ],
      "execution_count": null,
      "outputs": []
    },
    {
      "cell_type": "code",
      "metadata": {
        "id": "jyEdtiQtGM_O"
      },
      "source": [
        "result_rad_2 = run_arima(series_radiacao,168,order_rad)\n",
        "result_rad_2"
      ],
      "execution_count": null,
      "outputs": []
    },
    {
      "cell_type": "code",
      "metadata": {
        "id": "pq8m_Pl10H4F",
        "colab": {
          "base_uri": "https://localhost:8080/"
        },
        "outputId": "da153d19-f068-4b80-a026-6a24e23dca79"
      },
      "source": [
        "df_eto_3 = run_arimaDay(series_eto,7,order_eto2)\n",
        "df_eto_3"
      ],
      "execution_count": 13,
      "outputs": [
        {
          "output_type": "stream",
          "text": [
            "/usr/local/lib/python3.7/dist-packages/statsmodels/base/model.py:512: ConvergenceWarning: Maximum Likelihood optimization failed to converge. Check mle_retvals\n",
            "  \"Check mle_retvals\", ConvergenceWarning)\n"
          ],
          "name": "stderr"
        },
        {
          "output_type": "execute_result",
          "data": {
            "text/plain": [
              "([['01/01/2020 ', 5.587],\n",
              "  ['02/01/2020 ', 5.49],\n",
              "  ['03/01/2020 ', 5.551],\n",
              "  ['04/01/2020 ', 5.477],\n",
              "  ['05/01/2020 ', 5.544],\n",
              "  ['06/01/2020 ', 5.476],\n",
              "  ['07/01/2020 ', 5.542]],\n",
              " 2.0670478343963623,\n",
              " 0.012758016586303711)"
            ]
          },
          "metadata": {
            "tags": []
          },
          "execution_count": 13
        }
      ]
    },
    {
      "cell_type": "markdown",
      "metadata": {
        "id": "kXQU8COQAJBc"
      },
      "source": [
        "## Previsão 10 dias a frente"
      ]
    },
    {
      "cell_type": "code",
      "metadata": {
        "id": "eWzkJqNBBBks",
        "colab": {
          "base_uri": "https://localhost:8080/"
        },
        "outputId": "6c1a7dd0-b137-459a-9f65-179c467ac863"
      },
      "source": [
        "df_eto_4 = run_arimaDay(series_eto,10,order_eto2)\n",
        "df_eto_4"
      ],
      "execution_count": 14,
      "outputs": [
        {
          "output_type": "stream",
          "text": [
            "/usr/local/lib/python3.7/dist-packages/statsmodels/base/model.py:512: ConvergenceWarning: Maximum Likelihood optimization failed to converge. Check mle_retvals\n",
            "  \"Check mle_retvals\", ConvergenceWarning)\n"
          ],
          "name": "stderr"
        },
        {
          "output_type": "execute_result",
          "data": {
            "text/plain": [
              "([['01/01/2020 ', 5.587],\n",
              "  ['02/01/2020 ', 5.49],\n",
              "  ['03/01/2020 ', 5.551],\n",
              "  ['04/01/2020 ', 5.477],\n",
              "  ['05/01/2020 ', 5.544],\n",
              "  ['06/01/2020 ', 5.476],\n",
              "  ['07/01/2020 ', 5.542],\n",
              "  ['08/01/2020 ', 5.477],\n",
              "  ['09/01/2020 ', 5.54],\n",
              "  ['10/01/2020 ', 5.479]],\n",
              " 2.080641269683838,\n",
              " 0.012264490127563477)"
            ]
          },
          "metadata": {
            "tags": []
          },
          "execution_count": 14
        }
      ]
    }
  ]
}
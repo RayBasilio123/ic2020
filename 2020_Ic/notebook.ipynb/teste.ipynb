{
 "metadata": {
  "language_info": {
   "codemirror_mode": {
    "name": "ipython",
    "version": 3
   },
   "file_extension": ".py",
   "mimetype": "text/x-python",
   "name": "python",
   "nbconvert_exporter": "python",
   "pygments_lexer": "ipython3",
   "version": "3.8.3-final"
  },
  "orig_nbformat": 2,
  "kernelspec": {
   "name": "Python 3.8.3 32-bit",
   "display_name": "Python 3.8.3 32-bit",
   "metadata": {
    "interpreter": {
     "hash": "335176d596cc1b9abde03b20027db62d480f776616c7a0571a1be2c6ba50a797"
    }
   }
  }
 },
 "nbformat": 4,
 "nbformat_minor": 2,
 "cells": [
  {
   "cell_type": "code",
   "execution_count": 3,
   "metadata": {},
   "outputs": [],
   "source": [
    "import pandas as pd\n",
    "\n",
    "\n",
    "df = pd.read_csv('C:/Users/Ray/Documents/2020_Ic/file_name.csv')\n",
    "\n"
   ]
  },
  {
   "cell_type": "code",
   "execution_count": 5,
   "metadata": {},
   "outputs": [],
   "source": [
    "def altitude_estacoes():\n",
    "  url_todas_estacoes = 'https://apitempo.inmet.gov.br/estacoes/T'\n",
    "  req=requests.get(f'{url_todas_estacoes}')\n",
    "  resposta= json.loads(req.content)\n",
    "  print(resposta[0])\n",
    "  altitudes={}\n",
    "  for estacao in resposta:\n",
    "    altitudes[estacao['CD_ESTACAO']] = float(estacao['VL_ALTITUDE']) if(estacao['VL_ALTITUDE'] !=None ) else 10\n",
    "  return altitudes"
   ]
  },
  {
   "cell_type": "code",
   "execution_count": 7,
   "metadata": {},
   "outputs": [
    {
     "output_type": "execute_result",
     "data": {
      "text/plain": [
       "       Unnamed: 0        Data  Hora PRECIPITACAO_TOTAL PRESSAO_ATMOSFERICA  \\\n",
       "0               0  2018-01-01     0                  0               918,5   \n",
       "1               1  2018-01-01     1                  0               918,9   \n",
       "2               2  2018-01-01     2                  0               918,8   \n",
       "3               3  2018-01-01     3                  0               918,4   \n",
       "4               4  2018-01-01     4                  0               917,6   \n",
       "...           ...         ...   ...                ...                 ...   \n",
       "17515       17515  2019/12/31    19                  0               913,3   \n",
       "17516       17516  2019/12/31    20                  0               913,3   \n",
       "17517       17517  2019/12/31    21                  0               913,5   \n",
       "17518       17518  2019/12/31    22                  0                 914   \n",
       "17519       17519  2019/12/31    23                  0               914,4   \n",
       "\n",
       "      PRESSAO_ATMOSFERICA_MAX PRESSAO_ATMOSFERICA.1 RADIACAO  \\\n",
       "0                       918,5                 917,7    -9999   \n",
       "1                       918,9                 918,5    -9999   \n",
       "2                       919,2                 918,8    -9999   \n",
       "3                       918,8                 918,4    -9999   \n",
       "4                       918,4                 917,6    -9999   \n",
       "...                       ...                   ...      ...   \n",
       "17515                   913,8                 913,3   1747,2   \n",
       "17516                   913,4                 913,3    577,5   \n",
       "17517                   913,5                 913,2    655,5   \n",
       "17518                     914                 913,4       44   \n",
       "17519                   914,4                   914        0   \n",
       "\n",
       "      TEMPERATURA_DO_AR TEMPERATURA_DO_PONTO_DE_ORVALHO  ... TEMPERATURA_MIN  \\\n",
       "0                  21,7                              19  ...            21,6   \n",
       "1                  21,3                            19,4  ...              21   \n",
       "2                  21,7                            19,4  ...            21,2   \n",
       "3                  21,2                            19,3  ...            21,2   \n",
       "4                  20,8                            19,2  ...            20,8   \n",
       "...                 ...                             ...  ...             ...   \n",
       "17515              28,5                            14,5  ...            27,3   \n",
       "17516              26,2                            15,6  ...            25,9   \n",
       "17517              25,7                            16,1  ...            25,6   \n",
       "17518              24,9                            15,7  ...            24,8   \n",
       "17519                24                              16  ...              24   \n",
       "\n",
       "      TEMPERATURA_ORVALHO_MAX TEMPERATURA_ORVALHO_MIN UMIDADE_REL_MAX  \\\n",
       "0                        19,3                      17            85.0   \n",
       "1                        19,4                    18,9            89.0   \n",
       "2                        19,7                    19,3            89.0   \n",
       "3                        19,6                    19,2            89.0   \n",
       "4                        19,7                    19,2            91.0   \n",
       "...                       ...                     ...             ...   \n",
       "17515                      16                    13,2            50.0   \n",
       "17516                    16,1                    13,5            53.0   \n",
       "17517                    16,6                    15,6            56.0   \n",
       "17518                    16,2                    15,7            58.0   \n",
       "17519                    16,1                    15,7            61.0   \n",
       "\n",
       "       UMIDADE_REL_MIN  UMIDADE_RELATIVA_DO_AR  VENTO_DIRECAO_HORARIA  \\\n",
       "0                 71.0                      85                    342   \n",
       "1                 84.0                      89                    355   \n",
       "2                 86.0                      87                     39   \n",
       "3                 87.0                      89                     16   \n",
       "4                 89.0                      91                    348   \n",
       "...                ...                     ...                    ...   \n",
       "17515             38.0                      42                     72   \n",
       "17516             40.0                      52                    108   \n",
       "17517             52.0                      55                    109   \n",
       "17518             55.0                      57                     84   \n",
       "17519             57.0                      61                     88   \n",
       "\n",
       "       VENTO_RAJADA_MAX VENTO_VEL  Unnamed: 19  \n",
       "0                   2,3       0.7          0.0  \n",
       "1                   2,3       0.8          0.0  \n",
       "2                   1,3       0.6          0.0  \n",
       "3                   1,3       0.3          0.0  \n",
       "4                     2       0.3          0.0  \n",
       "...                 ...       ...          ...  \n",
       "17515                 5       1.9          0.0  \n",
       "17516               8,6       4.3          0.0  \n",
       "17517               8,6       3.1          0.0  \n",
       "17518               7,8       2.8          0.0  \n",
       "17519               6,7       2.1          0.0  \n",
       "\n",
       "[17520 rows x 21 columns]"
      ],
      "text/html": "<div>\n<style scoped>\n    .dataframe tbody tr th:only-of-type {\n        vertical-align: middle;\n    }\n\n    .dataframe tbody tr th {\n        vertical-align: top;\n    }\n\n    .dataframe thead th {\n        text-align: right;\n    }\n</style>\n<table border=\"1\" class=\"dataframe\">\n  <thead>\n    <tr style=\"text-align: right;\">\n      <th></th>\n      <th>Unnamed: 0</th>\n      <th>Data</th>\n      <th>Hora</th>\n      <th>PRECIPITACAO_TOTAL</th>\n      <th>PRESSAO_ATMOSFERICA</th>\n      <th>PRESSAO_ATMOSFERICA_MAX</th>\n      <th>PRESSAO_ATMOSFERICA.1</th>\n      <th>RADIACAO</th>\n      <th>TEMPERATURA_DO_AR</th>\n      <th>TEMPERATURA_DO_PONTO_DE_ORVALHO</th>\n      <th>...</th>\n      <th>TEMPERATURA_MIN</th>\n      <th>TEMPERATURA_ORVALHO_MAX</th>\n      <th>TEMPERATURA_ORVALHO_MIN</th>\n      <th>UMIDADE_REL_MAX</th>\n      <th>UMIDADE_REL_MIN</th>\n      <th>UMIDADE_RELATIVA_DO_AR</th>\n      <th>VENTO_DIRECAO_HORARIA</th>\n      <th>VENTO_RAJADA_MAX</th>\n      <th>VENTO_VEL</th>\n      <th>Unnamed: 19</th>\n    </tr>\n  </thead>\n  <tbody>\n    <tr>\n      <th>0</th>\n      <td>0</td>\n      <td>2018-01-01</td>\n      <td>0</td>\n      <td>0</td>\n      <td>918,5</td>\n      <td>918,5</td>\n      <td>917,7</td>\n      <td>-9999</td>\n      <td>21,7</td>\n      <td>19</td>\n      <td>...</td>\n      <td>21,6</td>\n      <td>19,3</td>\n      <td>17</td>\n      <td>85.0</td>\n      <td>71.0</td>\n      <td>85</td>\n      <td>342</td>\n      <td>2,3</td>\n      <td>0.7</td>\n      <td>0.0</td>\n    </tr>\n    <tr>\n      <th>1</th>\n      <td>1</td>\n      <td>2018-01-01</td>\n      <td>1</td>\n      <td>0</td>\n      <td>918,9</td>\n      <td>918,9</td>\n      <td>918,5</td>\n      <td>-9999</td>\n      <td>21,3</td>\n      <td>19,4</td>\n      <td>...</td>\n      <td>21</td>\n      <td>19,4</td>\n      <td>18,9</td>\n      <td>89.0</td>\n      <td>84.0</td>\n      <td>89</td>\n      <td>355</td>\n      <td>2,3</td>\n      <td>0.8</td>\n      <td>0.0</td>\n    </tr>\n    <tr>\n      <th>2</th>\n      <td>2</td>\n      <td>2018-01-01</td>\n      <td>2</td>\n      <td>0</td>\n      <td>918,8</td>\n      <td>919,2</td>\n      <td>918,8</td>\n      <td>-9999</td>\n      <td>21,7</td>\n      <td>19,4</td>\n      <td>...</td>\n      <td>21,2</td>\n      <td>19,7</td>\n      <td>19,3</td>\n      <td>89.0</td>\n      <td>86.0</td>\n      <td>87</td>\n      <td>39</td>\n      <td>1,3</td>\n      <td>0.6</td>\n      <td>0.0</td>\n    </tr>\n    <tr>\n      <th>3</th>\n      <td>3</td>\n      <td>2018-01-01</td>\n      <td>3</td>\n      <td>0</td>\n      <td>918,4</td>\n      <td>918,8</td>\n      <td>918,4</td>\n      <td>-9999</td>\n      <td>21,2</td>\n      <td>19,3</td>\n      <td>...</td>\n      <td>21,2</td>\n      <td>19,6</td>\n      <td>19,2</td>\n      <td>89.0</td>\n      <td>87.0</td>\n      <td>89</td>\n      <td>16</td>\n      <td>1,3</td>\n      <td>0.3</td>\n      <td>0.0</td>\n    </tr>\n    <tr>\n      <th>4</th>\n      <td>4</td>\n      <td>2018-01-01</td>\n      <td>4</td>\n      <td>0</td>\n      <td>917,6</td>\n      <td>918,4</td>\n      <td>917,6</td>\n      <td>-9999</td>\n      <td>20,8</td>\n      <td>19,2</td>\n      <td>...</td>\n      <td>20,8</td>\n      <td>19,7</td>\n      <td>19,2</td>\n      <td>91.0</td>\n      <td>89.0</td>\n      <td>91</td>\n      <td>348</td>\n      <td>2</td>\n      <td>0.3</td>\n      <td>0.0</td>\n    </tr>\n    <tr>\n      <th>...</th>\n      <td>...</td>\n      <td>...</td>\n      <td>...</td>\n      <td>...</td>\n      <td>...</td>\n      <td>...</td>\n      <td>...</td>\n      <td>...</td>\n      <td>...</td>\n      <td>...</td>\n      <td>...</td>\n      <td>...</td>\n      <td>...</td>\n      <td>...</td>\n      <td>...</td>\n      <td>...</td>\n      <td>...</td>\n      <td>...</td>\n      <td>...</td>\n      <td>...</td>\n      <td>...</td>\n    </tr>\n    <tr>\n      <th>17515</th>\n      <td>17515</td>\n      <td>2019/12/31</td>\n      <td>19</td>\n      <td>0</td>\n      <td>913,3</td>\n      <td>913,8</td>\n      <td>913,3</td>\n      <td>1747,2</td>\n      <td>28,5</td>\n      <td>14,5</td>\n      <td>...</td>\n      <td>27,3</td>\n      <td>16</td>\n      <td>13,2</td>\n      <td>50.0</td>\n      <td>38.0</td>\n      <td>42</td>\n      <td>72</td>\n      <td>5</td>\n      <td>1.9</td>\n      <td>0.0</td>\n    </tr>\n    <tr>\n      <th>17516</th>\n      <td>17516</td>\n      <td>2019/12/31</td>\n      <td>20</td>\n      <td>0</td>\n      <td>913,3</td>\n      <td>913,4</td>\n      <td>913,3</td>\n      <td>577,5</td>\n      <td>26,2</td>\n      <td>15,6</td>\n      <td>...</td>\n      <td>25,9</td>\n      <td>16,1</td>\n      <td>13,5</td>\n      <td>53.0</td>\n      <td>40.0</td>\n      <td>52</td>\n      <td>108</td>\n      <td>8,6</td>\n      <td>4.3</td>\n      <td>0.0</td>\n    </tr>\n    <tr>\n      <th>17517</th>\n      <td>17517</td>\n      <td>2019/12/31</td>\n      <td>21</td>\n      <td>0</td>\n      <td>913,5</td>\n      <td>913,5</td>\n      <td>913,2</td>\n      <td>655,5</td>\n      <td>25,7</td>\n      <td>16,1</td>\n      <td>...</td>\n      <td>25,6</td>\n      <td>16,6</td>\n      <td>15,6</td>\n      <td>56.0</td>\n      <td>52.0</td>\n      <td>55</td>\n      <td>109</td>\n      <td>8,6</td>\n      <td>3.1</td>\n      <td>0.0</td>\n    </tr>\n    <tr>\n      <th>17518</th>\n      <td>17518</td>\n      <td>2019/12/31</td>\n      <td>22</td>\n      <td>0</td>\n      <td>914</td>\n      <td>914</td>\n      <td>913,4</td>\n      <td>44</td>\n      <td>24,9</td>\n      <td>15,7</td>\n      <td>...</td>\n      <td>24,8</td>\n      <td>16,2</td>\n      <td>15,7</td>\n      <td>58.0</td>\n      <td>55.0</td>\n      <td>57</td>\n      <td>84</td>\n      <td>7,8</td>\n      <td>2.8</td>\n      <td>0.0</td>\n    </tr>\n    <tr>\n      <th>17519</th>\n      <td>17519</td>\n      <td>2019/12/31</td>\n      <td>23</td>\n      <td>0</td>\n      <td>914,4</td>\n      <td>914,4</td>\n      <td>914</td>\n      <td>0</td>\n      <td>24</td>\n      <td>16</td>\n      <td>...</td>\n      <td>24</td>\n      <td>16,1</td>\n      <td>15,7</td>\n      <td>61.0</td>\n      <td>57.0</td>\n      <td>61</td>\n      <td>88</td>\n      <td>6,7</td>\n      <td>2.1</td>\n      <td>0.0</td>\n    </tr>\n  </tbody>\n</table>\n<p>17520 rows × 21 columns</p>\n</div>"
     },
     "metadata": {},
     "execution_count": 7
    }
   ],
   "source": [
    "df\n"
   ]
  },
  {
   "cell_type": "code",
   "execution_count": null,
   "metadata": {},
   "outputs": [],
   "source": []
  }
 ]
}